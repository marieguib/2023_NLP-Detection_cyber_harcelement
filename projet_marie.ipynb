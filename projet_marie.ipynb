{
 "cells": [
  {
   "cell_type": "markdown",
   "metadata": {},
   "source": [
    " # Classification des avis sur des vêtements de femmes vendus dans le e-commerce"
   ]
  },
  {
   "cell_type": "markdown",
   "metadata": {},
   "source": [
    "- Est ce que les avis que l'on a des vêtements sont représentatifs de la note qui est attribuée ?\n",
    "\n",
    "Idées :\n",
    "- visualisation de données : quels types de vêtements ont les notes les plus élevées ?\n",
    "- nb d'avis donné selon l'âge des clients"
   ]
  },
  {
   "cell_type": "code",
   "execution_count": 67,
   "metadata": {},
   "outputs": [],
   "source": [
    "import pandas as pd\n",
    "import spacy\n",
    "import string\n",
    "from nltk.tokenize import RegexpTokenizer\n",
    "from nltk.stem import SnowballStemmer"
   ]
  },
  {
   "cell_type": "markdown",
   "metadata": {},
   "source": [
    "## I. Import des données"
   ]
  },
  {
   "cell_type": "markdown",
   "metadata": {},
   "source": [
    "Dans un premier temps, nous allons importer nos données. Notre base de données contient des informations sur des avis de vêtements femmes vendus sur internet. Ces données sont issus d'un processus de webscrapping."
   ]
  },
  {
   "cell_type": "code",
<<<<<<< HEAD
   "execution_count": 68,
=======
   "execution_count": 10,
>>>>>>> f728e8e3932a5fa9ce7fc81c8c83776515620870
   "metadata": {},
   "outputs": [
    {
     "data": {
      "text/html": [
       "<div>\n",
       "<style scoped>\n",
       "    .dataframe tbody tr th:only-of-type {\n",
       "        vertical-align: middle;\n",
       "    }\n",
       "\n",
       "    .dataframe tbody tr th {\n",
       "        vertical-align: top;\n",
       "    }\n",
       "\n",
       "    .dataframe thead th {\n",
       "        text-align: right;\n",
       "    }\n",
       "</style>\n",
       "<table border=\"1\" class=\"dataframe\">\n",
       "  <thead>\n",
       "    <tr style=\"text-align: right;\">\n",
       "      <th></th>\n",
       "      <th>id</th>\n",
       "      <th>Clothing ID</th>\n",
       "      <th>Age</th>\n",
       "      <th>Title</th>\n",
       "      <th>Review Text</th>\n",
       "      <th>Rating</th>\n",
       "      <th>Recommended IND</th>\n",
       "      <th>Positive Feedback Count</th>\n",
       "      <th>Division Name</th>\n",
       "      <th>Department Name</th>\n",
       "      <th>Class Name</th>\n",
       "    </tr>\n",
       "  </thead>\n",
       "  <tbody>\n",
       "    <tr>\n",
       "      <th>0</th>\n",
       "      <td>0</td>\n",
       "      <td>767</td>\n",
       "      <td>33</td>\n",
       "      <td>NaN</td>\n",
       "      <td>Absolutely wonderful - silky and sexy and comfortable</td>\n",
       "      <td>4</td>\n",
       "      <td>1</td>\n",
       "      <td>0</td>\n",
       "      <td>Initmates</td>\n",
       "      <td>Intimate</td>\n",
       "      <td>Intimates</td>\n",
       "    </tr>\n",
       "    <tr>\n",
       "      <th>1</th>\n",
       "      <td>1</td>\n",
       "      <td>1080</td>\n",
       "      <td>34</td>\n",
       "      <td>NaN</td>\n",
       "      <td>Love this dress!  it's sooo pretty.  i happened to find it in a store, and i'm glad i did bc i never would have ordered it online bc it's petite.  i bought a petite and am 5'8\".  i love the length on me- hits just a little below the knee.  would definitely be a true midi on someone who is truly petite.</td>\n",
       "      <td>5</td>\n",
       "      <td>1</td>\n",
       "      <td>4</td>\n",
       "      <td>General</td>\n",
       "      <td>Dresses</td>\n",
       "      <td>Dresses</td>\n",
       "    </tr>\n",
       "    <tr>\n",
       "      <th>2</th>\n",
       "      <td>2</td>\n",
       "      <td>1077</td>\n",
       "      <td>60</td>\n",
       "      <td>Some major design flaws</td>\n",
       "      <td>I had such high hopes for this dress and really wanted it to work for me. i initially ordered the petite small (my usual size) but i found this to be outrageously small. so small in fact that i could not zip it up! i reordered it in petite medium, which was just ok. overall, the top half was comfortable and fit nicely, but the bottom half had a very tight under layer and several somewhat cheap (net) over layers. imo, a major design flaw was the net over layer sewn directly into the zipper - it c</td>\n",
       "      <td>3</td>\n",
       "      <td>0</td>\n",
       "      <td>0</td>\n",
       "      <td>General</td>\n",
       "      <td>Dresses</td>\n",
       "      <td>Dresses</td>\n",
       "    </tr>\n",
       "    <tr>\n",
       "      <th>3</th>\n",
       "      <td>3</td>\n",
       "      <td>1049</td>\n",
       "      <td>50</td>\n",
       "      <td>My favorite buy!</td>\n",
       "      <td>I love, love, love this jumpsuit. it's fun, flirty, and fabulous! every time i wear it, i get nothing but great compliments!</td>\n",
       "      <td>5</td>\n",
       "      <td>1</td>\n",
       "      <td>0</td>\n",
       "      <td>General Petite</td>\n",
       "      <td>Bottoms</td>\n",
       "      <td>Pants</td>\n",
       "    </tr>\n",
       "    <tr>\n",
       "      <th>4</th>\n",
       "      <td>4</td>\n",
       "      <td>847</td>\n",
       "      <td>47</td>\n",
       "      <td>Flattering shirt</td>\n",
       "      <td>This shirt is very flattering to all due to the adjustable front tie. it is the perfect length to wear with leggings and it is sleeveless so it pairs well with any cardigan. love this shirt!!!</td>\n",
       "      <td>5</td>\n",
       "      <td>1</td>\n",
       "      <td>6</td>\n",
       "      <td>General</td>\n",
       "      <td>Tops</td>\n",
       "      <td>Blouses</td>\n",
       "    </tr>\n",
       "  </tbody>\n",
       "</table>\n",
       "</div>"
      ],
      "text/plain": [
       "   id  Clothing ID  Age                    Title  \\\n",
       "0   0          767   33                      NaN   \n",
       "1   1         1080   34                      NaN   \n",
       "2   2         1077   60  Some major design flaws   \n",
       "3   3         1049   50         My favorite buy!   \n",
       "4   4          847   47         Flattering shirt   \n",
       "\n",
       "                                                                                                                                                                                                                                                                                                                                                                                                                                                                                                            Review Text  \\\n",
       "0                                                                                                                                                                                                                                                                                                                                                                                                                                                                 Absolutely wonderful - silky and sexy and comfortable   \n",
       "1                                                                                                                                                                                                       Love this dress!  it's sooo pretty.  i happened to find it in a store, and i'm glad i did bc i never would have ordered it online bc it's petite.  i bought a petite and am 5'8\".  i love the length on me- hits just a little below the knee.  would definitely be a true midi on someone who is truly petite.   \n",
       "2  I had such high hopes for this dress and really wanted it to work for me. i initially ordered the petite small (my usual size) but i found this to be outrageously small. so small in fact that i could not zip it up! i reordered it in petite medium, which was just ok. overall, the top half was comfortable and fit nicely, but the bottom half had a very tight under layer and several somewhat cheap (net) over layers. imo, a major design flaw was the net over layer sewn directly into the zipper - it c   \n",
       "3                                                                                                                                                                                                                                                                                                                                                                                          I love, love, love this jumpsuit. it's fun, flirty, and fabulous! every time i wear it, i get nothing but great compliments!   \n",
       "4                                                                                                                                                                                                                                                                                                                      This shirt is very flattering to all due to the adjustable front tie. it is the perfect length to wear with leggings and it is sleeveless so it pairs well with any cardigan. love this shirt!!!   \n",
       "\n",
       "   Rating  Recommended IND  Positive Feedback Count   Division Name  \\\n",
       "0       4                1                        0       Initmates   \n",
       "1       5                1                        4         General   \n",
       "2       3                0                        0         General   \n",
       "3       5                1                        0  General Petite   \n",
       "4       5                1                        6         General   \n",
       "\n",
       "  Department Name Class Name  \n",
       "0        Intimate  Intimates  \n",
       "1         Dresses    Dresses  \n",
       "2         Dresses    Dresses  \n",
       "3         Bottoms      Pants  \n",
       "4            Tops    Blouses  "
      ]
     },
<<<<<<< HEAD
     "execution_count": 68,
=======
     "execution_count": 10,
>>>>>>> f728e8e3932a5fa9ce7fc81c8c83776515620870
     "metadata": {},
     "output_type": "execute_result"
    }
   ],
   "source": [
    "# Import des données\n",
    "data = pd.read_csv(\"Womens Clothing E-Commerce Reviews.csv\", sep = \",\")\n",
    "\n",
    "# Renomage première colonne pour pouvoir l'utiliser comme id par la suite\n",
    "data = data.rename(columns = {\"Unnamed: 0\" : \"id\"})\n",
    "\n",
    "# Affichage des 5 premières lignes\n",
    "data.head()"
   ]
  },
  {
   "cell_type": "code",
<<<<<<< HEAD
   "execution_count": 69,
=======
   "execution_count": 3,
>>>>>>> f728e8e3932a5fa9ce7fc81c8c83776515620870
   "metadata": {},
   "outputs": [
    {
     "data": {
      "text/plain": [
       "(23486, 11)"
      ]
     },
<<<<<<< HEAD
     "execution_count": 69,
=======
     "execution_count": 3,
>>>>>>> f728e8e3932a5fa9ce7fc81c8c83776515620870
     "metadata": {},
     "output_type": "execute_result"
    }
   ],
   "source": [
    "data.shape"
   ]
  },
  {
   "cell_type": "markdown",
   "metadata": {},
   "source": [
    "Notre jeu de données contient 23 486 avis et 11 colonnes. "
   ]
  },
  {
   "cell_type": "markdown",
   "metadata": {},
   "source": [
    "## II. Pré-traitement des données"
   ]
  },
  {
   "cell_type": "markdown",
   "metadata": {},
   "source": [
    "### Nettoyage des données"
   ]
  },
  {
   "cell_type": "markdown",
   "metadata": {},
   "source": [
    "Pour avoir des données plus propres, nous allons nettoyer notre base de données en :\n",
    "- mettant le texte en minuscules\n",
    "- supprimant la ponctuation\n",
    "\n",
    "Note : nous n'avons pas besoin de supprimer les caractères spéciaux car la langue anglaise n'en contient pas."
   ]
  },
  {
   "cell_type": "markdown",
   "metadata": {},
   "source": [
    "D'abord, nous allons convertir notre colonne 'Review Text' en chaîne de caractères pour pouvoir utiliser toutes les fonctions de pré-traitements."
   ]
  },
  {
   "cell_type": "code",
<<<<<<< HEAD
   "execution_count": 70,
=======
   "execution_count": 11,
>>>>>>> f728e8e3932a5fa9ce7fc81c8c83776515620870
   "metadata": {},
   "outputs": [
    {
     "data": {
      "text/plain": [
       "dtype('O')"
      ]
     },
<<<<<<< HEAD
     "execution_count": 70,
=======
     "execution_count": 11,
>>>>>>> f728e8e3932a5fa9ce7fc81c8c83776515620870
     "metadata": {},
     "output_type": "execute_result"
    }
   ],
   "source": [
    "data['Review Text'] = data['Review Text'].astype(str)\n",
    "data['Review Text'].dtype"
   ]
  },
  {
   "cell_type": "markdown",
   "metadata": {},
   "source": [
    "Dans un premier temps, nous allons mettre notre texte en minuscules."
   ]
  },
  {
   "cell_type": "code",
<<<<<<< HEAD
   "execution_count": 71,
=======
   "execution_count": 12,
>>>>>>> f728e8e3932a5fa9ce7fc81c8c83776515620870
   "metadata": {},
   "outputs": [
    {
     "data": {
      "text/html": [
       "<div>\n",
       "<style scoped>\n",
       "    .dataframe tbody tr th:only-of-type {\n",
       "        vertical-align: middle;\n",
       "    }\n",
       "\n",
       "    .dataframe tbody tr th {\n",
       "        vertical-align: top;\n",
       "    }\n",
       "\n",
       "    .dataframe thead th {\n",
       "        text-align: right;\n",
       "    }\n",
       "</style>\n",
       "<table border=\"1\" class=\"dataframe\">\n",
       "  <thead>\n",
       "    <tr style=\"text-align: right;\">\n",
       "      <th></th>\n",
       "      <th>id</th>\n",
       "      <th>Clothing ID</th>\n",
       "      <th>Age</th>\n",
       "      <th>Title</th>\n",
       "      <th>Review Text</th>\n",
       "      <th>Rating</th>\n",
       "      <th>Recommended IND</th>\n",
       "      <th>Positive Feedback Count</th>\n",
       "      <th>Division Name</th>\n",
       "      <th>Department Name</th>\n",
       "      <th>Class Name</th>\n",
       "    </tr>\n",
       "  </thead>\n",
       "  <tbody>\n",
       "    <tr>\n",
       "      <th>0</th>\n",
       "      <td>0</td>\n",
       "      <td>767</td>\n",
       "      <td>33</td>\n",
       "      <td>NaN</td>\n",
       "      <td>absolutely wonderful - silky and sexy and comfortable</td>\n",
       "      <td>4</td>\n",
       "      <td>1</td>\n",
       "      <td>0</td>\n",
       "      <td>Initmates</td>\n",
       "      <td>Intimate</td>\n",
       "      <td>Intimates</td>\n",
       "    </tr>\n",
       "    <tr>\n",
       "      <th>1</th>\n",
       "      <td>1</td>\n",
       "      <td>1080</td>\n",
       "      <td>34</td>\n",
       "      <td>NaN</td>\n",
       "      <td>love this dress!  it's sooo pretty.  i happened to find it in a store, and i'm glad i did bc i never would have ordered it online bc it's petite.  i bought a petite and am 5'8\".  i love the length on me- hits just a little below the knee.  would definitely be a true midi on someone who is truly petite.</td>\n",
       "      <td>5</td>\n",
       "      <td>1</td>\n",
       "      <td>4</td>\n",
       "      <td>General</td>\n",
       "      <td>Dresses</td>\n",
       "      <td>Dresses</td>\n",
       "    </tr>\n",
       "    <tr>\n",
       "      <th>2</th>\n",
       "      <td>2</td>\n",
       "      <td>1077</td>\n",
       "      <td>60</td>\n",
       "      <td>Some major design flaws</td>\n",
       "      <td>i had such high hopes for this dress and really wanted it to work for me. i initially ordered the petite small (my usual size) but i found this to be outrageously small. so small in fact that i could not zip it up! i reordered it in petite medium, which was just ok. overall, the top half was comfortable and fit nicely, but the bottom half had a very tight under layer and several somewhat cheap (net) over layers. imo, a major design flaw was the net over layer sewn directly into the zipper - it c</td>\n",
       "      <td>3</td>\n",
       "      <td>0</td>\n",
       "      <td>0</td>\n",
       "      <td>General</td>\n",
       "      <td>Dresses</td>\n",
       "      <td>Dresses</td>\n",
       "    </tr>\n",
       "    <tr>\n",
       "      <th>3</th>\n",
       "      <td>3</td>\n",
       "      <td>1049</td>\n",
       "      <td>50</td>\n",
       "      <td>My favorite buy!</td>\n",
       "      <td>i love, love, love this jumpsuit. it's fun, flirty, and fabulous! every time i wear it, i get nothing but great compliments!</td>\n",
       "      <td>5</td>\n",
       "      <td>1</td>\n",
       "      <td>0</td>\n",
       "      <td>General Petite</td>\n",
       "      <td>Bottoms</td>\n",
       "      <td>Pants</td>\n",
       "    </tr>\n",
       "    <tr>\n",
       "      <th>4</th>\n",
       "      <td>4</td>\n",
       "      <td>847</td>\n",
       "      <td>47</td>\n",
       "      <td>Flattering shirt</td>\n",
       "      <td>this shirt is very flattering to all due to the adjustable front tie. it is the perfect length to wear with leggings and it is sleeveless so it pairs well with any cardigan. love this shirt!!!</td>\n",
       "      <td>5</td>\n",
       "      <td>1</td>\n",
       "      <td>6</td>\n",
       "      <td>General</td>\n",
       "      <td>Tops</td>\n",
       "      <td>Blouses</td>\n",
       "    </tr>\n",
       "  </tbody>\n",
       "</table>\n",
       "</div>"
      ],
      "text/plain": [
       "   id  Clothing ID  Age                    Title  \\\n",
       "0   0          767   33                      NaN   \n",
       "1   1         1080   34                      NaN   \n",
       "2   2         1077   60  Some major design flaws   \n",
       "3   3         1049   50         My favorite buy!   \n",
       "4   4          847   47         Flattering shirt   \n",
       "\n",
       "                                                                                                                                                                                                                                                                                                                                                                                                                                                                                                            Review Text  \\\n",
       "0                                                                                                                                                                                                                                                                                                                                                                                                                                                                 absolutely wonderful - silky and sexy and comfortable   \n",
       "1                                                                                                                                                                                                       love this dress!  it's sooo pretty.  i happened to find it in a store, and i'm glad i did bc i never would have ordered it online bc it's petite.  i bought a petite and am 5'8\".  i love the length on me- hits just a little below the knee.  would definitely be a true midi on someone who is truly petite.   \n",
       "2  i had such high hopes for this dress and really wanted it to work for me. i initially ordered the petite small (my usual size) but i found this to be outrageously small. so small in fact that i could not zip it up! i reordered it in petite medium, which was just ok. overall, the top half was comfortable and fit nicely, but the bottom half had a very tight under layer and several somewhat cheap (net) over layers. imo, a major design flaw was the net over layer sewn directly into the zipper - it c   \n",
       "3                                                                                                                                                                                                                                                                                                                                                                                          i love, love, love this jumpsuit. it's fun, flirty, and fabulous! every time i wear it, i get nothing but great compliments!   \n",
       "4                                                                                                                                                                                                                                                                                                                      this shirt is very flattering to all due to the adjustable front tie. it is the perfect length to wear with leggings and it is sleeveless so it pairs well with any cardigan. love this shirt!!!   \n",
       "\n",
       "   Rating  Recommended IND  Positive Feedback Count   Division Name  \\\n",
       "0       4                1                        0       Initmates   \n",
       "1       5                1                        4         General   \n",
       "2       3                0                        0         General   \n",
       "3       5                1                        0  General Petite   \n",
       "4       5                1                        6         General   \n",
       "\n",
       "  Department Name Class Name  \n",
       "0        Intimate  Intimates  \n",
       "1         Dresses    Dresses  \n",
       "2         Dresses    Dresses  \n",
       "3         Bottoms      Pants  \n",
       "4            Tops    Blouses  "
      ]
     },
<<<<<<< HEAD
     "execution_count": 71,
=======
     "execution_count": 12,
>>>>>>> f728e8e3932a5fa9ce7fc81c8c83776515620870
     "metadata": {},
     "output_type": "execute_result"
    }
   ],
   "source": [
    "def lower_text(df, column_name): # Convertit en minuscules\n",
    "    df[column_name] = df[column_name].apply(lambda x: x.lower())\n",
    "    return df\n",
    "\n",
    "data = lower_text(data, 'Review Text')\n",
    "data.head()"
   ]
  },
  {
   "cell_type": "markdown",
   "metadata": {},
   "source": [
    "Ensuite, nous allons supprimer toute la ponctuation."
   ]
  },
  {
   "cell_type": "code",
<<<<<<< HEAD
   "execution_count": 72,
=======
   "execution_count": 6,
>>>>>>> f728e8e3932a5fa9ce7fc81c8c83776515620870
   "metadata": {},
   "outputs": [
    {
     "name": "stdout",
     "output_type": "stream",
     "text": [
<<<<<<< HEAD
      "Requirement already satisfied: spacy in c:\\users\\asus\\anaconda3\\lib\\site-packages (3.7.2)\n",
      "Requirement already satisfied: spacy-legacy<3.1.0,>=3.0.11 in c:\\users\\asus\\anaconda3\\lib\\site-packages (from spacy) (3.0.12)\n",
      "Requirement already satisfied: spacy-loggers<2.0.0,>=1.0.0 in c:\\users\\asus\\anaconda3\\lib\\site-packages (from spacy) (1.0.5)\n",
      "Requirement already satisfied: murmurhash<1.1.0,>=0.28.0 in c:\\users\\asus\\anaconda3\\lib\\site-packages (from spacy) (1.0.10)\n",
      "Requirement already satisfied: cymem<2.1.0,>=2.0.2 in c:\\users\\asus\\anaconda3\\lib\\site-packages (from spacy) (2.0.8)\n",
      "Requirement already satisfied: preshed<3.1.0,>=3.0.2 in c:\\users\\asus\\anaconda3\\lib\\site-packages (from spacy) (3.0.9)\n",
      "Requirement already satisfied: thinc<8.3.0,>=8.1.8 in c:\\users\\asus\\anaconda3\\lib\\site-packages (from spacy) (8.2.1)\n",
      "Requirement already satisfied: wasabi<1.2.0,>=0.9.1 in c:\\users\\asus\\anaconda3\\lib\\site-packages (from spacy) (1.1.2)\n",
      "Requirement already satisfied: srsly<3.0.0,>=2.4.3 in c:\\users\\asus\\anaconda3\\lib\\site-packages (from spacy) (2.4.8)\n",
      "Requirement already satisfied: catalogue<2.1.0,>=2.0.6 in c:\\users\\asus\\anaconda3\\lib\\site-packages (from spacy) (2.0.10)\n",
      "Requirement already satisfied: weasel<0.4.0,>=0.1.0 in c:\\users\\asus\\anaconda3\\lib\\site-packages (from spacy) (0.3.3)\n",
      "Requirement already satisfied: typer<0.10.0,>=0.3.0 in c:\\users\\asus\\anaconda3\\lib\\site-packages (from spacy) (0.9.0)\n",
      "Requirement already satisfied: smart-open<7.0.0,>=5.2.1 in c:\\users\\asus\\anaconda3\\lib\\site-packages (from spacy) (5.2.1)\n",
      "Requirement already satisfied: tqdm<5.0.0,>=4.38.0 in c:\\users\\asus\\anaconda3\\lib\\site-packages (from spacy) (4.65.0)\n",
      "Requirement already satisfied: requests<3.0.0,>=2.13.0 in c:\\users\\asus\\anaconda3\\lib\\site-packages (from spacy) (2.31.0)\n",
      "Requirement already satisfied: pydantic!=1.8,!=1.8.1,<3.0.0,>=1.7.4 in c:\\users\\asus\\anaconda3\\lib\\site-packages (from spacy) (1.10.8)\n",
      "Requirement already satisfied: jinja2 in c:\\users\\asus\\anaconda3\\lib\\site-packages (from spacy) (3.1.2)\n",
      "Requirement already satisfied: setuptools in c:\\users\\asus\\anaconda3\\lib\\site-packages (from spacy) (68.0.0)\n",
      "Requirement already satisfied: packaging>=20.0 in c:\\users\\asus\\appdata\\roaming\\python\\python311\\site-packages (from spacy) (23.2)\n",
      "Requirement already satisfied: langcodes<4.0.0,>=3.2.0 in c:\\users\\asus\\anaconda3\\lib\\site-packages (from spacy) (3.3.0)\n",
      "Requirement already satisfied: numpy>=1.19.0 in c:\\users\\asus\\anaconda3\\lib\\site-packages (from spacy) (1.24.3)\n",
      "Requirement already satisfied: typing-extensions>=4.2.0 in c:\\users\\asus\\anaconda3\\lib\\site-packages (from pydantic!=1.8,!=1.8.1,<3.0.0,>=1.7.4->spacy) (4.7.1)\n",
      "Requirement already satisfied: charset-normalizer<4,>=2 in c:\\users\\asus\\anaconda3\\lib\\site-packages (from requests<3.0.0,>=2.13.0->spacy) (2.0.4)\n",
      "Requirement already satisfied: idna<4,>=2.5 in c:\\users\\asus\\anaconda3\\lib\\site-packages (from requests<3.0.0,>=2.13.0->spacy) (3.4)\n",
      "Requirement already satisfied: urllib3<3,>=1.21.1 in c:\\users\\asus\\anaconda3\\lib\\site-packages (from requests<3.0.0,>=2.13.0->spacy) (1.26.16)\n",
      "Requirement already satisfied: certifi>=2017.4.17 in c:\\users\\asus\\anaconda3\\lib\\site-packages (from requests<3.0.0,>=2.13.0->spacy) (2023.7.22)\n",
      "Requirement already satisfied: blis<0.8.0,>=0.7.8 in c:\\users\\asus\\anaconda3\\lib\\site-packages (from thinc<8.3.0,>=8.1.8->spacy) (0.7.11)\n",
      "Requirement already satisfied: confection<1.0.0,>=0.0.1 in c:\\users\\asus\\anaconda3\\lib\\site-packages (from thinc<8.3.0,>=8.1.8->spacy) (0.1.3)\n",
      "Requirement already satisfied: colorama in c:\\users\\asus\\appdata\\roaming\\python\\python311\\site-packages (from tqdm<5.0.0,>=4.38.0->spacy) (0.4.6)\n",
      "Requirement already satisfied: click<9.0.0,>=7.1.1 in c:\\users\\asus\\anaconda3\\lib\\site-packages (from typer<0.10.0,>=0.3.0->spacy) (8.0.4)\n",
      "Requirement already satisfied: cloudpathlib<0.17.0,>=0.7.0 in c:\\users\\asus\\anaconda3\\lib\\site-packages (from weasel<0.4.0,>=0.1.0->spacy) (0.16.0)\n",
      "Requirement already satisfied: MarkupSafe>=2.0 in c:\\users\\asus\\anaconda3\\lib\\site-packages (from jinja2->spacy) (2.1.1)\n",
=======
      "Requirement already satisfied: spacy in c:\\users\\orian\\anaconda3\\lib\\site-packages (3.7.2)\n",
      "Requirement already satisfied: spacy-legacy<3.1.0,>=3.0.11 in c:\\users\\orian\\anaconda3\\lib\\site-packages (from spacy) (3.0.12)\n",
      "Requirement already satisfied: spacy-loggers<2.0.0,>=1.0.0 in c:\\users\\orian\\anaconda3\\lib\\site-packages (from spacy) (1.0.5)\n",
      "Requirement already satisfied: murmurhash<1.1.0,>=0.28.0 in c:\\users\\orian\\anaconda3\\lib\\site-packages (from spacy) (1.0.10)\n",
      "Requirement already satisfied: cymem<2.1.0,>=2.0.2 in c:\\users\\orian\\anaconda3\\lib\\site-packages (from spacy) (2.0.8)\n",
      "Requirement already satisfied: preshed<3.1.0,>=3.0.2 in c:\\users\\orian\\anaconda3\\lib\\site-packages (from spacy) (3.0.9)\n",
      "Requirement already satisfied: thinc<8.3.0,>=8.1.8 in c:\\users\\orian\\anaconda3\\lib\\site-packages (from spacy) (8.2.1)\n",
      "Requirement already satisfied: wasabi<1.2.0,>=0.9.1 in c:\\users\\orian\\anaconda3\\lib\\site-packages (from spacy) (1.1.2)\n",
      "Requirement already satisfied: srsly<3.0.0,>=2.4.3 in c:\\users\\orian\\anaconda3\\lib\\site-packages (from spacy) (2.4.8)\n",
      "Requirement already satisfied: catalogue<2.1.0,>=2.0.6 in c:\\users\\orian\\anaconda3\\lib\\site-packages (from spacy) (2.0.10)\n",
      "Requirement already satisfied: weasel<0.4.0,>=0.1.0 in c:\\users\\orian\\anaconda3\\lib\\site-packages (from spacy) (0.3.3)\n",
      "Requirement already satisfied: typer<0.10.0,>=0.3.0 in c:\\users\\orian\\anaconda3\\lib\\site-packages (from spacy) (0.9.0)\n",
      "Requirement already satisfied: smart-open<7.0.0,>=5.2.1 in c:\\users\\orian\\anaconda3\\lib\\site-packages (from spacy) (5.2.1)\n",
      "Requirement already satisfied: tqdm<5.0.0,>=4.38.0 in c:\\users\\orian\\anaconda3\\lib\\site-packages (from spacy) (4.65.0)\n",
      "Requirement already satisfied: requests<3.0.0,>=2.13.0 in c:\\users\\orian\\anaconda3\\lib\\site-packages (from spacy) (2.31.0)\n",
      "Requirement already satisfied: pydantic!=1.8,!=1.8.1,<3.0.0,>=1.7.4 in c:\\users\\orian\\anaconda3\\lib\\site-packages (from spacy) (2.4.2)\n",
      "Requirement already satisfied: jinja2 in c:\\users\\orian\\anaconda3\\lib\\site-packages (from spacy) (3.1.2)\n",
      "Requirement already satisfied: setuptools in c:\\users\\orian\\anaconda3\\lib\\site-packages (from spacy) (68.0.0)\n",
      "Requirement already satisfied: packaging>=20.0 in c:\\users\\orian\\anaconda3\\lib\\site-packages (from spacy) (23.0)\n",
      "Requirement already satisfied: langcodes<4.0.0,>=3.2.0 in c:\\users\\orian\\anaconda3\\lib\\site-packages (from spacy) (3.3.0)\n",
      "Requirement already satisfied: numpy>=1.19.0 in c:\\users\\orian\\anaconda3\\lib\\site-packages (from spacy) (1.24.3)\n",
      "Requirement already satisfied: annotated-types>=0.4.0 in c:\\users\\orian\\anaconda3\\lib\\site-packages (from pydantic!=1.8,!=1.8.1,<3.0.0,>=1.7.4->spacy) (0.6.0)\n",
      "Requirement already satisfied: pydantic-core==2.10.1 in c:\\users\\orian\\anaconda3\\lib\\site-packages (from pydantic!=1.8,!=1.8.1,<3.0.0,>=1.7.4->spacy) (2.10.1)\n",
      "Requirement already satisfied: typing-extensions>=4.6.1 in c:\\users\\orian\\anaconda3\\lib\\site-packages (from pydantic!=1.8,!=1.8.1,<3.0.0,>=1.7.4->spacy) (4.7.1)\n",
      "Requirement already satisfied: charset-normalizer<4,>=2 in c:\\users\\orian\\anaconda3\\lib\\site-packages (from requests<3.0.0,>=2.13.0->spacy) (2.0.4)\n",
      "Requirement already satisfied: idna<4,>=2.5 in c:\\users\\orian\\anaconda3\\lib\\site-packages (from requests<3.0.0,>=2.13.0->spacy) (3.4)\n",
      "Requirement already satisfied: urllib3<3,>=1.21.1 in c:\\users\\orian\\anaconda3\\lib\\site-packages (from requests<3.0.0,>=2.13.0->spacy) (1.26.16)\n",
      "Requirement already satisfied: certifi>=2017.4.17 in c:\\users\\orian\\anaconda3\\lib\\site-packages (from requests<3.0.0,>=2.13.0->spacy) (2023.7.22)\n",
      "Requirement already satisfied: blis<0.8.0,>=0.7.8 in c:\\users\\orian\\anaconda3\\lib\\site-packages (from thinc<8.3.0,>=8.1.8->spacy) (0.7.11)\n",
      "Requirement already satisfied: confection<1.0.0,>=0.0.1 in c:\\users\\orian\\anaconda3\\lib\\site-packages (from thinc<8.3.0,>=8.1.8->spacy) (0.1.3)\n",
      "Requirement already satisfied: colorama in c:\\users\\orian\\anaconda3\\lib\\site-packages (from tqdm<5.0.0,>=4.38.0->spacy) (0.4.6)\n",
      "Requirement already satisfied: click<9.0.0,>=7.1.1 in c:\\users\\orian\\anaconda3\\lib\\site-packages (from typer<0.10.0,>=0.3.0->spacy) (8.0.4)\n",
      "Requirement already satisfied: cloudpathlib<0.17.0,>=0.7.0 in c:\\users\\orian\\anaconda3\\lib\\site-packages (from weasel<0.4.0,>=0.1.0->spacy) (0.16.0)\n",
      "Requirement already satisfied: MarkupSafe>=2.0 in c:\\users\\orian\\anaconda3\\lib\\site-packages (from jinja2->spacy) (2.1.1)\n",
>>>>>>> f728e8e3932a5fa9ce7fc81c8c83776515620870
      "\n",
      "⠙ Loading compatibility table...\n",
      "⠹ Loading compatibility table...\n",
      "⠸ Loading compatibility table...\n",
<<<<<<< HEAD
      "⠼ Loading compatibility table...\n",
=======
>>>>>>> f728e8e3932a5fa9ce7fc81c8c83776515620870
      "\u001b[2K\u001b[38;5;2m✔ Loaded compatibility table\u001b[0m\n",
      "\u001b[1m\n",
      "================= Installed pipeline packages (spaCy v3.7.2) =================\u001b[0m\n",
      "\u001b[38;5;4mℹ spaCy installation:\n",
<<<<<<< HEAD
      "c:\\Users\\ASUS\\anaconda3\\Lib\\site-packages\\spacy\u001b[0m\n",
=======
      "c:\\Users\\orian\\anaconda3\\Lib\\site-packages\\spacy\u001b[0m\n",
>>>>>>> f728e8e3932a5fa9ce7fc81c8c83776515620870
      "\n",
      "NAME              SPACY            VERSION                            \n",
      "en_core_web_sm    >=3.7.2,<3.8.0   \u001b[38;5;2m3.7.1\u001b[0m   \u001b[38;5;2m✔\u001b[0m\n",
      "fr_core_news_sm   >=3.7.0,<3.8.0   \u001b[38;5;2m3.7.0\u001b[0m   \u001b[38;5;2m✔\u001b[0m\n",
      "\n",
      "Collecting en-core-web-sm==3.7.1\n",
      "  Downloading https://github.com/explosion/spacy-models/releases/download/en_core_web_sm-3.7.1/en_core_web_sm-3.7.1-py3-none-any.whl (12.8 MB)\n",
      "     ---------------------------------------- 0.0/12.8 MB ? eta -:--:--\n",
<<<<<<< HEAD
      "     ---------------------------------------- 0.0/12.8 MB ? eta -:--:--\n",
      "     --------------------------------------- 0.0/12.8 MB 435.7 kB/s eta 0:00:30\n",
      "     --------------------------------------- 0.1/12.8 MB 871.5 kB/s eta 0:00:15\n",
      "     --------------------------------------- 0.1/12.8 MB 901.1 kB/s eta 0:00:15\n",
      "     --------------------------------------- 0.1/12.8 MB 901.1 kB/s eta 0:00:15\n",
      "      --------------------------------------- 0.3/12.8 MB 1.1 MB/s eta 0:00:12\n",
      "      -------------------------------------- 0.3/12.8 MB 980.4 kB/s eta 0:00:13\n",
      "     - -------------------------------------- 0.4/12.8 MB 1.1 MB/s eta 0:00:12\n",
      "     - -------------------------------------- 0.4/12.8 MB 1.1 MB/s eta 0:00:12\n",
      "     - -------------------------------------- 0.5/12.8 MB 1.1 MB/s eta 0:00:11\n",
      "     - -------------------------------------- 0.6/12.8 MB 1.2 MB/s eta 0:00:10\n",
      "     - -------------------------------------- 0.6/12.8 MB 1.3 MB/s eta 0:00:10\n",
      "     -- ------------------------------------- 0.7/12.8 MB 1.3 MB/s eta 0:00:10\n",
      "     -- ------------------------------------- 0.7/12.8 MB 1.3 MB/s eta 0:00:10\n",
      "     -- ------------------------------------- 0.8/12.8 MB 1.3 MB/s eta 0:00:10\n",
      "     -- ------------------------------------- 0.9/12.8 MB 1.3 MB/s eta 0:00:10\n",
      "     -- ------------------------------------- 0.9/12.8 MB 1.3 MB/s eta 0:00:09\n",
      "     --- ------------------------------------ 1.0/12.8 MB 1.4 MB/s eta 0:00:09\n",
      "     --- ------------------------------------ 1.0/12.8 MB 1.4 MB/s eta 0:00:09\n",
      "     --- ------------------------------------ 1.1/12.8 MB 1.4 MB/s eta 0:00:09\n",
      "     --- ------------------------------------ 1.2/12.8 MB 1.4 MB/s eta 0:00:09\n",
      "     --- ------------------------------------ 1.2/12.8 MB 1.4 MB/s eta 0:00:09\n",
      "     ---- ----------------------------------- 1.3/12.8 MB 1.4 MB/s eta 0:00:09\n",
      "     ---- ----------------------------------- 1.4/12.8 MB 1.4 MB/s eta 0:00:09\n",
      "     ---- ----------------------------------- 1.4/12.8 MB 1.4 MB/s eta 0:00:09\n",
      "     ---- ----------------------------------- 1.5/12.8 MB 1.4 MB/s eta 0:00:08\n",
      "     ---- ----------------------------------- 1.5/12.8 MB 1.4 MB/s eta 0:00:08\n",
      "     ----- ---------------------------------- 1.6/12.8 MB 1.4 MB/s eta 0:00:08\n",
      "     ----- ---------------------------------- 1.7/12.8 MB 1.4 MB/s eta 0:00:08\n",
      "     ----- ---------------------------------- 1.8/12.8 MB 1.4 MB/s eta 0:00:08\n",
      "     ----- ---------------------------------- 1.8/12.8 MB 1.4 MB/s eta 0:00:08\n",
      "     ----- ---------------------------------- 1.9/12.8 MB 1.5 MB/s eta 0:00:08\n",
      "     ------ --------------------------------- 2.0/12.8 MB 1.4 MB/s eta 0:00:08\n",
      "     ------ --------------------------------- 2.0/12.8 MB 1.5 MB/s eta 0:00:08\n",
      "     ------ --------------------------------- 2.1/12.8 MB 1.5 MB/s eta 0:00:08\n",
      "     ------ --------------------------------- 2.2/12.8 MB 1.5 MB/s eta 0:00:08\n",
      "     ------ --------------------------------- 2.2/12.8 MB 1.5 MB/s eta 0:00:08\n",
      "     ------- -------------------------------- 2.3/12.8 MB 1.5 MB/s eta 0:00:08\n",
      "     ------- -------------------------------- 2.4/12.8 MB 1.5 MB/s eta 0:00:08\n",
      "     ------- -------------------------------- 2.4/12.8 MB 1.5 MB/s eta 0:00:08\n",
      "     ------- -------------------------------- 2.5/12.8 MB 1.5 MB/s eta 0:00:07\n",
      "     ------- -------------------------------- 2.6/12.8 MB 1.5 MB/s eta 0:00:07\n",
      "     -------- ------------------------------- 2.6/12.8 MB 1.5 MB/s eta 0:00:07\n",
      "     -------- ------------------------------- 2.7/12.8 MB 1.5 MB/s eta 0:00:07\n",
      "     -------- ------------------------------- 2.8/12.8 MB 1.5 MB/s eta 0:00:07\n",
      "     -------- ------------------------------- 2.8/12.8 MB 1.5 MB/s eta 0:00:07\n",
      "     --------- ------------------------------ 2.9/12.8 MB 1.5 MB/s eta 0:00:07\n",
      "     --------- ------------------------------ 3.0/12.8 MB 1.5 MB/s eta 0:00:07\n",
      "     --------- ------------------------------ 3.0/12.8 MB 1.5 MB/s eta 0:00:07\n",
      "     --------- ------------------------------ 3.1/12.8 MB 1.5 MB/s eta 0:00:07\n",
      "     --------- ------------------------------ 3.2/12.8 MB 1.5 MB/s eta 0:00:07\n",
      "     ---------- ----------------------------- 3.2/12.8 MB 1.5 MB/s eta 0:00:07\n",
      "     ---------- ----------------------------- 3.3/12.8 MB 1.5 MB/s eta 0:00:07\n",
      "     ---------- ----------------------------- 3.4/12.8 MB 1.5 MB/s eta 0:00:07\n",
      "     ---------- ----------------------------- 3.4/12.8 MB 1.5 MB/s eta 0:00:07\n",
      "     ---------- ----------------------------- 3.5/12.8 MB 1.5 MB/s eta 0:00:07\n",
      "     ----------- ---------------------------- 3.6/12.8 MB 1.5 MB/s eta 0:00:07\n",
      "     ----------- ---------------------------- 3.6/12.8 MB 1.5 MB/s eta 0:00:07\n",
      "     ----------- ---------------------------- 3.7/12.8 MB 1.5 MB/s eta 0:00:07\n",
      "     ----------- ---------------------------- 3.7/12.8 MB 1.5 MB/s eta 0:00:07\n",
      "     ----------- ---------------------------- 3.8/12.8 MB 1.5 MB/s eta 0:00:06\n",
      "     ------------ --------------------------- 3.9/12.8 MB 1.5 MB/s eta 0:00:06\n",
      "     ------------ --------------------------- 3.9/12.8 MB 1.5 MB/s eta 0:00:06\n",
      "     ------------ --------------------------- 4.0/12.8 MB 1.5 MB/s eta 0:00:06\n",
      "     ------------ --------------------------- 4.1/12.8 MB 1.5 MB/s eta 0:00:06\n",
      "     ------------ --------------------------- 4.1/12.8 MB 1.5 MB/s eta 0:00:06\n",
      "     ------------- -------------------------- 4.2/12.8 MB 1.5 MB/s eta 0:00:06\n",
      "     ------------- -------------------------- 4.3/12.8 MB 1.5 MB/s eta 0:00:06\n",
      "     ------------- -------------------------- 4.3/12.8 MB 1.5 MB/s eta 0:00:06\n",
      "     ------------- -------------------------- 4.4/12.8 MB 1.5 MB/s eta 0:00:06\n",
      "     ------------- -------------------------- 4.5/12.8 MB 1.5 MB/s eta 0:00:06\n",
      "     -------------- ------------------------- 4.5/12.8 MB 1.5 MB/s eta 0:00:06\n",
      "     -------------- ------------------------- 4.6/12.8 MB 1.5 MB/s eta 0:00:06\n",
      "     -------------- ------------------------- 4.6/12.8 MB 1.5 MB/s eta 0:00:06\n",
      "     -------------- ------------------------- 4.7/12.8 MB 1.5 MB/s eta 0:00:06\n",
      "     -------------- ------------------------- 4.8/12.8 MB 1.5 MB/s eta 0:00:06\n",
      "     --------------- ------------------------ 4.8/12.8 MB 1.5 MB/s eta 0:00:06\n",
      "     --------------- ------------------------ 4.9/12.8 MB 1.5 MB/s eta 0:00:06\n",
      "     --------------- ------------------------ 5.0/12.8 MB 1.5 MB/s eta 0:00:06\n",
      "     --------------- ------------------------ 5.0/12.8 MB 1.5 MB/s eta 0:00:06\n",
      "     --------------- ------------------------ 5.1/12.8 MB 1.5 MB/s eta 0:00:06\n",
      "     ---------------- ----------------------- 5.2/12.8 MB 1.5 MB/s eta 0:00:06\n",
      "     ---------------- ----------------------- 5.2/12.8 MB 1.5 MB/s eta 0:00:05\n",
      "     ---------------- ----------------------- 5.3/12.8 MB 1.5 MB/s eta 0:00:05\n",
      "     ---------------- ----------------------- 5.4/12.8 MB 1.5 MB/s eta 0:00:05\n",
      "     ---------------- ----------------------- 5.4/12.8 MB 1.5 MB/s eta 0:00:05\n",
      "     ----------------- ---------------------- 5.5/12.8 MB 1.5 MB/s eta 0:00:05\n",
      "     ----------------- ---------------------- 5.5/12.8 MB 1.5 MB/s eta 0:00:05\n",
      "     ----------------- ---------------------- 5.6/12.8 MB 1.5 MB/s eta 0:00:05\n",
      "     ----------------- ---------------------- 5.7/12.8 MB 1.5 MB/s eta 0:00:05\n",
      "     ----------------- ---------------------- 5.7/12.8 MB 1.5 MB/s eta 0:00:05\n",
      "     ------------------ --------------------- 5.8/12.8 MB 1.5 MB/s eta 0:00:05\n",
      "     ------------------ --------------------- 5.8/12.8 MB 1.5 MB/s eta 0:00:05\n",
      "     ------------------ --------------------- 5.9/12.8 MB 1.5 MB/s eta 0:00:05\n",
      "     ------------------ --------------------- 5.9/12.8 MB 1.5 MB/s eta 0:00:05\n",
      "     ------------------ --------------------- 6.0/12.8 MB 1.5 MB/s eta 0:00:05\n",
      "     ------------------- -------------------- 6.1/12.8 MB 1.5 MB/s eta 0:00:05\n",
      "     ------------------- -------------------- 6.2/12.8 MB 1.5 MB/s eta 0:00:05\n",
      "     ------------------- -------------------- 6.2/12.8 MB 1.5 MB/s eta 0:00:05\n",
      "     ------------------- -------------------- 6.3/12.8 MB 1.5 MB/s eta 0:00:05\n",
      "     ------------------- -------------------- 6.3/12.8 MB 1.5 MB/s eta 0:00:05\n",
      "     ------------------- -------------------- 6.4/12.8 MB 1.5 MB/s eta 0:00:05\n",
      "     -------------------- ------------------- 6.5/12.8 MB 1.5 MB/s eta 0:00:05\n",
      "     -------------------- ------------------- 6.5/12.8 MB 1.5 MB/s eta 0:00:05\n",
      "     -------------------- ------------------- 6.6/12.8 MB 1.5 MB/s eta 0:00:05\n",
      "     -------------------- ------------------- 6.6/12.8 MB 1.5 MB/s eta 0:00:05\n",
      "     -------------------- ------------------- 6.7/12.8 MB 1.5 MB/s eta 0:00:04\n",
      "     --------------------- ------------------ 6.8/12.8 MB 1.5 MB/s eta 0:00:04\n",
      "     --------------------- ------------------ 6.8/12.8 MB 1.5 MB/s eta 0:00:04\n",
      "     --------------------- ------------------ 6.9/12.8 MB 1.5 MB/s eta 0:00:04\n",
      "     --------------------- ------------------ 7.0/12.8 MB 1.5 MB/s eta 0:00:04\n",
      "     --------------------- ------------------ 7.0/12.8 MB 1.5 MB/s eta 0:00:04\n",
      "     ---------------------- ----------------- 7.1/12.8 MB 1.5 MB/s eta 0:00:04\n",
      "     ---------------------- ----------------- 7.1/12.8 MB 1.5 MB/s eta 0:00:04\n",
      "     ---------------------- ----------------- 7.2/12.8 MB 1.5 MB/s eta 0:00:04\n",
      "     ---------------------- ----------------- 7.3/12.8 MB 1.5 MB/s eta 0:00:04\n",
      "     ---------------------- ----------------- 7.3/12.8 MB 1.5 MB/s eta 0:00:04\n",
      "     ----------------------- ---------------- 7.4/12.8 MB 1.5 MB/s eta 0:00:04\n",
      "     ----------------------- ---------------- 7.5/12.8 MB 1.5 MB/s eta 0:00:04\n",
      "     ----------------------- ---------------- 7.5/12.8 MB 1.5 MB/s eta 0:00:04\n",
      "     ----------------------- ---------------- 7.6/12.8 MB 1.5 MB/s eta 0:00:04\n",
      "     ----------------------- ---------------- 7.6/12.8 MB 1.5 MB/s eta 0:00:04\n",
      "     ------------------------ --------------- 7.7/12.8 MB 1.5 MB/s eta 0:00:04\n",
      "     ------------------------ --------------- 7.7/12.8 MB 1.5 MB/s eta 0:00:04\n",
      "     ------------------------ --------------- 7.8/12.8 MB 1.5 MB/s eta 0:00:04\n",
      "     ------------------------ --------------- 7.9/12.8 MB 1.5 MB/s eta 0:00:04\n",
      "     ------------------------ --------------- 7.9/12.8 MB 1.5 MB/s eta 0:00:04\n",
      "     ------------------------- -------------- 8.0/12.8 MB 1.5 MB/s eta 0:00:04\n",
      "     ------------------------- -------------- 8.1/12.8 MB 1.5 MB/s eta 0:00:04\n",
      "     ------------------------- -------------- 8.1/12.8 MB 1.5 MB/s eta 0:00:04\n",
      "     ------------------------- -------------- 8.2/12.8 MB 1.5 MB/s eta 0:00:03\n",
      "     ------------------------- -------------- 8.3/12.8 MB 1.5 MB/s eta 0:00:03\n",
      "     ------------------------- -------------- 8.3/12.8 MB 1.5 MB/s eta 0:00:03\n",
      "     -------------------------- ------------- 8.4/12.8 MB 1.5 MB/s eta 0:00:03\n",
      "     -------------------------- ------------- 8.4/12.8 MB 1.5 MB/s eta 0:00:03\n",
      "     -------------------------- ------------- 8.5/12.8 MB 1.5 MB/s eta 0:00:03\n",
      "     -------------------------- ------------- 8.6/12.8 MB 1.5 MB/s eta 0:00:03\n",
      "     --------------------------- ------------ 8.7/12.8 MB 1.5 MB/s eta 0:00:03\n",
      "     --------------------------- ------------ 8.7/12.8 MB 1.5 MB/s eta 0:00:03\n",
      "     --------------------------- ------------ 8.8/12.8 MB 1.5 MB/s eta 0:00:03\n",
      "     --------------------------- ------------ 8.9/12.8 MB 1.5 MB/s eta 0:00:03\n",
      "     --------------------------- ------------ 8.9/12.8 MB 1.5 MB/s eta 0:00:03\n",
      "     ---------------------------- ----------- 9.0/12.8 MB 1.5 MB/s eta 0:00:03\n",
      "     ---------------------------- ----------- 9.1/12.8 MB 1.5 MB/s eta 0:00:03\n",
      "     ---------------------------- ----------- 9.1/12.8 MB 1.5 MB/s eta 0:00:03\n",
      "     ---------------------------- ----------- 9.2/12.8 MB 1.5 MB/s eta 0:00:03\n",
      "     ---------------------------- ----------- 9.2/12.8 MB 1.5 MB/s eta 0:00:03\n",
      "     ----------------------------- ---------- 9.3/12.8 MB 1.5 MB/s eta 0:00:03\n",
      "     ----------------------------- ---------- 9.4/12.8 MB 1.5 MB/s eta 0:00:03\n",
      "     ----------------------------- ---------- 9.4/12.8 MB 1.5 MB/s eta 0:00:03\n",
      "     ----------------------------- ---------- 9.5/12.8 MB 1.5 MB/s eta 0:00:03\n",
      "     ----------------------------- ---------- 9.6/12.8 MB 1.5 MB/s eta 0:00:03\n",
      "     ------------------------------ --------- 9.6/12.8 MB 1.5 MB/s eta 0:00:03\n",
      "     ------------------------------ --------- 9.7/12.8 MB 1.5 MB/s eta 0:00:03\n",
      "     ------------------------------ --------- 9.8/12.8 MB 1.5 MB/s eta 0:00:02\n",
      "     ------------------------------ --------- 9.8/12.8 MB 1.5 MB/s eta 0:00:02\n",
      "     ------------------------------ --------- 9.9/12.8 MB 1.5 MB/s eta 0:00:02\n",
      "     ------------------------------- -------- 9.9/12.8 MB 1.5 MB/s eta 0:00:02\n",
      "     ------------------------------- -------- 10.0/12.8 MB 1.5 MB/s eta 0:00:02\n",
      "     ------------------------------- -------- 10.1/12.8 MB 1.5 MB/s eta 0:00:02\n",
      "     ------------------------------- -------- 10.1/12.8 MB 1.5 MB/s eta 0:00:02\n",
      "     ------------------------------- -------- 10.2/12.8 MB 1.5 MB/s eta 0:00:02\n",
      "     -------------------------------- ------- 10.3/12.8 MB 1.6 MB/s eta 0:00:02\n",
      "     -------------------------------- ------- 10.3/12.8 MB 1.6 MB/s eta 0:00:02\n",
      "     -------------------------------- ------- 10.4/12.8 MB 1.6 MB/s eta 0:00:02\n",
      "     -------------------------------- ------- 10.5/12.8 MB 1.6 MB/s eta 0:00:02\n",
      "     -------------------------------- ------- 10.5/12.8 MB 1.6 MB/s eta 0:00:02\n",
      "     --------------------------------- ------ 10.6/12.8 MB 1.6 MB/s eta 0:00:02\n",
      "     --------------------------------- ------ 10.6/12.8 MB 1.6 MB/s eta 0:00:02\n",
      "     --------------------------------- ------ 10.7/12.8 MB 1.6 MB/s eta 0:00:02\n",
      "     --------------------------------- ------ 10.8/12.8 MB 1.6 MB/s eta 0:00:02\n",
      "     --------------------------------- ------ 10.8/12.8 MB 1.6 MB/s eta 0:00:02\n",
      "     --------------------------------- ------ 10.9/12.8 MB 1.6 MB/s eta 0:00:02\n",
      "     ---------------------------------- ----- 10.9/12.8 MB 1.6 MB/s eta 0:00:02\n",
      "     ---------------------------------- ----- 11.0/12.8 MB 1.6 MB/s eta 0:00:02\n",
      "     ---------------------------------- ----- 11.1/12.8 MB 1.6 MB/s eta 0:00:02\n",
      "     ---------------------------------- ----- 11.1/12.8 MB 1.6 MB/s eta 0:00:02\n",
      "     ---------------------------------- ----- 11.2/12.8 MB 1.6 MB/s eta 0:00:02\n",
      "     ----------------------------------- ---- 11.3/12.8 MB 1.6 MB/s eta 0:00:01\n",
      "     ----------------------------------- ---- 11.3/12.8 MB 1.6 MB/s eta 0:00:01\n",
      "     ----------------------------------- ---- 11.4/12.8 MB 1.6 MB/s eta 0:00:01\n",
      "     ----------------------------------- ---- 11.5/12.8 MB 1.6 MB/s eta 0:00:01\n",
      "     ------------------------------------ --- 11.6/12.8 MB 1.6 MB/s eta 0:00:01\n",
      "     ------------------------------------ --- 11.7/12.8 MB 1.6 MB/s eta 0:00:01\n",
      "     ------------------------------------ --- 11.7/12.8 MB 1.6 MB/s eta 0:00:01\n",
      "     ------------------------------------ --- 11.8/12.8 MB 1.6 MB/s eta 0:00:01\n",
      "     ------------------------------------- -- 11.9/12.8 MB 1.6 MB/s eta 0:00:01\n",
      "     ------------------------------------- -- 11.9/12.8 MB 1.6 MB/s eta 0:00:01\n",
      "     ------------------------------------- -- 12.0/12.8 MB 1.6 MB/s eta 0:00:01\n",
      "     ------------------------------------- -- 12.1/12.8 MB 1.6 MB/s eta 0:00:01\n",
      "     ------------------------------------- -- 12.1/12.8 MB 1.6 MB/s eta 0:00:01\n",
      "     -------------------------------------- - 12.2/12.8 MB 1.6 MB/s eta 0:00:01\n",
      "     -------------------------------------- - 12.2/12.8 MB 1.6 MB/s eta 0:00:01\n",
      "     -------------------------------------- - 12.3/12.8 MB 1.6 MB/s eta 0:00:01\n",
      "     -------------------------------------- - 12.3/12.8 MB 1.6 MB/s eta 0:00:01\n",
      "     -------------------------------------- - 12.4/12.8 MB 1.6 MB/s eta 0:00:01\n",
      "     -------------------------------------- - 12.5/12.8 MB 1.6 MB/s eta 0:00:01\n",
      "     ---------------------------------------  12.5/12.8 MB 1.6 MB/s eta 0:00:01\n",
      "     ---------------------------------------  12.5/12.8 MB 1.6 MB/s eta 0:00:01\n",
      "     ---------------------------------------  12.6/12.8 MB 1.6 MB/s eta 0:00:01\n",
      "     ---------------------------------------  12.6/12.8 MB 1.6 MB/s eta 0:00:01\n",
      "     ---------------------------------------  12.7/12.8 MB 1.6 MB/s eta 0:00:01\n",
      "     ---------------------------------------  12.7/12.8 MB 1.5 MB/s eta 0:00:01\n",
      "     ---------------------------------------  12.8/12.8 MB 1.5 MB/s eta 0:00:01\n",
      "     ---------------------------------------  12.8/12.8 MB 1.5 MB/s eta 0:00:01\n",
      "     ---------------------------------------- 12.8/12.8 MB 1.5 MB/s eta 0:00:00\n",
      "Requirement already satisfied: spacy<3.8.0,>=3.7.2 in c:\\users\\asus\\anaconda3\\lib\\site-packages (from en-core-web-sm==3.7.1) (3.7.2)\n",
      "Requirement already satisfied: spacy-legacy<3.1.0,>=3.0.11 in c:\\users\\asus\\anaconda3\\lib\\site-packages (from spacy<3.8.0,>=3.7.2->en-core-web-sm==3.7.1) (3.0.12)\n",
      "Requirement already satisfied: spacy-loggers<2.0.0,>=1.0.0 in c:\\users\\asus\\anaconda3\\lib\\site-packages (from spacy<3.8.0,>=3.7.2->en-core-web-sm==3.7.1) (1.0.5)\n",
      "Requirement already satisfied: murmurhash<1.1.0,>=0.28.0 in c:\\users\\asus\\anaconda3\\lib\\site-packages (from spacy<3.8.0,>=3.7.2->en-core-web-sm==3.7.1) (1.0.10)\n",
      "Requirement already satisfied: cymem<2.1.0,>=2.0.2 in c:\\users\\asus\\anaconda3\\lib\\site-packages (from spacy<3.8.0,>=3.7.2->en-core-web-sm==3.7.1) (2.0.8)\n",
      "Requirement already satisfied: preshed<3.1.0,>=3.0.2 in c:\\users\\asus\\anaconda3\\lib\\site-packages (from spacy<3.8.0,>=3.7.2->en-core-web-sm==3.7.1) (3.0.9)\n",
      "Requirement already satisfied: thinc<8.3.0,>=8.1.8 in c:\\users\\asus\\anaconda3\\lib\\site-packages (from spacy<3.8.0,>=3.7.2->en-core-web-sm==3.7.1) (8.2.1)\n",
      "Requirement already satisfied: wasabi<1.2.0,>=0.9.1 in c:\\users\\asus\\anaconda3\\lib\\site-packages (from spacy<3.8.0,>=3.7.2->en-core-web-sm==3.7.1) (1.1.2)\n",
      "Requirement already satisfied: srsly<3.0.0,>=2.4.3 in c:\\users\\asus\\anaconda3\\lib\\site-packages (from spacy<3.8.0,>=3.7.2->en-core-web-sm==3.7.1) (2.4.8)\n",
      "Requirement already satisfied: catalogue<2.1.0,>=2.0.6 in c:\\users\\asus\\anaconda3\\lib\\site-packages (from spacy<3.8.0,>=3.7.2->en-core-web-sm==3.7.1) (2.0.10)\n",
      "Requirement already satisfied: weasel<0.4.0,>=0.1.0 in c:\\users\\asus\\anaconda3\\lib\\site-packages (from spacy<3.8.0,>=3.7.2->en-core-web-sm==3.7.1) (0.3.3)\n",
      "Requirement already satisfied: typer<0.10.0,>=0.3.0 in c:\\users\\asus\\anaconda3\\lib\\site-packages (from spacy<3.8.0,>=3.7.2->en-core-web-sm==3.7.1) (0.9.0)\n",
      "Requirement already satisfied: smart-open<7.0.0,>=5.2.1 in c:\\users\\asus\\anaconda3\\lib\\site-packages (from spacy<3.8.0,>=3.7.2->en-core-web-sm==3.7.1) (5.2.1)\n",
      "Requirement already satisfied: tqdm<5.0.0,>=4.38.0 in c:\\users\\asus\\anaconda3\\lib\\site-packages (from spacy<3.8.0,>=3.7.2->en-core-web-sm==3.7.1) (4.65.0)\n",
      "Requirement already satisfied: requests<3.0.0,>=2.13.0 in c:\\users\\asus\\anaconda3\\lib\\site-packages (from spacy<3.8.0,>=3.7.2->en-core-web-sm==3.7.1) (2.31.0)\n",
      "Requirement already satisfied: pydantic!=1.8,!=1.8.1,<3.0.0,>=1.7.4 in c:\\users\\asus\\anaconda3\\lib\\site-packages (from spacy<3.8.0,>=3.7.2->en-core-web-sm==3.7.1) (1.10.8)\n",
      "Requirement already satisfied: jinja2 in c:\\users\\asus\\anaconda3\\lib\\site-packages (from spacy<3.8.0,>=3.7.2->en-core-web-sm==3.7.1) (3.1.2)\n",
      "Requirement already satisfied: setuptools in c:\\users\\asus\\anaconda3\\lib\\site-packages (from spacy<3.8.0,>=3.7.2->en-core-web-sm==3.7.1) (68.0.0)\n",
      "Requirement already satisfied: packaging>=20.0 in c:\\users\\asus\\appdata\\roaming\\python\\python311\\site-packages (from spacy<3.8.0,>=3.7.2->en-core-web-sm==3.7.1) (23.2)\n",
      "Requirement already satisfied: langcodes<4.0.0,>=3.2.0 in c:\\users\\asus\\anaconda3\\lib\\site-packages (from spacy<3.8.0,>=3.7.2->en-core-web-sm==3.7.1) (3.3.0)\n",
      "Requirement already satisfied: numpy>=1.19.0 in c:\\users\\asus\\anaconda3\\lib\\site-packages (from spacy<3.8.0,>=3.7.2->en-core-web-sm==3.7.1) (1.24.3)\n",
      "Requirement already satisfied: typing-extensions>=4.2.0 in c:\\users\\asus\\anaconda3\\lib\\site-packages (from pydantic!=1.8,!=1.8.1,<3.0.0,>=1.7.4->spacy<3.8.0,>=3.7.2->en-core-web-sm==3.7.1) (4.7.1)\n",
      "Requirement already satisfied: charset-normalizer<4,>=2 in c:\\users\\asus\\anaconda3\\lib\\site-packages (from requests<3.0.0,>=2.13.0->spacy<3.8.0,>=3.7.2->en-core-web-sm==3.7.1) (2.0.4)\n",
      "Requirement already satisfied: idna<4,>=2.5 in c:\\users\\asus\\anaconda3\\lib\\site-packages (from requests<3.0.0,>=2.13.0->spacy<3.8.0,>=3.7.2->en-core-web-sm==3.7.1) (3.4)\n",
      "Requirement already satisfied: urllib3<3,>=1.21.1 in c:\\users\\asus\\anaconda3\\lib\\site-packages (from requests<3.0.0,>=2.13.0->spacy<3.8.0,>=3.7.2->en-core-web-sm==3.7.1) (1.26.16)\n",
      "Requirement already satisfied: certifi>=2017.4.17 in c:\\users\\asus\\anaconda3\\lib\\site-packages (from requests<3.0.0,>=2.13.0->spacy<3.8.0,>=3.7.2->en-core-web-sm==3.7.1) (2023.7.22)\n",
      "Requirement already satisfied: blis<0.8.0,>=0.7.8 in c:\\users\\asus\\anaconda3\\lib\\site-packages (from thinc<8.3.0,>=8.1.8->spacy<3.8.0,>=3.7.2->en-core-web-sm==3.7.1) (0.7.11)\n",
      "Requirement already satisfied: confection<1.0.0,>=0.0.1 in c:\\users\\asus\\anaconda3\\lib\\site-packages (from thinc<8.3.0,>=8.1.8->spacy<3.8.0,>=3.7.2->en-core-web-sm==3.7.1) (0.1.3)\n",
      "Requirement already satisfied: colorama in c:\\users\\asus\\appdata\\roaming\\python\\python311\\site-packages (from tqdm<5.0.0,>=4.38.0->spacy<3.8.0,>=3.7.2->en-core-web-sm==3.7.1) (0.4.6)\n",
      "Requirement already satisfied: click<9.0.0,>=7.1.1 in c:\\users\\asus\\anaconda3\\lib\\site-packages (from typer<0.10.0,>=0.3.0->spacy<3.8.0,>=3.7.2->en-core-web-sm==3.7.1) (8.0.4)\n",
      "Requirement already satisfied: cloudpathlib<0.17.0,>=0.7.0 in c:\\users\\asus\\anaconda3\\lib\\site-packages (from weasel<0.4.0,>=0.1.0->spacy<3.8.0,>=3.7.2->en-core-web-sm==3.7.1) (0.16.0)\n",
      "Requirement already satisfied: MarkupSafe>=2.0 in c:\\users\\asus\\anaconda3\\lib\\site-packages (from jinja2->spacy<3.8.0,>=3.7.2->en-core-web-sm==3.7.1) (2.1.1)\n",
=======
      "      --------------------------------------- 0.2/12.8 MB 4.1 MB/s eta 0:00:04\n",
      "     - -------------------------------------- 0.4/12.8 MB 4.9 MB/s eta 0:00:03\n",
      "     - -------------------------------------- 0.6/12.8 MB 4.8 MB/s eta 0:00:03\n",
      "     -- ------------------------------------- 0.9/12.8 MB 5.2 MB/s eta 0:00:03\n",
      "     --- ------------------------------------ 1.1/12.8 MB 5.6 MB/s eta 0:00:03\n",
      "     ---- ----------------------------------- 1.4/12.8 MB 5.4 MB/s eta 0:00:03\n",
      "     ----- ---------------------------------- 1.9/12.8 MB 6.3 MB/s eta 0:00:02\n",
      "     ------ --------------------------------- 2.2/12.8 MB 6.0 MB/s eta 0:00:02\n",
      "     ------- -------------------------------- 2.5/12.8 MB 6.3 MB/s eta 0:00:02\n",
      "     --------- ------------------------------ 3.1/12.8 MB 6.8 MB/s eta 0:00:02\n",
      "     ----------- ---------------------------- 3.6/12.8 MB 7.4 MB/s eta 0:00:02\n",
      "     ------------ --------------------------- 4.0/12.8 MB 7.6 MB/s eta 0:00:02\n",
      "     ------------- -------------------------- 4.2/12.8 MB 7.7 MB/s eta 0:00:02\n",
      "     ------------- -------------------------- 4.2/12.8 MB 7.7 MB/s eta 0:00:02\n",
      "     ------------- -------------------------- 4.2/12.8 MB 7.7 MB/s eta 0:00:02\n",
      "     ------------- -------------------------- 4.2/12.8 MB 7.7 MB/s eta 0:00:02\n",
      "     -------------- ------------------------- 4.7/12.8 MB 6.2 MB/s eta 0:00:02\n",
      "     --------------- ------------------------ 5.1/12.8 MB 6.2 MB/s eta 0:00:02\n",
      "     ----------------- ---------------------- 5.7/12.8 MB 6.6 MB/s eta 0:00:02\n",
      "     ------------------- -------------------- 6.3/12.8 MB 6.9 MB/s eta 0:00:01\n",
      "     --------------------- ------------------ 6.9/12.8 MB 7.1 MB/s eta 0:00:01\n",
      "     ----------------------- ---------------- 7.4/12.8 MB 7.3 MB/s eta 0:00:01\n",
      "     ------------------------- -------------- 8.0/12.8 MB 7.6 MB/s eta 0:00:01\n",
      "     -------------------------- ------------- 8.4/12.8 MB 7.6 MB/s eta 0:00:01\n",
      "     ---------------------------- ----------- 9.0/12.8 MB 7.8 MB/s eta 0:00:01\n",
      "     ------------------------------ --------- 9.6/12.8 MB 8.0 MB/s eta 0:00:01\n",
      "     ------------------------------- -------- 10.1/12.8 MB 8.2 MB/s eta 0:00:01\n",
      "     --------------------------------- ------ 10.7/12.8 MB 8.7 MB/s eta 0:00:01\n",
      "     ---------------------------------- ----- 11.2/12.8 MB 9.0 MB/s eta 0:00:01\n",
      "     ------------------------------------ --- 11.6/12.8 MB 9.4 MB/s eta 0:00:01\n",
      "     ------------------------------------ --- 11.6/12.8 MB 9.4 MB/s eta 0:00:01\n",
      "     ------------------------------------ --- 11.6/12.8 MB 9.4 MB/s eta 0:00:01\n",
      "     ------------------------------------ --- 11.6/12.8 MB 9.4 MB/s eta 0:00:01\n",
      "     ------------------------------------ --- 11.7/12.8 MB 7.9 MB/s eta 0:00:01\n",
      "     ------------------------------------- -- 11.9/12.8 MB 8.0 MB/s eta 0:00:01\n",
      "     -------------------------------------- - 12.3/12.8 MB 7.7 MB/s eta 0:00:01\n",
      "     ---------------------------------------  12.7/12.8 MB 7.9 MB/s eta 0:00:01\n",
      "     ---------------------------------------  12.7/12.8 MB 7.6 MB/s eta 0:00:01\n",
      "     ---------------------------------------  12.8/12.8 MB 7.4 MB/s eta 0:00:01\n",
      "     ---------------------------------------- 12.8/12.8 MB 7.0 MB/s eta 0:00:00\n",
      "Requirement already satisfied: spacy<3.8.0,>=3.7.2 in c:\\users\\orian\\anaconda3\\lib\\site-packages (from en-core-web-sm==3.7.1) (3.7.2)\n",
      "Requirement already satisfied: spacy-legacy<3.1.0,>=3.0.11 in c:\\users\\orian\\anaconda3\\lib\\site-packages (from spacy<3.8.0,>=3.7.2->en-core-web-sm==3.7.1) (3.0.12)\n",
      "Requirement already satisfied: spacy-loggers<2.0.0,>=1.0.0 in c:\\users\\orian\\anaconda3\\lib\\site-packages (from spacy<3.8.0,>=3.7.2->en-core-web-sm==3.7.1) (1.0.5)\n",
      "Requirement already satisfied: murmurhash<1.1.0,>=0.28.0 in c:\\users\\orian\\anaconda3\\lib\\site-packages (from spacy<3.8.0,>=3.7.2->en-core-web-sm==3.7.1) (1.0.10)\n",
      "Requirement already satisfied: cymem<2.1.0,>=2.0.2 in c:\\users\\orian\\anaconda3\\lib\\site-packages (from spacy<3.8.0,>=3.7.2->en-core-web-sm==3.7.1) (2.0.8)\n",
      "Requirement already satisfied: preshed<3.1.0,>=3.0.2 in c:\\users\\orian\\anaconda3\\lib\\site-packages (from spacy<3.8.0,>=3.7.2->en-core-web-sm==3.7.1) (3.0.9)\n",
      "Requirement already satisfied: thinc<8.3.0,>=8.1.8 in c:\\users\\orian\\anaconda3\\lib\\site-packages (from spacy<3.8.0,>=3.7.2->en-core-web-sm==3.7.1) (8.2.1)\n",
      "Requirement already satisfied: wasabi<1.2.0,>=0.9.1 in c:\\users\\orian\\anaconda3\\lib\\site-packages (from spacy<3.8.0,>=3.7.2->en-core-web-sm==3.7.1) (1.1.2)\n",
      "Requirement already satisfied: srsly<3.0.0,>=2.4.3 in c:\\users\\orian\\anaconda3\\lib\\site-packages (from spacy<3.8.0,>=3.7.2->en-core-web-sm==3.7.1) (2.4.8)\n",
      "Requirement already satisfied: catalogue<2.1.0,>=2.0.6 in c:\\users\\orian\\anaconda3\\lib\\site-packages (from spacy<3.8.0,>=3.7.2->en-core-web-sm==3.7.1) (2.0.10)\n",
      "Requirement already satisfied: weasel<0.4.0,>=0.1.0 in c:\\users\\orian\\anaconda3\\lib\\site-packages (from spacy<3.8.0,>=3.7.2->en-core-web-sm==3.7.1) (0.3.3)\n",
      "Requirement already satisfied: typer<0.10.0,>=0.3.0 in c:\\users\\orian\\anaconda3\\lib\\site-packages (from spacy<3.8.0,>=3.7.2->en-core-web-sm==3.7.1) (0.9.0)\n",
      "Requirement already satisfied: smart-open<7.0.0,>=5.2.1 in c:\\users\\orian\\anaconda3\\lib\\site-packages (from spacy<3.8.0,>=3.7.2->en-core-web-sm==3.7.1) (5.2.1)\n",
      "Requirement already satisfied: tqdm<5.0.0,>=4.38.0 in c:\\users\\orian\\anaconda3\\lib\\site-packages (from spacy<3.8.0,>=3.7.2->en-core-web-sm==3.7.1) (4.65.0)\n",
      "Requirement already satisfied: requests<3.0.0,>=2.13.0 in c:\\users\\orian\\anaconda3\\lib\\site-packages (from spacy<3.8.0,>=3.7.2->en-core-web-sm==3.7.1) (2.31.0)\n",
      "Requirement already satisfied: pydantic!=1.8,!=1.8.1,<3.0.0,>=1.7.4 in c:\\users\\orian\\anaconda3\\lib\\site-packages (from spacy<3.8.0,>=3.7.2->en-core-web-sm==3.7.1) (2.4.2)\n",
      "Requirement already satisfied: jinja2 in c:\\users\\orian\\anaconda3\\lib\\site-packages (from spacy<3.8.0,>=3.7.2->en-core-web-sm==3.7.1) (3.1.2)\n",
      "Requirement already satisfied: setuptools in c:\\users\\orian\\anaconda3\\lib\\site-packages (from spacy<3.8.0,>=3.7.2->en-core-web-sm==3.7.1) (68.0.0)\n",
      "Requirement already satisfied: packaging>=20.0 in c:\\users\\orian\\anaconda3\\lib\\site-packages (from spacy<3.8.0,>=3.7.2->en-core-web-sm==3.7.1) (23.0)\n",
      "Requirement already satisfied: langcodes<4.0.0,>=3.2.0 in c:\\users\\orian\\anaconda3\\lib\\site-packages (from spacy<3.8.0,>=3.7.2->en-core-web-sm==3.7.1) (3.3.0)\n",
      "Requirement already satisfied: numpy>=1.19.0 in c:\\users\\orian\\anaconda3\\lib\\site-packages (from spacy<3.8.0,>=3.7.2->en-core-web-sm==3.7.1) (1.24.3)\n",
      "Requirement already satisfied: annotated-types>=0.4.0 in c:\\users\\orian\\anaconda3\\lib\\site-packages (from pydantic!=1.8,!=1.8.1,<3.0.0,>=1.7.4->spacy<3.8.0,>=3.7.2->en-core-web-sm==3.7.1) (0.6.0)\n",
      "Requirement already satisfied: pydantic-core==2.10.1 in c:\\users\\orian\\anaconda3\\lib\\site-packages (from pydantic!=1.8,!=1.8.1,<3.0.0,>=1.7.4->spacy<3.8.0,>=3.7.2->en-core-web-sm==3.7.1) (2.10.1)\n",
      "Requirement already satisfied: typing-extensions>=4.6.1 in c:\\users\\orian\\anaconda3\\lib\\site-packages (from pydantic!=1.8,!=1.8.1,<3.0.0,>=1.7.4->spacy<3.8.0,>=3.7.2->en-core-web-sm==3.7.1) (4.7.1)\n",
      "Requirement already satisfied: charset-normalizer<4,>=2 in c:\\users\\orian\\anaconda3\\lib\\site-packages (from requests<3.0.0,>=2.13.0->spacy<3.8.0,>=3.7.2->en-core-web-sm==3.7.1) (2.0.4)\n",
      "Requirement already satisfied: idna<4,>=2.5 in c:\\users\\orian\\anaconda3\\lib\\site-packages (from requests<3.0.0,>=2.13.0->spacy<3.8.0,>=3.7.2->en-core-web-sm==3.7.1) (3.4)\n",
      "Requirement already satisfied: urllib3<3,>=1.21.1 in c:\\users\\orian\\anaconda3\\lib\\site-packages (from requests<3.0.0,>=2.13.0->spacy<3.8.0,>=3.7.2->en-core-web-sm==3.7.1) (1.26.16)\n",
      "Requirement already satisfied: certifi>=2017.4.17 in c:\\users\\orian\\anaconda3\\lib\\site-packages (from requests<3.0.0,>=2.13.0->spacy<3.8.0,>=3.7.2->en-core-web-sm==3.7.1) (2023.7.22)\n",
      "Requirement already satisfied: blis<0.8.0,>=0.7.8 in c:\\users\\orian\\anaconda3\\lib\\site-packages (from thinc<8.3.0,>=8.1.8->spacy<3.8.0,>=3.7.2->en-core-web-sm==3.7.1) (0.7.11)\n",
      "Requirement already satisfied: confection<1.0.0,>=0.0.1 in c:\\users\\orian\\anaconda3\\lib\\site-packages (from thinc<8.3.0,>=8.1.8->spacy<3.8.0,>=3.7.2->en-core-web-sm==3.7.1) (0.1.3)\n",
      "Requirement already satisfied: colorama in c:\\users\\orian\\anaconda3\\lib\\site-packages (from tqdm<5.0.0,>=4.38.0->spacy<3.8.0,>=3.7.2->en-core-web-sm==3.7.1) (0.4.6)\n",
      "Requirement already satisfied: click<9.0.0,>=7.1.1 in c:\\users\\orian\\anaconda3\\lib\\site-packages (from typer<0.10.0,>=0.3.0->spacy<3.8.0,>=3.7.2->en-core-web-sm==3.7.1) (8.0.4)\n",
      "Requirement already satisfied: cloudpathlib<0.17.0,>=0.7.0 in c:\\users\\orian\\anaconda3\\lib\\site-packages (from weasel<0.4.0,>=0.1.0->spacy<3.8.0,>=3.7.2->en-core-web-sm==3.7.1) (0.16.0)\n",
      "Requirement already satisfied: MarkupSafe>=2.0 in c:\\users\\orian\\anaconda3\\lib\\site-packages (from jinja2->spacy<3.8.0,>=3.7.2->en-core-web-sm==3.7.1) (2.1.1)\n",
>>>>>>> f728e8e3932a5fa9ce7fc81c8c83776515620870
      "\u001b[38;5;2m✔ Download and installation successful\u001b[0m\n",
      "You can now load the package via spacy.load('en_core_web_sm')\n"
     ]
    }
   ],
   "source": [
    "# Pour installer spacy et le modèle anglais\n",
    "!pip install -U spacy\n",
    "! python -m spacy validate\n",
    "\n",
    "import spacy\n",
    "!python -m spacy download en_core_web_sm\n",
    "\n",
    "nlp = spacy.load('en_core_web_sm')"
   ]
  },
  {
   "cell_type": "code",
<<<<<<< HEAD
   "execution_count": 73,
=======
   "execution_count": 13,
>>>>>>> f728e8e3932a5fa9ce7fc81c8c83776515620870
   "metadata": {},
   "outputs": [],
   "source": [
    "# Suppression de la ponctuation\n",
    "def remove_punctuation(df, column_name):\n",
    "    df[column_name] = df[column_name].apply(lambda x: ' '.join([token.text for token in nlp(x) if not token.is_punct and token.text != \"'\"]))\n",
    "    return df"
   ]
  },
  {
   "cell_type": "code",
<<<<<<< HEAD
   "execution_count": 74,
=======
   "execution_count": 14,
   "metadata": {},
   "outputs": [],
   "source": [
    "def remove_punctuation(df, column_name):\n",
    "    df[column_name] = df[column_name].apply(lambda x: ' '.join([token.text for token in nlp(x) if not token.is_punct and token.text != \"'\" and token.text != \"’\"]))\n",
    "    return df\n"
   ]
  },
  {
   "cell_type": "code",
   "execution_count": 15,
>>>>>>> f728e8e3932a5fa9ce7fc81c8c83776515620870
   "metadata": {},
   "outputs": [],
   "source": [
    "data = remove_punctuation(data, 'Review Text')"
   ]
  },
  {
   "cell_type": "markdown",
   "metadata": {},
   "source": [
    "On affiche notre dataframe pour vérifier que le pré-traitement soit bien réalisé."
   ]
  },
  {
   "cell_type": "code",
<<<<<<< HEAD
   "execution_count": 75,
=======
   "execution_count": 16,
>>>>>>> f728e8e3932a5fa9ce7fc81c8c83776515620870
   "metadata": {},
   "outputs": [
    {
     "data": {
      "text/html": [
       "<div>\n",
       "<style scoped>\n",
       "    .dataframe tbody tr th:only-of-type {\n",
       "        vertical-align: middle;\n",
       "    }\n",
       "\n",
       "    .dataframe tbody tr th {\n",
       "        vertical-align: top;\n",
       "    }\n",
       "\n",
       "    .dataframe thead th {\n",
       "        text-align: right;\n",
       "    }\n",
       "</style>\n",
       "<table border=\"1\" class=\"dataframe\">\n",
       "  <thead>\n",
       "    <tr style=\"text-align: right;\">\n",
       "      <th></th>\n",
       "      <th>id</th>\n",
       "      <th>Clothing ID</th>\n",
       "      <th>Age</th>\n",
       "      <th>Title</th>\n",
       "      <th>Review Text</th>\n",
       "      <th>Rating</th>\n",
       "      <th>Recommended IND</th>\n",
       "      <th>Positive Feedback Count</th>\n",
       "      <th>Division Name</th>\n",
       "      <th>Department Name</th>\n",
       "      <th>Class Name</th>\n",
       "    </tr>\n",
       "  </thead>\n",
       "  <tbody>\n",
       "    <tr>\n",
       "      <th>0</th>\n",
       "      <td>0</td>\n",
       "      <td>767</td>\n",
       "      <td>33</td>\n",
       "      <td>NaN</td>\n",
       "      <td>absolutely wonderful silky and sexy and comfortable</td>\n",
       "      <td>4</td>\n",
       "      <td>1</td>\n",
       "      <td>0</td>\n",
       "      <td>Initmates</td>\n",
       "      <td>Intimate</td>\n",
       "      <td>Intimates</td>\n",
       "    </tr>\n",
       "    <tr>\n",
       "      <th>1</th>\n",
       "      <td>1</td>\n",
       "      <td>1080</td>\n",
       "      <td>34</td>\n",
       "      <td>NaN</td>\n",
<<<<<<< HEAD
       "      <td>love this dress   it 's sooo pretty   i happened to find it in a store and i 'm glad i did bc i never would have ordered it online bc it 's petite   i bought a petite and am 5'8   i love the length on me- hits just a little below the knee   would definitely be a true midi on someone who is truly petite</td>\n",
=======
       "      <td>love this dress   it 's sooo pretty   i happen...</td>\n",
>>>>>>> f728e8e3932a5fa9ce7fc81c8c83776515620870
       "      <td>5</td>\n",
       "      <td>1</td>\n",
       "      <td>4</td>\n",
       "      <td>General</td>\n",
       "      <td>Dresses</td>\n",
       "      <td>Dresses</td>\n",
       "    </tr>\n",
       "    <tr>\n",
       "      <th>2</th>\n",
       "      <td>2</td>\n",
       "      <td>1077</td>\n",
       "      <td>60</td>\n",
       "      <td>Some major design flaws</td>\n",
       "      <td>i had such high hopes for this dress and really wanted it to work for me i initially ordered the petite small my usual size but i found this to be outrageously small so small in fact that i could not zip it up i reordered it in petite medium which was just ok overall the top half was comfortable and fit nicely but the bottom half had a very tight under layer and several somewhat cheap net over layers imo a major design flaw was the net over layer sewn directly into the zipper it c</td>\n",
       "      <td>3</td>\n",
       "      <td>0</td>\n",
       "      <td>0</td>\n",
       "      <td>General</td>\n",
       "      <td>Dresses</td>\n",
       "      <td>Dresses</td>\n",
       "    </tr>\n",
       "    <tr>\n",
       "      <th>3</th>\n",
       "      <td>3</td>\n",
       "      <td>1049</td>\n",
       "      <td>50</td>\n",
       "      <td>My favorite buy!</td>\n",
       "      <td>i love love love this jumpsuit it 's fun flirty and fabulous every time i wear it i get nothing but great compliments</td>\n",
       "      <td>5</td>\n",
       "      <td>1</td>\n",
       "      <td>0</td>\n",
       "      <td>General Petite</td>\n",
       "      <td>Bottoms</td>\n",
       "      <td>Pants</td>\n",
       "    </tr>\n",
       "    <tr>\n",
       "      <th>4</th>\n",
       "      <td>4</td>\n",
       "      <td>847</td>\n",
       "      <td>47</td>\n",
       "      <td>Flattering shirt</td>\n",
       "      <td>this shirt is very flattering to all due to the adjustable front tie it is the perfect length to wear with leggings and it is sleeveless so it pairs well with any cardigan love this shirt</td>\n",
       "      <td>5</td>\n",
       "      <td>1</td>\n",
       "      <td>6</td>\n",
       "      <td>General</td>\n",
       "      <td>Tops</td>\n",
       "      <td>Blouses</td>\n",
       "    </tr>\n",
       "  </tbody>\n",
       "</table>\n",
       "</div>"
      ],
      "text/plain": [
       "   id  Clothing ID  Age                    Title  \\\n",
       "0   0          767   33                      NaN   \n",
       "1   1         1080   34                      NaN   \n",
       "2   2         1077   60  Some major design flaws   \n",
       "3   3         1049   50         My favorite buy!   \n",
       "4   4          847   47         Flattering shirt   \n",
       "\n",
<<<<<<< HEAD
       "                                                                                                                                                                                                                                                                                                                                                                                                                                                                                             Review Text  \\\n",
       "0                                                                                                                                                                                                                                                                                                                                                                                                                                                    absolutely wonderful silky and sexy and comfortable   \n",
       "1                                                                                                                                                                                        love this dress   it 's sooo pretty   i happened to find it in a store and i 'm glad i did bc i never would have ordered it online bc it 's petite   i bought a petite and am 5'8   i love the length on me- hits just a little below the knee   would definitely be a true midi on someone who is truly petite   \n",
       "2  i had such high hopes for this dress and really wanted it to work for me i initially ordered the petite small my usual size but i found this to be outrageously small so small in fact that i could not zip it up i reordered it in petite medium which was just ok overall the top half was comfortable and fit nicely but the bottom half had a very tight under layer and several somewhat cheap net over layers imo a major design flaw was the net over layer sewn directly into the zipper it c   \n",
       "3                                                                                                                                                                                                                                                                                                                                                                                  i love love love this jumpsuit it 's fun flirty and fabulous every time i wear it i get nothing but great compliments   \n",
       "4                                                                                                                                                                                                                                                                                                            this shirt is very flattering to all due to the adjustable front tie it is the perfect length to wear with leggings and it is sleeveless so it pairs well with any cardigan love this shirt   \n",
=======
       "                                         Review Text  Rating  Recommended IND  \\\n",
       "0  absolutely wonderful silky and sexy and comfor...       4                1   \n",
       "1  love this dress   it 's sooo pretty   i happen...       5                1   \n",
       "2  i had such high hopes for this dress and reall...       3                0   \n",
       "3  i love love love this jumpsuit it 's fun flirt...       5                1   \n",
       "4  this shirt is very flattering to all due to th...       5                1   \n",
>>>>>>> f728e8e3932a5fa9ce7fc81c8c83776515620870
       "\n",
       "   Rating  Recommended IND  Positive Feedback Count   Division Name  \\\n",
       "0       4                1                        0       Initmates   \n",
       "1       5                1                        4         General   \n",
       "2       3                0                        0         General   \n",
       "3       5                1                        0  General Petite   \n",
       "4       5                1                        6         General   \n",
       "\n",
       "  Department Name Class Name  \n",
       "0        Intimate  Intimates  \n",
       "1         Dresses    Dresses  \n",
       "2         Dresses    Dresses  \n",
       "3         Bottoms      Pants  \n",
       "4            Tops    Blouses  "
      ]
     },
<<<<<<< HEAD
     "execution_count": 75,
=======
     "execution_count": 16,
>>>>>>> f728e8e3932a5fa9ce7fc81c8c83776515620870
     "metadata": {},
     "output_type": "execute_result"
    }
   ],
   "source": [
    "data.head()"
   ]
  },
  {
   "cell_type": "markdown",
   "metadata": {},
   "source": [
    "### Sélection de descripteurs : prétraitements textuels"
   ]
  },
  {
   "cell_type": "markdown",
   "metadata": {},
   "source": [
    "Pour effectuer nos tâches de traitements de langage, nous allons utiliser spacy. En effet, spacy a plusieurs fonctionnalités : \n",
    "- permet de tokeniser directement notre texte\n",
    "- peut lemmatiser les mots\n",
    "- identifier et classer les entités nommées\n",
    "- analyser les dépendances syntaxiques entre les mots\n",
    "- représenter les mots sous forme de vecteurs (embedding)\n",
    "- etc"
   ]
  },
  {
   "cell_type": "markdown",
   "metadata": {},
   "source": [
    "#### Représentation des textes"
   ]
  },
  {
   "cell_type": "markdown",
   "metadata": {},
   "source": [
    "##### Lemmatisation"
   ]
  },
  {
   "cell_type": "markdown",
   "metadata": {},
   "source": [
    "**Exemple sur un avis**"
   ]
  },
  {
   "cell_type": "markdown",
   "metadata": {},
   "source": [
    "Nous allons d'abord afficher le contenu d'un avis pour voir à quoi ressemble nos données"
   ]
  },
  {
   "cell_type": "code",
<<<<<<< HEAD
   "execution_count": 76,
=======
   "execution_count": 17,
>>>>>>> f728e8e3932a5fa9ce7fc81c8c83776515620870
   "metadata": {},
   "outputs": [
    {
     "data": {
      "text/plain": [
       "\"this is a cute top that can transition easily from summer to fall it fits well nice print and it 's comfortable i tried this on in the store but did not purchase it because the color washed me out this is not the best color for a blonde would look much better on a brunette if this was in a different color i most likely would have purchased it\""
      ]
     },
<<<<<<< HEAD
     "execution_count": 76,
=======
     "execution_count": 17,
>>>>>>> f728e8e3932a5fa9ce7fc81c8c83776515620870
     "metadata": {},
     "output_type": "execute_result"
    }
   ],
   "source": [
    "avis50 = data['Review Text'].iloc[50]\n",
    "avis50"
   ]
  },
  {
   "cell_type": "markdown",
   "metadata": {},
   "source": [
    "On le transforme en objet spacy pour pouvoir faire des  pré-traitements textuels dessus."
   ]
  },
  {
   "cell_type": "code",
<<<<<<< HEAD
   "execution_count": 77,
=======
   "execution_count": 18,
>>>>>>> f728e8e3932a5fa9ce7fc81c8c83776515620870
   "metadata": {},
   "outputs": [],
   "source": [
    "avis_nlp = nlp(avis50)"
   ]
  },
  {
   "cell_type": "code",
<<<<<<< HEAD
   "execution_count": 78,
=======
   "execution_count": 19,
>>>>>>> f728e8e3932a5fa9ce7fc81c8c83776515620870
   "metadata": {},
   "outputs": [
    {
     "data": {
      "text/plain": [
       "spacy.tokens.doc.Doc"
      ]
     },
<<<<<<< HEAD
     "execution_count": 78,
=======
     "execution_count": 19,
>>>>>>> f728e8e3932a5fa9ce7fc81c8c83776515620870
     "metadata": {},
     "output_type": "execute_result"
    }
   ],
   "source": [
    "type(avis_nlp)"
   ]
  },
  {
   "cell_type": "markdown",
   "metadata": {},
   "source": [
    "On a bien un objet spacy à présent."
   ]
  },
  {
   "cell_type": "markdown",
   "metadata": {},
   "source": [
    "On affiche chaque token de notre objet spacy."
   ]
  },
  {
   "cell_type": "code",
<<<<<<< HEAD
   "execution_count": 79,
=======
   "execution_count": 20,
>>>>>>> f728e8e3932a5fa9ce7fc81c8c83776515620870
   "metadata": {},
   "outputs": [
    {
     "name": "stdout",
     "output_type": "stream",
     "text": [
      "this\n",
      "is\n",
      "a\n",
      "cute\n",
      "top\n",
      "that\n",
      "can\n",
      "transition\n",
      "easily\n",
      "from\n",
      "summer\n",
      "to\n",
      "fall\n",
      "it\n",
      "fits\n",
      "well\n",
      "nice\n",
      "print\n",
      "and\n",
      "it\n",
      "'s\n",
      "comfortable\n",
      "i\n",
      "tried\n",
      "this\n",
      "on\n",
      "in\n",
      "the\n",
      "store\n",
      "but\n",
      "did\n",
      "not\n",
      "purchase\n",
      "it\n",
      "because\n",
      "the\n",
      "color\n",
      "washed\n",
      "me\n",
      "out\n",
      "this\n",
      "is\n",
      "not\n",
      "the\n",
      "best\n",
      "color\n",
      "for\n",
      "a\n",
      "blonde\n",
      "would\n",
      "look\n",
      "much\n",
      "better\n",
      "on\n",
      "a\n",
      "brunette\n",
      "if\n",
      "this\n",
      "was\n",
      "in\n",
      "a\n",
      "different\n",
      "color\n",
      "i\n",
      "most\n",
      "likely\n",
      "would\n",
      "have\n",
      "purchased\n",
      "it\n"
     ]
    }
   ],
   "source": [
    "for token in avis_nlp:\n",
    "    print(token)"
   ]
  },
  {
   "cell_type": "markdown",
   "metadata": {},
   "source": [
    "Ensuite, nous allons pouvoir afficher les lemmes de chaque token. Grâce à cette étape, nous allons pouvoir simplifier les mots pour faciliter notre analyse textuelle."
   ]
  },
  {
   "cell_type": "code",
<<<<<<< HEAD
   "execution_count": 80,
=======
   "execution_count": 21,
>>>>>>> f728e8e3932a5fa9ce7fc81c8c83776515620870
   "metadata": {},
   "outputs": [
    {
     "name": "stdout",
     "output_type": "stream",
     "text": [
      "this\n",
      "be\n",
      "a\n",
      "cute\n",
      "top\n",
      "that\n",
      "can\n",
      "transition\n",
      "easily\n",
      "from\n",
      "summer\n",
      "to\n",
      "fall\n",
      "it\n",
      "fit\n",
      "well\n",
      "nice\n",
      "print\n",
      "and\n",
      "it\n",
      "be\n",
      "comfortable\n",
      "I\n",
      "try\n",
      "this\n",
      "on\n",
      "in\n",
      "the\n",
      "store\n",
      "but\n",
      "do\n",
      "not\n",
      "purchase\n",
      "it\n",
      "because\n",
      "the\n",
      "color\n",
      "wash\n",
      "I\n",
      "out\n",
      "this\n",
      "be\n",
      "not\n",
      "the\n",
      "good\n",
      "color\n",
      "for\n",
      "a\n",
      "blonde\n",
      "would\n",
      "look\n",
      "much\n",
      "well\n",
      "on\n",
      "a\n",
      "brunette\n",
      "if\n",
      "this\n",
      "be\n",
      "in\n",
      "a\n",
      "different\n",
      "color\n",
      "I\n",
      "most\n",
      "likely\n",
      "would\n",
      "have\n",
      "purchase\n",
      "it\n"
     ]
    }
   ],
   "source": [
    "# Lemmatisation\n",
    "for token in avis_nlp:\n",
    "    print(token.lemma_)"
   ]
  },
  {
   "cell_type": "markdown",
   "metadata": {},
   "source": [
    "**Généralisation**"
   ]
  },
  {
   "cell_type": "markdown",
   "metadata": {},
   "source": [
    "Nous allons pouvoir réaliser ces prétraitements sur l'ensemble de notre colonne 'Review Text'"
   ]
  },
  {
   "cell_type": "markdown",
   "metadata": {},
   "source": [
    "Pour lemmatiser notre texte, nous allons définir une fonction. Cette étape est indispensable pour récupérer les lemmes des mots de notre texte d'origine. Nous allons simplifier notre texte grâce à cette fonction."
   ]
  },
  {
   "cell_type": "code",
<<<<<<< HEAD
   "execution_count": 81,
=======
   "execution_count": 22,
>>>>>>> f728e8e3932a5fa9ce7fc81c8c83776515620870
   "metadata": {},
   "outputs": [],
   "source": [
    "def lemmatise_text(text):\n",
    "    text = nlp(text) # on transforme le texte en objet spacy\n",
    "    lemmas = [token.lemma_ for token in text] # on récupère les lemmes\n",
    "    return ' '.join(lemmas) # on retourne les lemmes sous forme de texte"
   ]
  },
  {
   "cell_type": "code",
<<<<<<< HEAD
   "execution_count": 82,
=======
   "execution_count": 23,
>>>>>>> f728e8e3932a5fa9ce7fc81c8c83776515620870
   "metadata": {},
   "outputs": [],
   "source": [
    "import pandas as pd\n",
    "\n",
    "# Augmenter la limite de caractères par colonne\n",
    "pd.set_option('display.max_colwidth', None)\n"
   ]
  },
  {
   "cell_type": "code",
<<<<<<< HEAD
   "execution_count": 83,
=======
   "execution_count": 24,
>>>>>>> f728e8e3932a5fa9ce7fc81c8c83776515620870
   "metadata": {},
   "outputs": [
    {
     "name": "stdout",
     "output_type": "stream",
     "text": [
      "Avis initial :  this is a cute top that can transition easily from summer to fall it fits well nice print and it 's comfortable i tried this on in the store but did not purchase it because the color washed me out this is not the best color for a blonde would look much better on a brunette if this was in a different color i most likely would have purchased it\n",
      "Avis lemmatisé :  this be a cute top that can transition easily from summer to fall it fit well nice print and it be comfortable I try this on in the store but do not purchase it because the color wash I out this be not the good color for a blonde would look much well on a brunette if this be in a different color I most likely would have purchase it\n"
     ]
    }
   ],
   "source": [
    "# On teste sur 1 avis \n",
    "print(\"Avis initial : \", data['Review Text'].iloc[50])\n",
    "print(\"Avis lemmatisé : \", lemmatise_text(data['Review Text'].iloc[50]))\n"
   ]
  },
  {
   "cell_type": "markdown",
   "metadata": {},
   "source": [
    "Nous allons ensuite ajouter une colonne avec la fonction de **lemmatisation** appliquée à nos avis."
   ]
  },
  {
   "cell_type": "code",
<<<<<<< HEAD
   "execution_count": 84,
=======
   "execution_count": 25,
>>>>>>> f728e8e3932a5fa9ce7fc81c8c83776515620870
   "metadata": {},
   "outputs": [],
   "source": [
    "data['lemmas'] = data['Review Text'].apply(lemmatise_text)"
   ]
  },
  {
   "cell_type": "code",
<<<<<<< HEAD
   "execution_count": 85,
=======
   "execution_count": 26,
>>>>>>> f728e8e3932a5fa9ce7fc81c8c83776515620870
   "metadata": {},
   "outputs": [
    {
     "data": {
      "text/html": [
       "<div>\n",
       "<style scoped>\n",
       "    .dataframe tbody tr th:only-of-type {\n",
       "        vertical-align: middle;\n",
       "    }\n",
       "\n",
       "    .dataframe tbody tr th {\n",
       "        vertical-align: top;\n",
       "    }\n",
       "\n",
       "    .dataframe thead th {\n",
       "        text-align: right;\n",
       "    }\n",
       "</style>\n",
       "<table border=\"1\" class=\"dataframe\">\n",
       "  <thead>\n",
       "    <tr style=\"text-align: right;\">\n",
       "      <th></th>\n",
       "      <th>id</th>\n",
       "      <th>Clothing ID</th>\n",
       "      <th>Age</th>\n",
       "      <th>Title</th>\n",
       "      <th>Review Text</th>\n",
       "      <th>Rating</th>\n",
       "      <th>Recommended IND</th>\n",
       "      <th>Positive Feedback Count</th>\n",
       "      <th>Division Name</th>\n",
       "      <th>Department Name</th>\n",
       "      <th>Class Name</th>\n",
       "      <th>lemmas</th>\n",
       "    </tr>\n",
       "  </thead>\n",
       "  <tbody>\n",
       "    <tr>\n",
       "      <th>0</th>\n",
       "      <td>0</td>\n",
       "      <td>767</td>\n",
       "      <td>33</td>\n",
       "      <td>NaN</td>\n",
       "      <td>absolutely wonderful silky and sexy and comfortable</td>\n",
       "      <td>4</td>\n",
       "      <td>1</td>\n",
       "      <td>0</td>\n",
       "      <td>Initmates</td>\n",
       "      <td>Intimate</td>\n",
       "      <td>Intimates</td>\n",
       "      <td>absolutely wonderful silky and sexy and comfortable</td>\n",
       "    </tr>\n",
       "    <tr>\n",
       "      <th>1</th>\n",
       "      <td>1</td>\n",
       "      <td>1080</td>\n",
       "      <td>34</td>\n",
       "      <td>NaN</td>\n",
       "      <td>love this dress   it 's sooo pretty   i happened to find it in a store and i 'm glad i did bc i never would have ordered it online bc it 's petite   i bought a petite and am 5'8   i love the length on me- hits just a little below the knee   would definitely be a true midi on someone who is truly petite</td>\n",
       "      <td>5</td>\n",
       "      <td>1</td>\n",
       "      <td>4</td>\n",
       "      <td>General</td>\n",
       "      <td>Dresses</td>\n",
       "      <td>Dresses</td>\n",
       "      <td>love this dress    it be sooo pretty    I happen to find it in a store and I ' m glad I do bc I never would have order it online bc it be petite    I buy a petite and be 5'8    I love the length on me- hit just a little below the knee    would definitely be a true midi on someone who be truly petite</td>\n",
       "    </tr>\n",
       "    <tr>\n",
       "      <th>2</th>\n",
       "      <td>2</td>\n",
       "      <td>1077</td>\n",
       "      <td>60</td>\n",
       "      <td>Some major design flaws</td>\n",
       "      <td>i had such high hopes for this dress and really wanted it to work for me i initially ordered the petite small my usual size but i found this to be outrageously small so small in fact that i could not zip it up i reordered it in petite medium which was just ok overall the top half was comfortable and fit nicely but the bottom half had a very tight under layer and several somewhat cheap net over layers imo a major design flaw was the net over layer sewn directly into the zipper it c</td>\n",
       "      <td>3</td>\n",
       "      <td>0</td>\n",
       "      <td>0</td>\n",
       "      <td>General</td>\n",
       "      <td>Dresses</td>\n",
       "      <td>Dresses</td>\n",
       "      <td>I have such high hope for this dress and really want it to work for I I initially order the petite small my usual size but I find this to be outrageously small so small in fact that I could not zip it up I reorder it in petite medium which be just ok overall the top half be comfortable and fit nicely but the bottom half have a very tight under layer and several somewhat cheap net over layer imo a major design flaw be the net over layer sew directly into the zipper it c</td>\n",
       "    </tr>\n",
       "    <tr>\n",
       "      <th>3</th>\n",
       "      <td>3</td>\n",
       "      <td>1049</td>\n",
       "      <td>50</td>\n",
       "      <td>My favorite buy!</td>\n",
       "      <td>i love love love this jumpsuit it 's fun flirty and fabulous every time i wear it i get nothing but great compliments</td>\n",
       "      <td>5</td>\n",
       "      <td>1</td>\n",
       "      <td>0</td>\n",
       "      <td>General Petite</td>\n",
       "      <td>Bottoms</td>\n",
       "      <td>Pants</td>\n",
       "      <td>I love love love this jumpsuit it be fun flirty and fabulous every time I wear it I get nothing but great compliment</td>\n",
       "    </tr>\n",
       "    <tr>\n",
       "      <th>4</th>\n",
       "      <td>4</td>\n",
       "      <td>847</td>\n",
       "      <td>47</td>\n",
       "      <td>Flattering shirt</td>\n",
       "      <td>this shirt is very flattering to all due to the adjustable front tie it is the perfect length to wear with leggings and it is sleeveless so it pairs well with any cardigan love this shirt</td>\n",
       "      <td>5</td>\n",
       "      <td>1</td>\n",
       "      <td>6</td>\n",
       "      <td>General</td>\n",
       "      <td>Tops</td>\n",
       "      <td>Blouses</td>\n",
       "      <td>this shirt be very flattering to all due to the adjustable front tie it be the perfect length to wear with legging and it be sleeveless so it pair well with any cardigan love this shirt</td>\n",
       "    </tr>\n",
       "  </tbody>\n",
       "</table>\n",
       "</div>"
      ],
      "text/plain": [
       "   id  Clothing ID  Age                    Title  \\\n",
       "0   0          767   33                      NaN   \n",
       "1   1         1080   34                      NaN   \n",
       "2   2         1077   60  Some major design flaws   \n",
       "3   3         1049   50         My favorite buy!   \n",
       "4   4          847   47         Flattering shirt   \n",
       "\n",
       "                                                                                                                                                                                                                                                                                                                                                                                                                                                                                             Review Text  \\\n",
       "0                                                                                                                                                                                                                                                                                                                                                                                                                                                    absolutely wonderful silky and sexy and comfortable   \n",
       "1                                                                                                                                                                                        love this dress   it 's sooo pretty   i happened to find it in a store and i 'm glad i did bc i never would have ordered it online bc it 's petite   i bought a petite and am 5'8   i love the length on me- hits just a little below the knee   would definitely be a true midi on someone who is truly petite   \n",
       "2  i had such high hopes for this dress and really wanted it to work for me i initially ordered the petite small my usual size but i found this to be outrageously small so small in fact that i could not zip it up i reordered it in petite medium which was just ok overall the top half was comfortable and fit nicely but the bottom half had a very tight under layer and several somewhat cheap net over layers imo a major design flaw was the net over layer sewn directly into the zipper it c   \n",
       "3                                                                                                                                                                                                                                                                                                                                                                                  i love love love this jumpsuit it 's fun flirty and fabulous every time i wear it i get nothing but great compliments   \n",
       "4                                                                                                                                                                                                                                                                                                            this shirt is very flattering to all due to the adjustable front tie it is the perfect length to wear with leggings and it is sleeveless so it pairs well with any cardigan love this shirt   \n",
       "\n",
       "   Rating  Recommended IND  Positive Feedback Count   Division Name  \\\n",
       "0       4                1                        0       Initmates   \n",
       "1       5                1                        4         General   \n",
       "2       3                0                        0         General   \n",
       "3       5                1                        0  General Petite   \n",
       "4       5                1                        6         General   \n",
       "\n",
       "  Department Name Class Name  \\\n",
       "0        Intimate  Intimates   \n",
       "1         Dresses    Dresses   \n",
       "2         Dresses    Dresses   \n",
       "3         Bottoms      Pants   \n",
       "4            Tops    Blouses   \n",
       "\n",
       "                                                                                                                                                                                                                                                                                                                                                                                                                                                                                      lemmas  \n",
       "0                                                                                                                                                                                                                                                                                                                                                                                                                                        absolutely wonderful silky and sexy and comfortable  \n",
       "1                                                                                                                                                                               love this dress    it be sooo pretty    I happen to find it in a store and I ' m glad I do bc I never would have order it online bc it be petite    I buy a petite and be 5'8    I love the length on me- hit just a little below the knee    would definitely be a true midi on someone who be truly petite  \n",
       "2  I have such high hope for this dress and really want it to work for I I initially order the petite small my usual size but I find this to be outrageously small so small in fact that I could not zip it up I reorder it in petite medium which be just ok overall the top half be comfortable and fit nicely but the bottom half have a very tight under layer and several somewhat cheap net over layer imo a major design flaw be the net over layer sew directly into the zipper it c  \n",
       "3                                                                                                                                                                                                                                                                                                                                                                       I love love love this jumpsuit it be fun flirty and fabulous every time I wear it I get nothing but great compliment  \n",
       "4                                                                                                                                                                                                                                                                                                  this shirt be very flattering to all due to the adjustable front tie it be the perfect length to wear with legging and it be sleeveless so it pair well with any cardigan love this shirt  "
      ]
     },
<<<<<<< HEAD
     "execution_count": 85,
=======
     "execution_count": 26,
>>>>>>> f728e8e3932a5fa9ce7fc81c8c83776515620870
     "metadata": {},
     "output_type": "execute_result"
    }
   ],
   "source": [
    "data.head()"
   ]
  },
  {
   "cell_type": "code",
<<<<<<< HEAD
   "execution_count": 86,
=======
   "execution_count": 27,
>>>>>>> f728e8e3932a5fa9ce7fc81c8c83776515620870
   "metadata": {},
   "outputs": [],
   "source": [
    "# Sauvegarde des données\n",
    "data.to_pickle('data.pkl')"
   ]
  },
  {
   "cell_type": "markdown",
   "metadata": {},
   "source": [
    "##### Racines"
   ]
  },
  {
   "cell_type": "markdown",
   "metadata": {},
   "source": [
    "Pour réduire les mots à leur forme de base, nous allons utiliser SnowballStemmer sur notre texte. Pour cela, nous allons créer une fonction et l'appliquer à nos avis. "
   ]
  },
  {
   "cell_type": "code",
<<<<<<< HEAD
   "execution_count": 87,
=======
   "execution_count": 28,
>>>>>>> f728e8e3932a5fa9ce7fc81c8c83776515620870
   "metadata": {},
   "outputs": [],
   "source": [
    "from nltk.tokenize import word_tokenize\n",
    "from nltk.stem import SnowballStemmer"
   ]
  },
  {
   "cell_type": "code",
<<<<<<< HEAD
   "execution_count": 88,
=======
   "execution_count": 29,
>>>>>>> f728e8e3932a5fa9ce7fc81c8c83776515620870
   "metadata": {},
   "outputs": [],
   "source": [
    "def stem_text(text):\n",
    "    stemmer = SnowballStemmer('english')\n",
    "    tokenizer = RegexpTokenizer('\\w+')\n",
    "    stems = [stemmer.stem(token) for token in tokenizer.tokenize(text)]\n",
    "    return ' '.join(stems)"
   ]
  },
  {
   "cell_type": "markdown",
   "metadata": {},
   "source": [
    "On applique la fonction à notre dataframe."
   ]
  },
  {
   "cell_type": "code",
<<<<<<< HEAD
   "execution_count": 89,
=======
   "execution_count": 30,
>>>>>>> f728e8e3932a5fa9ce7fc81c8c83776515620870
   "metadata": {},
   "outputs": [],
   "source": [
    "data['stems'] = data['Review Text'].apply(stem_text)"
   ]
  },
  {
   "cell_type": "markdown",
   "metadata": {},
   "source": [
    "On vérifie que la forme soit correcte."
   ]
  },
  {
   "cell_type": "code",
<<<<<<< HEAD
   "execution_count": 90,
=======
   "execution_count": 31,
>>>>>>> f728e8e3932a5fa9ce7fc81c8c83776515620870
   "metadata": {},
   "outputs": [
    {
     "data": {
      "text/html": [
       "<div>\n",
       "<style scoped>\n",
       "    .dataframe tbody tr th:only-of-type {\n",
       "        vertical-align: middle;\n",
       "    }\n",
       "\n",
       "    .dataframe tbody tr th {\n",
       "        vertical-align: top;\n",
       "    }\n",
       "\n",
       "    .dataframe thead th {\n",
       "        text-align: right;\n",
       "    }\n",
       "</style>\n",
       "<table border=\"1\" class=\"dataframe\">\n",
       "  <thead>\n",
       "    <tr style=\"text-align: right;\">\n",
       "      <th></th>\n",
       "      <th>id</th>\n",
       "      <th>Clothing ID</th>\n",
       "      <th>Age</th>\n",
       "      <th>Title</th>\n",
       "      <th>Review Text</th>\n",
       "      <th>Rating</th>\n",
       "      <th>Recommended IND</th>\n",
       "      <th>Positive Feedback Count</th>\n",
       "      <th>Division Name</th>\n",
       "      <th>Department Name</th>\n",
       "      <th>Class Name</th>\n",
       "      <th>lemmas</th>\n",
       "      <th>stems</th>\n",
       "    </tr>\n",
       "  </thead>\n",
       "  <tbody>\n",
       "    <tr>\n",
       "      <th>0</th>\n",
       "      <td>0</td>\n",
       "      <td>767</td>\n",
       "      <td>33</td>\n",
       "      <td>NaN</td>\n",
       "      <td>absolutely wonderful silky and sexy and comfortable</td>\n",
       "      <td>4</td>\n",
       "      <td>1</td>\n",
       "      <td>0</td>\n",
       "      <td>Initmates</td>\n",
       "      <td>Intimate</td>\n",
       "      <td>Intimates</td>\n",
       "      <td>absolutely wonderful silky and sexy and comfortable</td>\n",
       "      <td>absolut wonder silki and sexi and comfort</td>\n",
       "    </tr>\n",
       "    <tr>\n",
       "      <th>1</th>\n",
       "      <td>1</td>\n",
       "      <td>1080</td>\n",
       "      <td>34</td>\n",
       "      <td>NaN</td>\n",
       "      <td>love this dress   it 's sooo pretty   i happened to find it in a store and i 'm glad i did bc i never would have ordered it online bc it 's petite   i bought a petite and am 5'8   i love the length on me- hits just a little below the knee   would definitely be a true midi on someone who is truly petite</td>\n",
       "      <td>5</td>\n",
       "      <td>1</td>\n",
       "      <td>4</td>\n",
       "      <td>General</td>\n",
       "      <td>Dresses</td>\n",
       "      <td>Dresses</td>\n",
       "      <td>love this dress    it be sooo pretty    I happen to find it in a store and I ' m glad I do bc I never would have order it online bc it be petite    I buy a petite and be 5'8    I love the length on me- hit just a little below the knee    would definitely be a true midi on someone who be truly petite</td>\n",
       "      <td>love this dress it s sooo pretti i happen to find it in a store and i m glad i did bc i never would have order it onlin bc it s petit i bought a petit and am 5 8 i love the length on me hit just a littl below the knee would definit be a true midi on someon who is truli petit</td>\n",
       "    </tr>\n",
       "    <tr>\n",
       "      <th>2</th>\n",
       "      <td>2</td>\n",
       "      <td>1077</td>\n",
       "      <td>60</td>\n",
       "      <td>Some major design flaws</td>\n",
       "      <td>i had such high hopes for this dress and really wanted it to work for me i initially ordered the petite small my usual size but i found this to be outrageously small so small in fact that i could not zip it up i reordered it in petite medium which was just ok overall the top half was comfortable and fit nicely but the bottom half had a very tight under layer and several somewhat cheap net over layers imo a major design flaw was the net over layer sewn directly into the zipper it c</td>\n",
       "      <td>3</td>\n",
       "      <td>0</td>\n",
       "      <td>0</td>\n",
       "      <td>General</td>\n",
       "      <td>Dresses</td>\n",
       "      <td>Dresses</td>\n",
       "      <td>I have such high hope for this dress and really want it to work for I I initially order the petite small my usual size but I find this to be outrageously small so small in fact that I could not zip it up I reorder it in petite medium which be just ok overall the top half be comfortable and fit nicely but the bottom half have a very tight under layer and several somewhat cheap net over layer imo a major design flaw be the net over layer sew directly into the zipper it c</td>\n",
       "      <td>i had such high hope for this dress and realli want it to work for me i initi order the petit small my usual size but i found this to be outrag small so small in fact that i could not zip it up i reorder it in petit medium which was just ok overal the top half was comfort and fit nice but the bottom half had a veri tight under layer and sever somewhat cheap net over layer imo a major design flaw was the net over layer sewn direct into the zipper it c</td>\n",
       "    </tr>\n",
       "    <tr>\n",
       "      <th>3</th>\n",
       "      <td>3</td>\n",
       "      <td>1049</td>\n",
       "      <td>50</td>\n",
       "      <td>My favorite buy!</td>\n",
       "      <td>i love love love this jumpsuit it 's fun flirty and fabulous every time i wear it i get nothing but great compliments</td>\n",
       "      <td>5</td>\n",
       "      <td>1</td>\n",
       "      <td>0</td>\n",
       "      <td>General Petite</td>\n",
       "      <td>Bottoms</td>\n",
       "      <td>Pants</td>\n",
       "      <td>I love love love this jumpsuit it be fun flirty and fabulous every time I wear it I get nothing but great compliment</td>\n",
       "      <td>i love love love this jumpsuit it s fun flirti and fabul everi time i wear it i get noth but great compliment</td>\n",
       "    </tr>\n",
       "    <tr>\n",
       "      <th>4</th>\n",
       "      <td>4</td>\n",
       "      <td>847</td>\n",
       "      <td>47</td>\n",
       "      <td>Flattering shirt</td>\n",
       "      <td>this shirt is very flattering to all due to the adjustable front tie it is the perfect length to wear with leggings and it is sleeveless so it pairs well with any cardigan love this shirt</td>\n",
       "      <td>5</td>\n",
       "      <td>1</td>\n",
       "      <td>6</td>\n",
       "      <td>General</td>\n",
       "      <td>Tops</td>\n",
       "      <td>Blouses</td>\n",
       "      <td>this shirt be very flattering to all due to the adjustable front tie it be the perfect length to wear with legging and it be sleeveless so it pair well with any cardigan love this shirt</td>\n",
       "      <td>this shirt is veri flatter to all due to the adjust front tie it is the perfect length to wear with leg and it is sleeveless so it pair well with ani cardigan love this shirt</td>\n",
       "    </tr>\n",
       "  </tbody>\n",
       "</table>\n",
       "</div>"
      ],
      "text/plain": [
       "   id  Clothing ID  Age                    Title  \\\n",
       "0   0          767   33                      NaN   \n",
       "1   1         1080   34                      NaN   \n",
       "2   2         1077   60  Some major design flaws   \n",
       "3   3         1049   50         My favorite buy!   \n",
       "4   4          847   47         Flattering shirt   \n",
       "\n",
       "                                                                                                                                                                                                                                                                                                                                                                                                                                                                                             Review Text  \\\n",
       "0                                                                                                                                                                                                                                                                                                                                                                                                                                                    absolutely wonderful silky and sexy and comfortable   \n",
       "1                                                                                                                                                                                        love this dress   it 's sooo pretty   i happened to find it in a store and i 'm glad i did bc i never would have ordered it online bc it 's petite   i bought a petite and am 5'8   i love the length on me- hits just a little below the knee   would definitely be a true midi on someone who is truly petite   \n",
       "2  i had such high hopes for this dress and really wanted it to work for me i initially ordered the petite small my usual size but i found this to be outrageously small so small in fact that i could not zip it up i reordered it in petite medium which was just ok overall the top half was comfortable and fit nicely but the bottom half had a very tight under layer and several somewhat cheap net over layers imo a major design flaw was the net over layer sewn directly into the zipper it c   \n",
       "3                                                                                                                                                                                                                                                                                                                                                                                  i love love love this jumpsuit it 's fun flirty and fabulous every time i wear it i get nothing but great compliments   \n",
       "4                                                                                                                                                                                                                                                                                                            this shirt is very flattering to all due to the adjustable front tie it is the perfect length to wear with leggings and it is sleeveless so it pairs well with any cardigan love this shirt   \n",
       "\n",
       "   Rating  Recommended IND  Positive Feedback Count   Division Name  \\\n",
       "0       4                1                        0       Initmates   \n",
       "1       5                1                        4         General   \n",
       "2       3                0                        0         General   \n",
       "3       5                1                        0  General Petite   \n",
       "4       5                1                        6         General   \n",
       "\n",
       "  Department Name Class Name  \\\n",
       "0        Intimate  Intimates   \n",
       "1         Dresses    Dresses   \n",
       "2         Dresses    Dresses   \n",
       "3         Bottoms      Pants   \n",
       "4            Tops    Blouses   \n",
       "\n",
       "                                                                                                                                                                                                                                                                                                                                                                                                                                                                                      lemmas  \\\n",
       "0                                                                                                                                                                                                                                                                                                                                                                                                                                        absolutely wonderful silky and sexy and comfortable   \n",
       "1                                                                                                                                                                               love this dress    it be sooo pretty    I happen to find it in a store and I ' m glad I do bc I never would have order it online bc it be petite    I buy a petite and be 5'8    I love the length on me- hit just a little below the knee    would definitely be a true midi on someone who be truly petite   \n",
       "2  I have such high hope for this dress and really want it to work for I I initially order the petite small my usual size but I find this to be outrageously small so small in fact that I could not zip it up I reorder it in petite medium which be just ok overall the top half be comfortable and fit nicely but the bottom half have a very tight under layer and several somewhat cheap net over layer imo a major design flaw be the net over layer sew directly into the zipper it c   \n",
       "3                                                                                                                                                                                                                                                                                                                                                                       I love love love this jumpsuit it be fun flirty and fabulous every time I wear it I get nothing but great compliment   \n",
       "4                                                                                                                                                                                                                                                                                                  this shirt be very flattering to all due to the adjustable front tie it be the perfect length to wear with legging and it be sleeveless so it pair well with any cardigan love this shirt   \n",
       "\n",
       "                                                                                                                                                                                                                                                                                                                                                                                                                                                                    stems  \n",
       "0                                                                                                                                                                                                                                                                                                                                                                                                                               absolut wonder silki and sexi and comfort  \n",
       "1                                                                                                                                                                                     love this dress it s sooo pretti i happen to find it in a store and i m glad i did bc i never would have order it onlin bc it s petit i bought a petit and am 5 8 i love the length on me hit just a littl below the knee would definit be a true midi on someon who is truli petit  \n",
       "2  i had such high hope for this dress and realli want it to work for me i initi order the petit small my usual size but i found this to be outrag small so small in fact that i could not zip it up i reorder it in petit medium which was just ok overal the top half was comfort and fit nice but the bottom half had a veri tight under layer and sever somewhat cheap net over layer imo a major design flaw was the net over layer sewn direct into the zipper it c  \n",
       "3                                                                                                                                                                                                                                                                                                                                                           i love love love this jumpsuit it s fun flirti and fabul everi time i wear it i get noth but great compliment  \n",
       "4                                                                                                                                                                                                                                                                                          this shirt is veri flatter to all due to the adjust front tie it is the perfect length to wear with leg and it is sleeveless so it pair well with ani cardigan love this shirt  "
      ]
     },
<<<<<<< HEAD
     "execution_count": 90,
=======
     "execution_count": 31,
>>>>>>> f728e8e3932a5fa9ce7fc81c8c83776515620870
     "metadata": {},
     "output_type": "execute_result"
    }
   ],
   "source": [
    "data.head()"
   ]
  },
  {
   "cell_type": "code",
<<<<<<< HEAD
   "execution_count": 91,
=======
   "execution_count": 32,
>>>>>>> f728e8e3932a5fa9ce7fc81c8c83776515620870
   "metadata": {},
   "outputs": [],
   "source": [
    "# Sauvegarde des données\n",
    "data.to_pickle('data.pkl')"
   ]
  },
  {
   "cell_type": "markdown",
   "metadata": {},
   "source": [
    "##### Etiquettes morpho-syntaxiques"
   ]
  },
  {
   "cell_type": "markdown",
   "metadata": {},
   "source": [
    "Puis, nous allons analyser notre texte et renvoyer chaque mot remplacé par sa catégorie grammaticale pour continuer l'étude des avis."
   ]
  },
  {
   "cell_type": "code",
<<<<<<< HEAD
   "execution_count": 92,
=======
   "execution_count": 33,
>>>>>>> f728e8e3932a5fa9ce7fc81c8c83776515620870
   "metadata": {},
   "outputs": [],
   "source": [
    "def replace_words_with_pos_tag(text):\n",
    "    text = nlp(text)\n",
    "    return ' '.join([token.pos_ for token in text])"
   ]
  },
  {
   "cell_type": "code",
<<<<<<< HEAD
   "execution_count": 93,
=======
   "execution_count": 34,
>>>>>>> f728e8e3932a5fa9ce7fc81c8c83776515620870
   "metadata": {},
   "outputs": [],
   "source": [
    "data['pos'] = data['Review Text'].apply(replace_words_with_pos_tag)"
   ]
  },
  {
   "cell_type": "code",
<<<<<<< HEAD
   "execution_count": 94,
=======
   "execution_count": 35,
>>>>>>> f728e8e3932a5fa9ce7fc81c8c83776515620870
   "metadata": {},
   "outputs": [
    {
     "data": {
      "text/html": [
       "<div>\n",
       "<style scoped>\n",
       "    .dataframe tbody tr th:only-of-type {\n",
       "        vertical-align: middle;\n",
       "    }\n",
       "\n",
       "    .dataframe tbody tr th {\n",
       "        vertical-align: top;\n",
       "    }\n",
       "\n",
       "    .dataframe thead th {\n",
       "        text-align: right;\n",
       "    }\n",
       "</style>\n",
       "<table border=\"1\" class=\"dataframe\">\n",
       "  <thead>\n",
       "    <tr style=\"text-align: right;\">\n",
       "      <th></th>\n",
       "      <th>id</th>\n",
       "      <th>Clothing ID</th>\n",
       "      <th>Age</th>\n",
       "      <th>Title</th>\n",
       "      <th>Review Text</th>\n",
       "      <th>Rating</th>\n",
       "      <th>Recommended IND</th>\n",
       "      <th>Positive Feedback Count</th>\n",
       "      <th>Division Name</th>\n",
       "      <th>Department Name</th>\n",
       "      <th>Class Name</th>\n",
       "      <th>lemmas</th>\n",
       "      <th>stems</th>\n",
       "      <th>pos</th>\n",
       "    </tr>\n",
       "  </thead>\n",
       "  <tbody>\n",
       "    <tr>\n",
       "      <th>0</th>\n",
       "      <td>0</td>\n",
       "      <td>767</td>\n",
       "      <td>33</td>\n",
       "      <td>NaN</td>\n",
       "      <td>absolutely wonderful silky and sexy and comfortable</td>\n",
       "      <td>4</td>\n",
       "      <td>1</td>\n",
       "      <td>0</td>\n",
       "      <td>Initmates</td>\n",
       "      <td>Intimate</td>\n",
       "      <td>Intimates</td>\n",
       "      <td>absolutely wonderful silky and sexy and comfortable</td>\n",
       "      <td>absolut wonder silki and sexi and comfort</td>\n",
       "      <td>ADV ADJ NOUN CCONJ ADJ CCONJ ADJ</td>\n",
       "    </tr>\n",
       "    <tr>\n",
       "      <th>1</th>\n",
       "      <td>1</td>\n",
       "      <td>1080</td>\n",
       "      <td>34</td>\n",
       "      <td>NaN</td>\n",
       "      <td>love this dress   it 's sooo pretty   i happened to find it in a store and i 'm glad i did bc i never would have ordered it online bc it 's petite   i bought a petite and am 5'8   i love the length on me- hits just a little below the knee   would definitely be a true midi on someone who is truly petite</td>\n",
       "      <td>5</td>\n",
       "      <td>1</td>\n",
       "      <td>4</td>\n",
       "      <td>General</td>\n",
       "      <td>Dresses</td>\n",
       "      <td>Dresses</td>\n",
       "      <td>love this dress    it be sooo pretty    I happen to find it in a store and I ' m glad I do bc I never would have order it online bc it be petite    I buy a petite and be 5'8    I love the length on me- hit just a little below the knee    would definitely be a true midi on someone who be truly petite</td>\n",
       "      <td>love this dress it s sooo pretti i happen to find it in a store and i m glad i did bc i never would have order it onlin bc it s petit i bought a petit and am 5 8 i love the length on me hit just a littl below the knee would definit be a true midi on someon who is truli petit</td>\n",
       "      <td>VERB DET NOUN SPACE PRON AUX NOUN ADJ SPACE PRON VERB PART VERB PRON ADP DET NOUN CCONJ PRON VERB VERB ADJ PRON VERB PROPN PRON ADV AUX AUX VERB PRON ADJ PROPN PRON AUX ADJ SPACE PRON VERB DET ADJ CCONJ AUX NUM SPACE PRON VERB DET NOUN ADP PROPN VERB ADV DET ADJ ADP DET NOUN SPACE AUX ADV AUX DET ADJ NOUN ADP PRON PRON AUX ADV ADJ</td>\n",
       "    </tr>\n",
       "    <tr>\n",
       "      <th>2</th>\n",
       "      <td>2</td>\n",
       "      <td>1077</td>\n",
       "      <td>60</td>\n",
       "      <td>Some major design flaws</td>\n",
       "      <td>i had such high hopes for this dress and really wanted it to work for me i initially ordered the petite small my usual size but i found this to be outrageously small so small in fact that i could not zip it up i reordered it in petite medium which was just ok overall the top half was comfortable and fit nicely but the bottom half had a very tight under layer and several somewhat cheap net over layers imo a major design flaw was the net over layer sewn directly into the zipper it c</td>\n",
       "      <td>3</td>\n",
       "      <td>0</td>\n",
       "      <td>0</td>\n",
       "      <td>General</td>\n",
       "      <td>Dresses</td>\n",
       "      <td>Dresses</td>\n",
       "      <td>I have such high hope for this dress and really want it to work for I I initially order the petite small my usual size but I find this to be outrageously small so small in fact that I could not zip it up I reorder it in petite medium which be just ok overall the top half be comfortable and fit nicely but the bottom half have a very tight under layer and several somewhat cheap net over layer imo a major design flaw be the net over layer sew directly into the zipper it c</td>\n",
       "      <td>i had such high hope for this dress and realli want it to work for me i initi order the petit small my usual size but i found this to be outrag small so small in fact that i could not zip it up i reorder it in petit medium which was just ok overal the top half was comfort and fit nice but the bottom half had a veri tight under layer and sever somewhat cheap net over layer imo a major design flaw was the net over layer sewn direct into the zipper it c</td>\n",
       "      <td>PRON VERB ADJ ADJ NOUN ADP DET NOUN CCONJ ADV VERB PRON PART VERB ADP PRON PRON ADV VERB DET ADJ ADJ PRON ADJ NOUN CCONJ PRON VERB PRON PART AUX ADV ADJ ADV ADJ ADP NOUN SCONJ PRON AUX PART VERB PRON ADP PRON VERB PRON ADP ADJ NOUN PRON AUX ADV ADV ADJ DET ADJ NOUN AUX ADJ CCONJ ADJ ADV CCONJ DET ADJ NOUN VERB DET ADV ADJ ADP NOUN CCONJ ADJ ADV ADJ NOUN ADP NOUN ADV DET ADJ NOUN NOUN AUX DET NOUN ADP NOUN VERB ADV ADP DET NOUN PRON VERB</td>\n",
       "    </tr>\n",
       "    <tr>\n",
       "      <th>3</th>\n",
       "      <td>3</td>\n",
       "      <td>1049</td>\n",
       "      <td>50</td>\n",
       "      <td>My favorite buy!</td>\n",
       "      <td>i love love love this jumpsuit it 's fun flirty and fabulous every time i wear it i get nothing but great compliments</td>\n",
       "      <td>5</td>\n",
       "      <td>1</td>\n",
       "      <td>0</td>\n",
       "      <td>General Petite</td>\n",
       "      <td>Bottoms</td>\n",
       "      <td>Pants</td>\n",
       "      <td>I love love love this jumpsuit it be fun flirty and fabulous every time I wear it I get nothing but great compliment</td>\n",
       "      <td>i love love love this jumpsuit it s fun flirti and fabul everi time i wear it i get noth but great compliment</td>\n",
       "      <td>PRON VERB NOUN VERB DET NOUN PRON AUX NOUN NOUN CCONJ ADJ DET NOUN PRON VERB PRON PRON VERB PRON SCONJ ADJ NOUN</td>\n",
       "    </tr>\n",
       "    <tr>\n",
       "      <th>4</th>\n",
       "      <td>4</td>\n",
       "      <td>847</td>\n",
       "      <td>47</td>\n",
       "      <td>Flattering shirt</td>\n",
       "      <td>this shirt is very flattering to all due to the adjustable front tie it is the perfect length to wear with leggings and it is sleeveless so it pairs well with any cardigan love this shirt</td>\n",
       "      <td>5</td>\n",
       "      <td>1</td>\n",
       "      <td>6</td>\n",
       "      <td>General</td>\n",
       "      <td>Tops</td>\n",
       "      <td>Blouses</td>\n",
       "      <td>this shirt be very flattering to all due to the adjustable front tie it be the perfect length to wear with legging and it be sleeveless so it pair well with any cardigan love this shirt</td>\n",
       "      <td>this shirt is veri flatter to all due to the adjust front tie it is the perfect length to wear with leg and it is sleeveless so it pair well with ani cardigan love this shirt</td>\n",
       "      <td>DET NOUN AUX ADV ADJ ADP PRON ADP ADP DET ADJ ADJ NOUN PRON AUX DET ADJ NOUN PART VERB ADP NOUN CCONJ PRON AUX ADJ SCONJ PRON VERB ADV ADP DET NOUN VERB DET NOUN</td>\n",
       "    </tr>\n",
       "  </tbody>\n",
       "</table>\n",
       "</div>"
      ],
      "text/plain": [
       "   id  Clothing ID  Age                    Title  \\\n",
       "0   0          767   33                      NaN   \n",
       "1   1         1080   34                      NaN   \n",
       "2   2         1077   60  Some major design flaws   \n",
       "3   3         1049   50         My favorite buy!   \n",
       "4   4          847   47         Flattering shirt   \n",
       "\n",
       "                                                                                                                                                                                                                                                                                                                                                                                                                                                                                             Review Text  \\\n",
       "0                                                                                                                                                                                                                                                                                                                                                                                                                                                    absolutely wonderful silky and sexy and comfortable   \n",
       "1                                                                                                                                                                                        love this dress   it 's sooo pretty   i happened to find it in a store and i 'm glad i did bc i never would have ordered it online bc it 's petite   i bought a petite and am 5'8   i love the length on me- hits just a little below the knee   would definitely be a true midi on someone who is truly petite   \n",
       "2  i had such high hopes for this dress and really wanted it to work for me i initially ordered the petite small my usual size but i found this to be outrageously small so small in fact that i could not zip it up i reordered it in petite medium which was just ok overall the top half was comfortable and fit nicely but the bottom half had a very tight under layer and several somewhat cheap net over layers imo a major design flaw was the net over layer sewn directly into the zipper it c   \n",
       "3                                                                                                                                                                                                                                                                                                                                                                                  i love love love this jumpsuit it 's fun flirty and fabulous every time i wear it i get nothing but great compliments   \n",
       "4                                                                                                                                                                                                                                                                                                            this shirt is very flattering to all due to the adjustable front tie it is the perfect length to wear with leggings and it is sleeveless so it pairs well with any cardigan love this shirt   \n",
       "\n",
       "   Rating  Recommended IND  Positive Feedback Count   Division Name  \\\n",
       "0       4                1                        0       Initmates   \n",
       "1       5                1                        4         General   \n",
       "2       3                0                        0         General   \n",
       "3       5                1                        0  General Petite   \n",
       "4       5                1                        6         General   \n",
       "\n",
       "  Department Name Class Name  \\\n",
       "0        Intimate  Intimates   \n",
       "1         Dresses    Dresses   \n",
       "2         Dresses    Dresses   \n",
       "3         Bottoms      Pants   \n",
       "4            Tops    Blouses   \n",
       "\n",
       "                                                                                                                                                                                                                                                                                                                                                                                                                                                                                      lemmas  \\\n",
       "0                                                                                                                                                                                                                                                                                                                                                                                                                                        absolutely wonderful silky and sexy and comfortable   \n",
       "1                                                                                                                                                                               love this dress    it be sooo pretty    I happen to find it in a store and I ' m glad I do bc I never would have order it online bc it be petite    I buy a petite and be 5'8    I love the length on me- hit just a little below the knee    would definitely be a true midi on someone who be truly petite   \n",
       "2  I have such high hope for this dress and really want it to work for I I initially order the petite small my usual size but I find this to be outrageously small so small in fact that I could not zip it up I reorder it in petite medium which be just ok overall the top half be comfortable and fit nicely but the bottom half have a very tight under layer and several somewhat cheap net over layer imo a major design flaw be the net over layer sew directly into the zipper it c   \n",
       "3                                                                                                                                                                                                                                                                                                                                                                       I love love love this jumpsuit it be fun flirty and fabulous every time I wear it I get nothing but great compliment   \n",
       "4                                                                                                                                                                                                                                                                                                  this shirt be very flattering to all due to the adjustable front tie it be the perfect length to wear with legging and it be sleeveless so it pair well with any cardigan love this shirt   \n",
       "\n",
       "                                                                                                                                                                                                                                                                                                                                                                                                                                                                    stems  \\\n",
       "0                                                                                                                                                                                                                                                                                                                                                                                                                               absolut wonder silki and sexi and comfort   \n",
       "1                                                                                                                                                                                     love this dress it s sooo pretti i happen to find it in a store and i m glad i did bc i never would have order it onlin bc it s petit i bought a petit and am 5 8 i love the length on me hit just a littl below the knee would definit be a true midi on someon who is truli petit   \n",
       "2  i had such high hope for this dress and realli want it to work for me i initi order the petit small my usual size but i found this to be outrag small so small in fact that i could not zip it up i reorder it in petit medium which was just ok overal the top half was comfort and fit nice but the bottom half had a veri tight under layer and sever somewhat cheap net over layer imo a major design flaw was the net over layer sewn direct into the zipper it c   \n",
       "3                                                                                                                                                                                                                                                                                                                                                           i love love love this jumpsuit it s fun flirti and fabul everi time i wear it i get noth but great compliment   \n",
       "4                                                                                                                                                                                                                                                                                          this shirt is veri flatter to all due to the adjust front tie it is the perfect length to wear with leg and it is sleeveless so it pair well with ani cardigan love this shirt   \n",
       "\n",
       "                                                                                                                                                                                                                                                                                                                                                                                                                                                        pos  \n",
       "0                                                                                                                                                                                                                                                                                                                                                                                                                          ADV ADJ NOUN CCONJ ADJ CCONJ ADJ  \n",
       "1                                                                                                              VERB DET NOUN SPACE PRON AUX NOUN ADJ SPACE PRON VERB PART VERB PRON ADP DET NOUN CCONJ PRON VERB VERB ADJ PRON VERB PROPN PRON ADV AUX AUX VERB PRON ADJ PROPN PRON AUX ADJ SPACE PRON VERB DET ADJ CCONJ AUX NUM SPACE PRON VERB DET NOUN ADP PROPN VERB ADV DET ADJ ADP DET NOUN SPACE AUX ADV AUX DET ADJ NOUN ADP PRON PRON AUX ADV ADJ  \n",
       "2  PRON VERB ADJ ADJ NOUN ADP DET NOUN CCONJ ADV VERB PRON PART VERB ADP PRON PRON ADV VERB DET ADJ ADJ PRON ADJ NOUN CCONJ PRON VERB PRON PART AUX ADV ADJ ADV ADJ ADP NOUN SCONJ PRON AUX PART VERB PRON ADP PRON VERB PRON ADP ADJ NOUN PRON AUX ADV ADV ADJ DET ADJ NOUN AUX ADJ CCONJ ADJ ADV CCONJ DET ADJ NOUN VERB DET ADV ADJ ADP NOUN CCONJ ADJ ADV ADJ NOUN ADP NOUN ADV DET ADJ NOUN NOUN AUX DET NOUN ADP NOUN VERB ADV ADP DET NOUN PRON VERB  \n",
       "3                                                                                                                                                                                                                                                                                                                                           PRON VERB NOUN VERB DET NOUN PRON AUX NOUN NOUN CCONJ ADJ DET NOUN PRON VERB PRON PRON VERB PRON SCONJ ADJ NOUN  \n",
       "4                                                                                                                                                                                                                                                                                         DET NOUN AUX ADV ADJ ADP PRON ADP ADP DET ADJ ADJ NOUN PRON AUX DET ADJ NOUN PART VERB ADP NOUN CCONJ PRON AUX ADJ SCONJ PRON VERB ADV ADP DET NOUN VERB DET NOUN  "
      ]
     },
<<<<<<< HEAD
     "execution_count": 94,
=======
     "execution_count": 35,
>>>>>>> f728e8e3932a5fa9ce7fc81c8c83776515620870
     "metadata": {},
     "output_type": "execute_result"
    }
   ],
   "source": [
    "data.head()"
   ]
  },
  {
   "cell_type": "code",
<<<<<<< HEAD
   "execution_count": 95,
=======
   "execution_count": 36,
>>>>>>> f728e8e3932a5fa9ce7fc81c8c83776515620870
   "metadata": {},
   "outputs": [],
   "source": [
    "# Sauvegarde des données\n",
    "data.to_pickle('data.pkl')"
   ]
  },
  {
   "cell_type": "markdown",
   "metadata": {},
   "source": [
    "##### Entités nommées"
   ]
  },
  {
   "cell_type": "markdown",
   "metadata": {},
   "source": [
    "Dans notre contexte l'étude d'entités nommées n'a pas beaucoup de sens car on ne retrouve pas beaucoup de lieux, dates ou personnalités dans des avis concernant des vêtements pour femmes."
   ]
  },
  {
   "cell_type": "markdown",
   "metadata": {},
   "source": [
    "Pour prouver cet argument, nous allons tester sur un avis."
   ]
  },
  {
   "cell_type": "code",
<<<<<<< HEAD
   "execution_count": 96,
=======
   "execution_count": 37,
>>>>>>> f728e8e3932a5fa9ce7fc81c8c83776515620870
   "metadata": {},
   "outputs": [],
   "source": [
    "def ner(text):\n",
    "\n",
    "    text = nlp(text) # on transforme le texte en objet spacy\n",
    "    \n",
    "    new_text = [] # on crée une liste vide\n",
    "\n",
    "    for token in text: # pour chaque token dans l'avis\n",
    "\n",
    "        # print(token.text, token.ent_iob_, token.ent_type_)\n",
    "        \n",
    "        if token.ent_iob_ == \"O\": # si l'entité ne fait pas partie d'une entité nommée\n",
    "            new_text.append(token.text) # on ajoute le texte du token à la liste\n",
    "        elif token.ent_iob_ == \"B\": # si l'entité fait partie d'une entité nommée\n",
    "            new_text.append(token.ent_type_) # on ajoute le type de l'entité à la liste\n",
    "\n",
    "        # Si l'entité comprend plusieurs mot on ne répète pas l'étiquette\n",
    "        else:\n",
    "            continue\n",
    "    return ' '.join(new_text) # on retourne les étiquettes sous forme de texte"
   ]
  },
  {
   "cell_type": "code",
<<<<<<< HEAD
   "execution_count": 97,
=======
   "execution_count": 38,
>>>>>>> f728e8e3932a5fa9ce7fc81c8c83776515620870
   "metadata": {},
   "outputs": [
    {
     "name": "stdout",
     "output_type": "stream",
     "text": [
      "Avis initial :  this is a cute top that can transition easily from summer to fall it fits well nice print and it 's comfortable i tried this on in the store but did not purchase it because the color washed me out this is not the best color for a blonde would look much better on a brunette if this was in a different color i most likely would have purchased it\n",
      "Avis avec les étiquettes :  this is a cute top that can transition easily from DATE to fall it fits well nice print and it 's comfortable i tried this on in the store but did not purchase it because the color washed me out this is not the best color for a blonde would look much better on a brunette if this was in a different color i most likely would have purchased it\n"
     ]
    }
   ],
   "source": [
    "# Test sur un avis\n",
    "print(\"Avis initial : \", data['Review Text'].iloc[50])\n",
    "print(\"Avis avec les étiquettes : \", ner(data['Review Text'].iloc[50]))"
   ]
  },
  {
   "cell_type": "markdown",
   "metadata": {},
   "source": [
    "Dans cet avis, nous pouvons retrouver une entité nommée DATE correspondant à la période de l'année où le vêtement semble être le plus adapté. Cependant, cette dimension ne nous aidera pas dans notre objectif de classification (positif / négatif)."
   ]
  },
  {
   "cell_type": "markdown",
   "metadata": {},
   "source": [
    "## III. Classification"
   ]
  },
  {
   "cell_type": "markdown",
   "metadata": {},
   "source": [
    "Dans cette partie, nous allons chercher à classifier les avis en fonction de leur note. \n",
    "\n",
    "Nous allons utiliser la colonne \"Rating\" comme étiquettes et \"Review Text\" comme valeurs. "
   ]
  },
  {
   "cell_type": "markdown",
   "metadata": {},
   "source": [
    "### Sélection des informations dans notre dataframe"
   ]
  },
  {
   "cell_type": "markdown",
   "metadata": {},
   "source": [
    "Nous allons sélectionner les trois colonnes qui vont nous servir pour la classification dans un objectif d'optimiser les temps de calculs et de ne pas avoir d'informations superflus."
   ]
  },
  {
   "cell_type": "code",
<<<<<<< HEAD
   "execution_count": 98,
=======
   "execution_count": 39,
>>>>>>> f728e8e3932a5fa9ce7fc81c8c83776515620870
   "metadata": {},
   "outputs": [
    {
     "data": {
      "text/html": [
       "<div>\n",
       "<style scoped>\n",
       "    .dataframe tbody tr th:only-of-type {\n",
       "        vertical-align: middle;\n",
       "    }\n",
       "\n",
       "    .dataframe tbody tr th {\n",
       "        vertical-align: top;\n",
       "    }\n",
       "\n",
       "    .dataframe thead th {\n",
       "        text-align: right;\n",
       "    }\n",
       "</style>\n",
       "<table border=\"1\" class=\"dataframe\">\n",
       "  <thead>\n",
       "    <tr style=\"text-align: right;\">\n",
       "      <th></th>\n",
       "      <th>id</th>\n",
       "      <th>Rating</th>\n",
       "      <th>Review Text</th>\n",
       "    </tr>\n",
       "  </thead>\n",
       "  <tbody>\n",
       "    <tr>\n",
       "      <th>0</th>\n",
       "      <td>0</td>\n",
       "      <td>4</td>\n",
       "      <td>absolutely wonderful silky and sexy and comfortable</td>\n",
       "    </tr>\n",
       "    <tr>\n",
       "      <th>1</th>\n",
       "      <td>1</td>\n",
       "      <td>5</td>\n",
       "      <td>love this dress   it 's sooo pretty   i happened to find it in a store and i 'm glad i did bc i never would have ordered it online bc it 's petite   i bought a petite and am 5'8   i love the length on me- hits just a little below the knee   would definitely be a true midi on someone who is truly petite</td>\n",
       "    </tr>\n",
       "    <tr>\n",
       "      <th>2</th>\n",
       "      <td>2</td>\n",
       "      <td>3</td>\n",
       "      <td>i had such high hopes for this dress and really wanted it to work for me i initially ordered the petite small my usual size but i found this to be outrageously small so small in fact that i could not zip it up i reordered it in petite medium which was just ok overall the top half was comfortable and fit nicely but the bottom half had a very tight under layer and several somewhat cheap net over layers imo a major design flaw was the net over layer sewn directly into the zipper it c</td>\n",
       "    </tr>\n",
       "    <tr>\n",
       "      <th>3</th>\n",
       "      <td>3</td>\n",
       "      <td>5</td>\n",
       "      <td>i love love love this jumpsuit it 's fun flirty and fabulous every time i wear it i get nothing but great compliments</td>\n",
       "    </tr>\n",
       "    <tr>\n",
       "      <th>4</th>\n",
       "      <td>4</td>\n",
       "      <td>5</td>\n",
       "      <td>this shirt is very flattering to all due to the adjustable front tie it is the perfect length to wear with leggings and it is sleeveless so it pairs well with any cardigan love this shirt</td>\n",
       "    </tr>\n",
       "  </tbody>\n",
       "</table>\n",
       "</div>"
      ],
      "text/plain": [
       "   id  Rating  \\\n",
       "0   0       4   \n",
       "1   1       5   \n",
       "2   2       3   \n",
       "3   3       5   \n",
       "4   4       5   \n",
       "\n",
       "                                                                                                                                                                                                                                                                                                                                                                                                                                                                                             Review Text  \n",
       "0                                                                                                                                                                                                                                                                                                                                                                                                                                                    absolutely wonderful silky and sexy and comfortable  \n",
       "1                                                                                                                                                                                        love this dress   it 's sooo pretty   i happened to find it in a store and i 'm glad i did bc i never would have ordered it online bc it 's petite   i bought a petite and am 5'8   i love the length on me- hits just a little below the knee   would definitely be a true midi on someone who is truly petite  \n",
       "2  i had such high hopes for this dress and really wanted it to work for me i initially ordered the petite small my usual size but i found this to be outrageously small so small in fact that i could not zip it up i reordered it in petite medium which was just ok overall the top half was comfortable and fit nicely but the bottom half had a very tight under layer and several somewhat cheap net over layers imo a major design flaw was the net over layer sewn directly into the zipper it c  \n",
       "3                                                                                                                                                                                                                                                                                                                                                                                  i love love love this jumpsuit it 's fun flirty and fabulous every time i wear it i get nothing but great compliments  \n",
       "4                                                                                                                                                                                                                                                                                                            this shirt is very flattering to all due to the adjustable front tie it is the perfect length to wear with leggings and it is sleeveless so it pairs well with any cardigan love this shirt  "
      ]
     },
<<<<<<< HEAD
     "execution_count": 98,
=======
     "execution_count": 39,
>>>>>>> f728e8e3932a5fa9ce7fc81c8c83776515620870
     "metadata": {},
     "output_type": "execute_result"
    }
   ],
   "source": [
    "# On récupère la colonne id, Rating et Review Text\n",
    "new_data = data[[\"id\", \"Rating\", \"Review Text\"]]\n",
    "new_data.head()"
   ]
  },
  {
   "cell_type": "markdown",
   "metadata": {},
   "source": [
    "#### Suppression des valeurs manquantes"
   ]
  },
  {
   "cell_type": "markdown",
   "metadata": {},
   "source": [
    "Pour analyser seulement les données complètes, nous allons d'abord supprimer toutes les valeurs manquantes de notre jeu de données réduit. "
   ]
  },
  {
   "cell_type": "code",
<<<<<<< HEAD
   "execution_count": 99,
=======
   "execution_count": 40,
>>>>>>> f728e8e3932a5fa9ce7fc81c8c83776515620870
   "metadata": {},
   "outputs": [],
   "source": [
    "new_data = new_data.dropna() # On supprime les lignes avec des valeurs manquantes"
   ]
  },
  {
   "cell_type": "code",
<<<<<<< HEAD
   "execution_count": 100,
=======
   "execution_count": 41,
>>>>>>> f728e8e3932a5fa9ce7fc81c8c83776515620870
   "metadata": {},
   "outputs": [
    {
     "data": {
      "text/plain": [
       "((23486, 14), (23486, 3))"
      ]
     },
<<<<<<< HEAD
     "execution_count": 100,
=======
     "execution_count": 41,
>>>>>>> f728e8e3932a5fa9ce7fc81c8c83776515620870
     "metadata": {},
     "output_type": "execute_result"
    }
   ],
   "source": [
    "data.shape, new_data.shape"
   ]
  },
  {
   "cell_type": "markdown",
   "metadata": {},
   "source": [
    "Suite à cette manipulation, nous avons "
   ]
  },
  {
   "cell_type": "markdown",
   "metadata": {},
   "source": [
    "#### Analyse de la colonne \"Rating\""
   ]
  },
  {
   "cell_type": "code",
<<<<<<< HEAD
   "execution_count": 101,
=======
   "execution_count": 42,
>>>>>>> f728e8e3932a5fa9ce7fc81c8c83776515620870
   "metadata": {},
   "outputs": [
    {
     "data": {
      "text/plain": [
<<<<<<< HEAD
       "Rating\n",
=======
>>>>>>> f728e8e3932a5fa9ce7fc81c8c83776515620870
       "5    13131\n",
       "4     5077\n",
       "3     2871\n",
       "2     1565\n",
       "1      842\n",
<<<<<<< HEAD
       "Name: count, dtype: int64"
      ]
     },
     "execution_count": 101,
=======
       "Name: Rating, dtype: int64"
      ]
     },
     "execution_count": 42,
>>>>>>> f728e8e3932a5fa9ce7fc81c8c83776515620870
     "metadata": {},
     "output_type": "execute_result"
    }
   ],
   "source": [
    "# Analyse de la colonne \"Rating\"\n",
    "data[\"Rating\"].value_counts()"
   ]
  },
  {
   "cell_type": "markdown",
   "metadata": {},
   "source": [
    "Nous avons ici des notes allant de 1 à 5. Nous allons diviser ces valeurs en 3 catégories : \n",
    "- -1 pour les notes allant de 1 à 2\n",
    "- 0 pour les notes égales à 3 \n",
    "- 1 pour les plus élevées (4 et 5)"
   ]
  },
  {
   "cell_type": "markdown",
   "metadata": {},
   "source": [
    "#### Analyse de la colonne \"Review Text\""
   ]
  },
  {
   "cell_type": "markdown",
   "metadata": {},
   "source": [
    "Notre colonne correspondant aux valeurs est \"Review Text\". \\\n",
    "Cette colonne contient tous les avis laissés par les internautes sur les différents vêtements."
   ]
  },
  {
   "cell_type": "markdown",
   "metadata": {},
   "source": [
    "#### Changement des étiquettes"
   ]
  },
  {
   "cell_type": "markdown",
   "metadata": {},
   "source": [
    "Pour réaliser notre classification, nous allons donc modifier les étiquettes comme précisé ci-dessus. "
   ]
  },
  {
   "cell_type": "code",
<<<<<<< HEAD
   "execution_count": 102,
=======
   "execution_count": 43,
>>>>>>> f728e8e3932a5fa9ce7fc81c8c83776515620870
   "metadata": {},
   "outputs": [],
   "source": [
    "def map_label_to_numeric(label):\n",
    "    return 1 if label == 5 else 0 if label == 3 or label == 4 else -1"
   ]
  },
  {
   "cell_type": "code",
<<<<<<< HEAD
   "execution_count": 103,
=======
   "execution_count": 44,
>>>>>>> f728e8e3932a5fa9ce7fc81c8c83776515620870
   "metadata": {},
   "outputs": [],
   "source": [
    "def get_labels(data):\n",
    "    labels = data[[\"id\",\"Rating\"]]\n",
    "    labels['Rating'] = labels['Rating'].apply(map_label_to_numeric)\n",
    "    labels.set_index('id', inplace=True)\n",
    "    \n",
    "    # ajouter les labels dans data selon l'id\n",
    "    data['score_avis'] = labels\n",
    "\n",
    "    # data['score_avis'] = labels\n",
    "    return data"
   ]
  },
  {
   "cell_type": "code",
<<<<<<< HEAD
   "execution_count": 104,
=======
   "execution_count": 45,
>>>>>>> f728e8e3932a5fa9ce7fc81c8c83776515620870
   "metadata": {},
   "outputs": [
    {
     "name": "stderr",
     "output_type": "stream",
     "text": [
<<<<<<< HEAD
      "C:\\Users\\ASUS\\AppData\\Local\\Temp\\ipykernel_2952\\29256686.py:3: SettingWithCopyWarning: \n",
=======
      "C:\\Users\\orian\\AppData\\Local\\Temp\\ipykernel_6540\\29256686.py:3: SettingWithCopyWarning: \n",
>>>>>>> f728e8e3932a5fa9ce7fc81c8c83776515620870
      "A value is trying to be set on a copy of a slice from a DataFrame.\n",
      "Try using .loc[row_indexer,col_indexer] = value instead\n",
      "\n",
      "See the caveats in the documentation: https://pandas.pydata.org/pandas-docs/stable/user_guide/indexing.html#returning-a-view-versus-a-copy\n",
      "  labels['Rating'] = labels['Rating'].apply(map_label_to_numeric)\n"
     ]
    },
    {
     "data": {
      "text/html": [
       "<div>\n",
       "<style scoped>\n",
       "    .dataframe tbody tr th:only-of-type {\n",
       "        vertical-align: middle;\n",
       "    }\n",
       "\n",
       "    .dataframe tbody tr th {\n",
       "        vertical-align: top;\n",
       "    }\n",
       "\n",
       "    .dataframe thead th {\n",
       "        text-align: right;\n",
       "    }\n",
       "</style>\n",
       "<table border=\"1\" class=\"dataframe\">\n",
       "  <thead>\n",
       "    <tr style=\"text-align: right;\">\n",
       "      <th></th>\n",
       "      <th>id</th>\n",
       "      <th>Clothing ID</th>\n",
       "      <th>Age</th>\n",
       "      <th>Title</th>\n",
       "      <th>Review Text</th>\n",
       "      <th>Rating</th>\n",
       "      <th>Recommended IND</th>\n",
       "      <th>Positive Feedback Count</th>\n",
       "      <th>Division Name</th>\n",
       "      <th>Department Name</th>\n",
       "      <th>Class Name</th>\n",
       "      <th>lemmas</th>\n",
       "      <th>stems</th>\n",
       "      <th>pos</th>\n",
       "      <th>score_avis</th>\n",
       "    </tr>\n",
       "  </thead>\n",
       "  <tbody>\n",
       "    <tr>\n",
       "      <th>0</th>\n",
       "      <td>0</td>\n",
       "      <td>767</td>\n",
       "      <td>33</td>\n",
       "      <td>NaN</td>\n",
       "      <td>absolutely wonderful silky and sexy and comfortable</td>\n",
       "      <td>4</td>\n",
       "      <td>1</td>\n",
       "      <td>0</td>\n",
       "      <td>Initmates</td>\n",
       "      <td>Intimate</td>\n",
       "      <td>Intimates</td>\n",
       "      <td>absolutely wonderful silky and sexy and comfortable</td>\n",
       "      <td>absolut wonder silki and sexi and comfort</td>\n",
       "      <td>ADV ADJ NOUN CCONJ ADJ CCONJ ADJ</td>\n",
       "      <td>0</td>\n",
       "    </tr>\n",
       "    <tr>\n",
       "      <th>1</th>\n",
       "      <td>1</td>\n",
       "      <td>1080</td>\n",
       "      <td>34</td>\n",
       "      <td>NaN</td>\n",
       "      <td>love this dress   it 's sooo pretty   i happened to find it in a store and i 'm glad i did bc i never would have ordered it online bc it 's petite   i bought a petite and am 5'8   i love the length on me- hits just a little below the knee   would definitely be a true midi on someone who is truly petite</td>\n",
       "      <td>5</td>\n",
       "      <td>1</td>\n",
       "      <td>4</td>\n",
       "      <td>General</td>\n",
       "      <td>Dresses</td>\n",
       "      <td>Dresses</td>\n",
       "      <td>love this dress    it be sooo pretty    I happen to find it in a store and I ' m glad I do bc I never would have order it online bc it be petite    I buy a petite and be 5'8    I love the length on me- hit just a little below the knee    would definitely be a true midi on someone who be truly petite</td>\n",
       "      <td>love this dress it s sooo pretti i happen to find it in a store and i m glad i did bc i never would have order it onlin bc it s petit i bought a petit and am 5 8 i love the length on me hit just a littl below the knee would definit be a true midi on someon who is truli petit</td>\n",
       "      <td>VERB DET NOUN SPACE PRON AUX NOUN ADJ SPACE PRON VERB PART VERB PRON ADP DET NOUN CCONJ PRON VERB VERB ADJ PRON VERB PROPN PRON ADV AUX AUX VERB PRON ADJ PROPN PRON AUX ADJ SPACE PRON VERB DET ADJ CCONJ AUX NUM SPACE PRON VERB DET NOUN ADP PROPN VERB ADV DET ADJ ADP DET NOUN SPACE AUX ADV AUX DET ADJ NOUN ADP PRON PRON AUX ADV ADJ</td>\n",
       "      <td>1</td>\n",
       "    </tr>\n",
       "    <tr>\n",
       "      <th>2</th>\n",
       "      <td>2</td>\n",
       "      <td>1077</td>\n",
       "      <td>60</td>\n",
       "      <td>Some major design flaws</td>\n",
       "      <td>i had such high hopes for this dress and really wanted it to work for me i initially ordered the petite small my usual size but i found this to be outrageously small so small in fact that i could not zip it up i reordered it in petite medium which was just ok overall the top half was comfortable and fit nicely but the bottom half had a very tight under layer and several somewhat cheap net over layers imo a major design flaw was the net over layer sewn directly into the zipper it c</td>\n",
       "      <td>3</td>\n",
       "      <td>0</td>\n",
       "      <td>0</td>\n",
       "      <td>General</td>\n",
       "      <td>Dresses</td>\n",
       "      <td>Dresses</td>\n",
       "      <td>I have such high hope for this dress and really want it to work for I I initially order the petite small my usual size but I find this to be outrageously small so small in fact that I could not zip it up I reorder it in petite medium which be just ok overall the top half be comfortable and fit nicely but the bottom half have a very tight under layer and several somewhat cheap net over layer imo a major design flaw be the net over layer sew directly into the zipper it c</td>\n",
       "      <td>i had such high hope for this dress and realli want it to work for me i initi order the petit small my usual size but i found this to be outrag small so small in fact that i could not zip it up i reorder it in petit medium which was just ok overal the top half was comfort and fit nice but the bottom half had a veri tight under layer and sever somewhat cheap net over layer imo a major design flaw was the net over layer sewn direct into the zipper it c</td>\n",
       "      <td>PRON VERB ADJ ADJ NOUN ADP DET NOUN CCONJ ADV VERB PRON PART VERB ADP PRON PRON ADV VERB DET ADJ ADJ PRON ADJ NOUN CCONJ PRON VERB PRON PART AUX ADV ADJ ADV ADJ ADP NOUN SCONJ PRON AUX PART VERB PRON ADP PRON VERB PRON ADP ADJ NOUN PRON AUX ADV ADV ADJ DET ADJ NOUN AUX ADJ CCONJ ADJ ADV CCONJ DET ADJ NOUN VERB DET ADV ADJ ADP NOUN CCONJ ADJ ADV ADJ NOUN ADP NOUN ADV DET ADJ NOUN NOUN AUX DET NOUN ADP NOUN VERB ADV ADP DET NOUN PRON VERB</td>\n",
       "      <td>0</td>\n",
       "    </tr>\n",
       "    <tr>\n",
       "      <th>3</th>\n",
       "      <td>3</td>\n",
       "      <td>1049</td>\n",
       "      <td>50</td>\n",
       "      <td>My favorite buy!</td>\n",
       "      <td>i love love love this jumpsuit it 's fun flirty and fabulous every time i wear it i get nothing but great compliments</td>\n",
       "      <td>5</td>\n",
       "      <td>1</td>\n",
       "      <td>0</td>\n",
       "      <td>General Petite</td>\n",
       "      <td>Bottoms</td>\n",
       "      <td>Pants</td>\n",
       "      <td>I love love love this jumpsuit it be fun flirty and fabulous every time I wear it I get nothing but great compliment</td>\n",
       "      <td>i love love love this jumpsuit it s fun flirti and fabul everi time i wear it i get noth but great compliment</td>\n",
       "      <td>PRON VERB NOUN VERB DET NOUN PRON AUX NOUN NOUN CCONJ ADJ DET NOUN PRON VERB PRON PRON VERB PRON SCONJ ADJ NOUN</td>\n",
       "      <td>1</td>\n",
       "    </tr>\n",
       "    <tr>\n",
       "      <th>4</th>\n",
       "      <td>4</td>\n",
       "      <td>847</td>\n",
       "      <td>47</td>\n",
       "      <td>Flattering shirt</td>\n",
       "      <td>this shirt is very flattering to all due to the adjustable front tie it is the perfect length to wear with leggings and it is sleeveless so it pairs well with any cardigan love this shirt</td>\n",
       "      <td>5</td>\n",
       "      <td>1</td>\n",
       "      <td>6</td>\n",
       "      <td>General</td>\n",
       "      <td>Tops</td>\n",
       "      <td>Blouses</td>\n",
       "      <td>this shirt be very flattering to all due to the adjustable front tie it be the perfect length to wear with legging and it be sleeveless so it pair well with any cardigan love this shirt</td>\n",
       "      <td>this shirt is veri flatter to all due to the adjust front tie it is the perfect length to wear with leg and it is sleeveless so it pair well with ani cardigan love this shirt</td>\n",
       "      <td>DET NOUN AUX ADV ADJ ADP PRON ADP ADP DET ADJ ADJ NOUN PRON AUX DET ADJ NOUN PART VERB ADP NOUN CCONJ PRON AUX ADJ SCONJ PRON VERB ADV ADP DET NOUN VERB DET NOUN</td>\n",
       "      <td>1</td>\n",
       "    </tr>\n",
       "  </tbody>\n",
       "</table>\n",
       "</div>"
      ],
      "text/plain": [
       "   id  Clothing ID  Age                    Title  \\\n",
       "0   0          767   33                      NaN   \n",
       "1   1         1080   34                      NaN   \n",
       "2   2         1077   60  Some major design flaws   \n",
       "3   3         1049   50         My favorite buy!   \n",
       "4   4          847   47         Flattering shirt   \n",
       "\n",
       "                                                                                                                                                                                                                                                                                                                                                                                                                                                                                             Review Text  \\\n",
       "0                                                                                                                                                                                                                                                                                                                                                                                                                                                    absolutely wonderful silky and sexy and comfortable   \n",
       "1                                                                                                                                                                                        love this dress   it 's sooo pretty   i happened to find it in a store and i 'm glad i did bc i never would have ordered it online bc it 's petite   i bought a petite and am 5'8   i love the length on me- hits just a little below the knee   would definitely be a true midi on someone who is truly petite   \n",
       "2  i had such high hopes for this dress and really wanted it to work for me i initially ordered the petite small my usual size but i found this to be outrageously small so small in fact that i could not zip it up i reordered it in petite medium which was just ok overall the top half was comfortable and fit nicely but the bottom half had a very tight under layer and several somewhat cheap net over layers imo a major design flaw was the net over layer sewn directly into the zipper it c   \n",
       "3                                                                                                                                                                                                                                                                                                                                                                                  i love love love this jumpsuit it 's fun flirty and fabulous every time i wear it i get nothing but great compliments   \n",
       "4                                                                                                                                                                                                                                                                                                            this shirt is very flattering to all due to the adjustable front tie it is the perfect length to wear with leggings and it is sleeveless so it pairs well with any cardigan love this shirt   \n",
       "\n",
       "   Rating  Recommended IND  Positive Feedback Count   Division Name  \\\n",
       "0       4                1                        0       Initmates   \n",
       "1       5                1                        4         General   \n",
       "2       3                0                        0         General   \n",
       "3       5                1                        0  General Petite   \n",
       "4       5                1                        6         General   \n",
       "\n",
       "  Department Name Class Name  \\\n",
       "0        Intimate  Intimates   \n",
       "1         Dresses    Dresses   \n",
       "2         Dresses    Dresses   \n",
       "3         Bottoms      Pants   \n",
       "4            Tops    Blouses   \n",
       "\n",
       "                                                                                                                                                                                                                                                                                                                                                                                                                                                                                      lemmas  \\\n",
       "0                                                                                                                                                                                                                                                                                                                                                                                                                                        absolutely wonderful silky and sexy and comfortable   \n",
       "1                                                                                                                                                                               love this dress    it be sooo pretty    I happen to find it in a store and I ' m glad I do bc I never would have order it online bc it be petite    I buy a petite and be 5'8    I love the length on me- hit just a little below the knee    would definitely be a true midi on someone who be truly petite   \n",
       "2  I have such high hope for this dress and really want it to work for I I initially order the petite small my usual size but I find this to be outrageously small so small in fact that I could not zip it up I reorder it in petite medium which be just ok overall the top half be comfortable and fit nicely but the bottom half have a very tight under layer and several somewhat cheap net over layer imo a major design flaw be the net over layer sew directly into the zipper it c   \n",
       "3                                                                                                                                                                                                                                                                                                                                                                       I love love love this jumpsuit it be fun flirty and fabulous every time I wear it I get nothing but great compliment   \n",
       "4                                                                                                                                                                                                                                                                                                  this shirt be very flattering to all due to the adjustable front tie it be the perfect length to wear with legging and it be sleeveless so it pair well with any cardigan love this shirt   \n",
       "\n",
       "                                                                                                                                                                                                                                                                                                                                                                                                                                                                    stems  \\\n",
       "0                                                                                                                                                                                                                                                                                                                                                                                                                               absolut wonder silki and sexi and comfort   \n",
       "1                                                                                                                                                                                     love this dress it s sooo pretti i happen to find it in a store and i m glad i did bc i never would have order it onlin bc it s petit i bought a petit and am 5 8 i love the length on me hit just a littl below the knee would definit be a true midi on someon who is truli petit   \n",
       "2  i had such high hope for this dress and realli want it to work for me i initi order the petit small my usual size but i found this to be outrag small so small in fact that i could not zip it up i reorder it in petit medium which was just ok overal the top half was comfort and fit nice but the bottom half had a veri tight under layer and sever somewhat cheap net over layer imo a major design flaw was the net over layer sewn direct into the zipper it c   \n",
       "3                                                                                                                                                                                                                                                                                                                                                           i love love love this jumpsuit it s fun flirti and fabul everi time i wear it i get noth but great compliment   \n",
       "4                                                                                                                                                                                                                                                                                          this shirt is veri flatter to all due to the adjust front tie it is the perfect length to wear with leg and it is sleeveless so it pair well with ani cardigan love this shirt   \n",
       "\n",
       "                                                                                                                                                                                                                                                                                                                                                                                                                                                        pos  \\\n",
       "0                                                                                                                                                                                                                                                                                                                                                                                                                          ADV ADJ NOUN CCONJ ADJ CCONJ ADJ   \n",
       "1                                                                                                              VERB DET NOUN SPACE PRON AUX NOUN ADJ SPACE PRON VERB PART VERB PRON ADP DET NOUN CCONJ PRON VERB VERB ADJ PRON VERB PROPN PRON ADV AUX AUX VERB PRON ADJ PROPN PRON AUX ADJ SPACE PRON VERB DET ADJ CCONJ AUX NUM SPACE PRON VERB DET NOUN ADP PROPN VERB ADV DET ADJ ADP DET NOUN SPACE AUX ADV AUX DET ADJ NOUN ADP PRON PRON AUX ADV ADJ   \n",
       "2  PRON VERB ADJ ADJ NOUN ADP DET NOUN CCONJ ADV VERB PRON PART VERB ADP PRON PRON ADV VERB DET ADJ ADJ PRON ADJ NOUN CCONJ PRON VERB PRON PART AUX ADV ADJ ADV ADJ ADP NOUN SCONJ PRON AUX PART VERB PRON ADP PRON VERB PRON ADP ADJ NOUN PRON AUX ADV ADV ADJ DET ADJ NOUN AUX ADJ CCONJ ADJ ADV CCONJ DET ADJ NOUN VERB DET ADV ADJ ADP NOUN CCONJ ADJ ADV ADJ NOUN ADP NOUN ADV DET ADJ NOUN NOUN AUX DET NOUN ADP NOUN VERB ADV ADP DET NOUN PRON VERB   \n",
       "3                                                                                                                                                                                                                                                                                                                                           PRON VERB NOUN VERB DET NOUN PRON AUX NOUN NOUN CCONJ ADJ DET NOUN PRON VERB PRON PRON VERB PRON SCONJ ADJ NOUN   \n",
       "4                                                                                                                                                                                                                                                                                         DET NOUN AUX ADV ADJ ADP PRON ADP ADP DET ADJ ADJ NOUN PRON AUX DET ADJ NOUN PART VERB ADP NOUN CCONJ PRON AUX ADJ SCONJ PRON VERB ADV ADP DET NOUN VERB DET NOUN   \n",
       "\n",
       "   score_avis  \n",
       "0           0  \n",
       "1           1  \n",
       "2           0  \n",
       "3           1  \n",
       "4           1  "
      ]
     },
<<<<<<< HEAD
     "execution_count": 104,
=======
     "execution_count": 45,
>>>>>>> f728e8e3932a5fa9ce7fc81c8c83776515620870
     "metadata": {},
     "output_type": "execute_result"
    }
   ],
   "source": [
    "data = get_labels(data)\n",
    "data.head()"
   ]
  },
  {
   "cell_type": "code",
<<<<<<< HEAD
   "execution_count": 105,
=======
   "execution_count": 46,
>>>>>>> f728e8e3932a5fa9ce7fc81c8c83776515620870
   "metadata": {},
   "outputs": [
    {
     "data": {
      "text/plain": [
<<<<<<< HEAD
       "score_avis\n",
       " 1    13131\n",
       " 0     7948\n",
       "-1     2407\n",
       "Name: count, dtype: int64"
      ]
     },
     "execution_count": 105,
=======
       " 1    13131\n",
       " 0     7948\n",
       "-1     2407\n",
       "Name: score_avis, dtype: int64"
      ]
     },
     "execution_count": 46,
>>>>>>> f728e8e3932a5fa9ce7fc81c8c83776515620870
     "metadata": {},
     "output_type": "execute_result"
    }
   ],
   "source": [
    "# On analyse la nouvelle colonne \"score_avis\"\n",
    "data[\"score_avis\"].value_counts()"
   ]
  },
  {
   "cell_type": "markdown",
   "metadata": {},
   "source": [
    "Grâce à cette manipulation, nous pouvons observer que les avis ayant la note de 5 sont majoritaires dans notre jeu de données puisque cela correspond à la note de 1. Les avis compris entre 1 et 2 ont une proportion plus faible (-1). \n",
    "\n",
    "A présent, nous n'avons plus besoin de la colonne Rating, nous pouvons donc la supprimer du dataframe."
   ]
  },
  {
   "cell_type": "code",
<<<<<<< HEAD
   "execution_count": 106,
=======
   "execution_count": 47,
>>>>>>> f728e8e3932a5fa9ce7fc81c8c83776515620870
   "metadata": {},
   "outputs": [
    {
     "data": {
      "text/html": [
       "<div>\n",
       "<style scoped>\n",
       "    .dataframe tbody tr th:only-of-type {\n",
       "        vertical-align: middle;\n",
       "    }\n",
       "\n",
       "    .dataframe tbody tr th {\n",
       "        vertical-align: top;\n",
       "    }\n",
       "\n",
       "    .dataframe thead th {\n",
       "        text-align: right;\n",
       "    }\n",
       "</style>\n",
       "<table border=\"1\" class=\"dataframe\">\n",
       "  <thead>\n",
       "    <tr style=\"text-align: right;\">\n",
       "      <th></th>\n",
       "      <th>id</th>\n",
       "      <th>Review Text</th>\n",
       "      <th>score_avis</th>\n",
       "    </tr>\n",
       "  </thead>\n",
       "  <tbody>\n",
       "    <tr>\n",
       "      <th>0</th>\n",
       "      <td>0</td>\n",
       "      <td>absolutely wonderful silky and sexy and comfortable</td>\n",
       "      <td>0</td>\n",
       "    </tr>\n",
       "    <tr>\n",
       "      <th>1</th>\n",
       "      <td>1</td>\n",
       "      <td>love this dress   it 's sooo pretty   i happened to find it in a store and i 'm glad i did bc i never would have ordered it online bc it 's petite   i bought a petite and am 5'8   i love the length on me- hits just a little below the knee   would definitely be a true midi on someone who is truly petite</td>\n",
       "      <td>1</td>\n",
       "    </tr>\n",
       "    <tr>\n",
       "      <th>2</th>\n",
       "      <td>2</td>\n",
       "      <td>i had such high hopes for this dress and really wanted it to work for me i initially ordered the petite small my usual size but i found this to be outrageously small so small in fact that i could not zip it up i reordered it in petite medium which was just ok overall the top half was comfortable and fit nicely but the bottom half had a very tight under layer and several somewhat cheap net over layers imo a major design flaw was the net over layer sewn directly into the zipper it c</td>\n",
       "      <td>0</td>\n",
       "    </tr>\n",
       "    <tr>\n",
       "      <th>3</th>\n",
       "      <td>3</td>\n",
       "      <td>i love love love this jumpsuit it 's fun flirty and fabulous every time i wear it i get nothing but great compliments</td>\n",
       "      <td>1</td>\n",
       "    </tr>\n",
       "    <tr>\n",
       "      <th>4</th>\n",
       "      <td>4</td>\n",
       "      <td>this shirt is very flattering to all due to the adjustable front tie it is the perfect length to wear with leggings and it is sleeveless so it pairs well with any cardigan love this shirt</td>\n",
       "      <td>1</td>\n",
       "    </tr>\n",
       "  </tbody>\n",
       "</table>\n",
       "</div>"
      ],
      "text/plain": [
       "   id  \\\n",
       "0   0   \n",
       "1   1   \n",
       "2   2   \n",
       "3   3   \n",
       "4   4   \n",
       "\n",
       "                                                                                                                                                                                                                                                                                                                                                                                                                                                                                             Review Text  \\\n",
       "0                                                                                                                                                                                                                                                                                                                                                                                                                                                    absolutely wonderful silky and sexy and comfortable   \n",
       "1                                                                                                                                                                                        love this dress   it 's sooo pretty   i happened to find it in a store and i 'm glad i did bc i never would have ordered it online bc it 's petite   i bought a petite and am 5'8   i love the length on me- hits just a little below the knee   would definitely be a true midi on someone who is truly petite   \n",
       "2  i had such high hopes for this dress and really wanted it to work for me i initially ordered the petite small my usual size but i found this to be outrageously small so small in fact that i could not zip it up i reordered it in petite medium which was just ok overall the top half was comfortable and fit nicely but the bottom half had a very tight under layer and several somewhat cheap net over layers imo a major design flaw was the net over layer sewn directly into the zipper it c   \n",
       "3                                                                                                                                                                                                                                                                                                                                                                                  i love love love this jumpsuit it 's fun flirty and fabulous every time i wear it i get nothing but great compliments   \n",
       "4                                                                                                                                                                                                                                                                                                            this shirt is very flattering to all due to the adjustable front tie it is the perfect length to wear with leggings and it is sleeveless so it pairs well with any cardigan love this shirt   \n",
       "\n",
       "   score_avis  \n",
       "0           0  \n",
       "1           1  \n",
       "2           0  \n",
       "3           1  \n",
       "4           1  "
      ]
     },
<<<<<<< HEAD
     "execution_count": 106,
=======
     "execution_count": 47,
>>>>>>> f728e8e3932a5fa9ce7fc81c8c83776515620870
     "metadata": {},
     "output_type": "execute_result"
    }
   ],
   "source": [
    "data = data[[\"id\", \"Review Text\", \"score_avis\"]]\n",
    "data.head()"
   ]
  },
  {
   "cell_type": "markdown",
   "metadata": {},
   "source": [
    "#### Division de notre dataframe"
   ]
  },
  {
   "cell_type": "markdown",
   "metadata": {},
   "source": [
    "Pour réaliser notre classification, nous avons besoin de séparer notre jeu de données en un jeu d'apprentissage, de validation et de test.\n",
    "\n",
    "Note :\n",
    "Les données en apprentissage automatique sont généralement séparées en trois jeux :\n",
    "+ **entraînement** : données destinées à l'apprentissage du modèle ;\n",
    "+ **validation** : données destinées à une évaluation intermédiaire du modèle pour permettre l'ajustement de ses hyperparamètres. Une fois les hyperparamètres du modèle arrêtés, on peut le ré-entraîner sur l'ensemble des données (entraînement + validation) avant de le tester sur le jeu de test ;\n",
    "+ **test** : données destinées EXCLUSIVEMENT à l'évaluation FINALE (à réaliser une fois uniquement !) du modèle choisi finalement. Elles ne doivent sous aucune forme servir à la conception du modèle. Il est donc interdit aussi bien de les examiner que d'évaluer le modèle en cours de développement sur ce jeu de données."
   ]
  },
  {
   "cell_type": "markdown",
   "metadata": {},
   "source": [
    "Pour créer l'ensemble de validation, nous allons effectuer la manipulation à la fin du pré-traitement réalisé lors de la classification. "
   ]
  },
  {
   "cell_type": "code",
<<<<<<< HEAD
   "execution_count": 107,
=======
   "execution_count": 48,
>>>>>>> f728e8e3932a5fa9ce7fc81c8c83776515620870
   "metadata": {},
   "outputs": [],
   "source": [
    "# Fonction pour diviser de notre jeu de données en 2 : train et test\n",
    "def split_data(data, train_ratio):\n",
    "    data_train = data.sample(frac = train_ratio)\n",
    "    data_test = data.drop(data_train.index)\n",
    "    return data_train, data_test\n",
    "\n",
    "# Diviser notre jeu de données en 2 : train et test\n",
    "data_train, data_test = split_data(data, 0.6)"
   ]
  },
  {
   "cell_type": "code",
<<<<<<< HEAD
   "execution_count": 108,
=======
   "execution_count": 49,
>>>>>>> f728e8e3932a5fa9ce7fc81c8c83776515620870
   "metadata": {},
   "outputs": [
    {
     "data": {
      "text/plain": [
       "((14092, 3), (9394, 3))"
      ]
     },
<<<<<<< HEAD
     "execution_count": 108,
=======
     "execution_count": 49,
>>>>>>> f728e8e3932a5fa9ce7fc81c8c83776515620870
     "metadata": {},
     "output_type": "execute_result"
    }
   ],
   "source": [
    "data_train.shape, data_test.shape"
   ]
  },
  {
   "cell_type": "markdown",
   "metadata": {},
   "source": [
    "Dans notre cas :\n",
    "+ entraînement (appelé *Train*) contenant 11797 observations ;\n",
    "+ validation (appelé *Validation*) contenant 5243 observations ;\n",
    "+ test (appelé *Test*), contenant 2622 observations, soit environ 22% de la taille du jeu d'entraînement."
   ]
  },
  {
   "cell_type": "code",
<<<<<<< HEAD
   "execution_count": 109,
=======
   "execution_count": 50,
>>>>>>> f728e8e3932a5fa9ce7fc81c8c83776515620870
   "metadata": {},
   "outputs": [
    {
     "data": {
      "text/html": [
       "<div>\n",
       "<style scoped>\n",
       "    .dataframe tbody tr th:only-of-type {\n",
       "        vertical-align: middle;\n",
       "    }\n",
       "\n",
       "    .dataframe tbody tr th {\n",
       "        vertical-align: top;\n",
       "    }\n",
       "\n",
       "    .dataframe thead th {\n",
       "        text-align: right;\n",
       "    }\n",
       "</style>\n",
       "<table border=\"1\" class=\"dataframe\">\n",
       "  <thead>\n",
       "    <tr style=\"text-align: right;\">\n",
       "      <th></th>\n",
       "      <th>id</th>\n",
       "      <th>Review Text</th>\n",
       "      <th>score_avis</th>\n",
       "    </tr>\n",
       "  </thead>\n",
       "  <tbody>\n",
       "    <tr>\n",
<<<<<<< HEAD
       "      <th>7801</th>\n",
       "      <td>7801</td>\n",
       "      <td>i ordered an extra small it fits with both a humble tee and a button down with the sleeves rolled up i 've tried it with jeans and also joggers and heels really a cute and versatile sweater i got the olive but can see where the black might be more universally useful this one works perfectly for me however</td>\n",
       "      <td>1</td>\n",
       "    </tr>\n",
       "    <tr>\n",
       "      <th>23286</th>\n",
       "      <td>23286</td>\n",
       "      <td>as soon as my eyes touched these pants i knew my body had to not only doo they look great they feel great the material is very soft with just enough stretch they 've quickly become my favorites i loved the first pair so much i immediately bought the other color</td>\n",
       "      <td>1</td>\n",
       "    </tr>\n",
       "    <tr>\n",
       "      <th>4599</th>\n",
       "      <td>4599</td>\n",
       "      <td>nan</td>\n",
       "      <td>1</td>\n",
       "    </tr>\n",
       "    <tr>\n",
       "      <th>9009</th>\n",
       "      <td>9009</td>\n",
       "      <td>i love this top it is a perfect summer staple but for me it was too short i sized up to fix this problem because i prefer the boho flowy look it is flowy on it 's own but i felt it lacked length so went up a size waiting for my retailer mail with anticipation</td>\n",
       "      <td>1</td>\n",
       "    </tr>\n",
       "    <tr>\n",
       "      <th>21568</th>\n",
       "      <td>21568</td>\n",
       "      <td>the perfect summer top paired with a small tank underneath and jeans and had many compliments</td>\n",
=======
       "      <th>12045</th>\n",
       "      <td>12045</td>\n",
       "      <td>this top was so pretty online unfortunately it did not work for me- the front was a bit more shapeless in person though the back was gorgeous with a button gather at center the color appeared yellow online but was a bit more green in person also the armholes were very low so it would need a camisole or no bra</td>\n",
       "      <td>0</td>\n",
       "    </tr>\n",
       "    <tr>\n",
       "      <th>16648</th>\n",
       "      <td>16648</td>\n",
       "      <td>love love these flannel sleep pants i bought a pair 3 years ago and have been on the look out for the style again these are truly the most comfortable pajama pants i have ever owned</td>\n",
       "      <td>1</td>\n",
       "    </tr>\n",
       "    <tr>\n",
       "      <th>18310</th>\n",
       "      <td>18310</td>\n",
       "      <td>gorgeous dress but fits really large ordered a petite large going to send it back and try the petite medium wish it was available at my store to try on and not have to wait for it to be reshipped</td>\n",
       "      <td>0</td>\n",
       "    </tr>\n",
       "    <tr>\n",
       "      <th>7976</th>\n",
       "      <td>7976</td>\n",
       "      <td>the colors on my monitor are not true to the product and that was disappointing to me that being said and it is important because this will not go with the pants and skirts that i intended it is a very good quality blouse especially at the sale price all cut edges and seams are bound the detailing is very good i wish it was silk instead of polyester however the buttons appear in the photo to be shell in reality they are covered buttons the print is odd and will be difficult to style</td>\n",
       "      <td>0</td>\n",
       "    </tr>\n",
       "    <tr>\n",
       "      <th>4742</th>\n",
       "      <td>4742</td>\n",
       "      <td>this dress is very forgiving on my post baby body i 'm glad i purchased the petite it hits my ankle perfectly i 'm 5'5 very versatile i can see wearing this at work with a blazer or on a weekend</td>\n",
>>>>>>> f728e8e3932a5fa9ce7fc81c8c83776515620870
       "      <td>1</td>\n",
       "    </tr>\n",
       "  </tbody>\n",
       "</table>\n",
       "</div>"
      ],
      "text/plain": [
       "          id  \\\n",
<<<<<<< HEAD
       "7801    7801   \n",
       "23286  23286   \n",
       "4599    4599   \n",
       "9009    9009   \n",
       "21568  21568   \n",
       "\n",
       "                                                                                                                                                                                                                                                                                                              Review Text  \\\n",
       "7801   i ordered an extra small it fits with both a humble tee and a button down with the sleeves rolled up i 've tried it with jeans and also joggers and heels really a cute and versatile sweater i got the olive but can see where the black might be more universally useful this one works perfectly for me however   \n",
       "23286                                               as soon as my eyes touched these pants i knew my body had to not only doo they look great they feel great the material is very soft with just enough stretch they 've quickly become my favorites i loved the first pair so much i immediately bought the other color   \n",
       "4599                                                                                                                                                                                                                                                                                                                  nan   \n",
       "9009                                                  i love this top it is a perfect summer staple but for me it was too short i sized up to fix this problem because i prefer the boho flowy look it is flowy on it 's own but i felt it lacked length so went up a size waiting for my retailer mail with anticipation   \n",
       "21568                                                                                                                                                                                                                       the perfect summer top paired with a small tank underneath and jeans and had many compliments   \n",
       "\n",
       "       score_avis  \n",
       "7801            1  \n",
       "23286           1  \n",
       "4599            1  \n",
       "9009            1  \n",
       "21568           1  "
      ]
     },
     "execution_count": 109,
=======
       "12045  12045   \n",
       "16648  16648   \n",
       "18310  18310   \n",
       "7976    7976   \n",
       "4742    4742   \n",
       "\n",
       "                                                                                                                                                                                                                                                                                                                                                                                                                                                                                                   Review Text  \\\n",
       "12045                                                                                                                                                                                   this top was so pretty online unfortunately it did not work for me- the front was a bit more shapeless in person though the back was gorgeous with a button gather at center the color appeared yellow online but was a bit more green in person also the armholes were very low so it would need a camisole or no bra   \n",
       "16648                                                                                                                                                                                                                                                                                                                    love love these flannel sleep pants i bought a pair 3 years ago and have been on the look out for the style again these are truly the most comfortable pajama pants i have ever owned   \n",
       "18310                                                                                                                                                                                                                                                                                                      gorgeous dress but fits really large ordered a petite large going to send it back and try the petite medium wish it was available at my store to try on and not have to wait for it to be reshipped   \n",
       "7976   the colors on my monitor are not true to the product and that was disappointing to me that being said and it is important because this will not go with the pants and skirts that i intended it is a very good quality blouse especially at the sale price all cut edges and seams are bound the detailing is very good i wish it was silk instead of polyester however the buttons appear in the photo to be shell in reality they are covered buttons the print is odd and will be difficult to style   \n",
       "4742                                                                                                                                                                                                                                                                                                        this dress is very forgiving on my post baby body i 'm glad i purchased the petite it hits my ankle perfectly i 'm 5'5 very versatile i can see wearing this at work with a blazer or on a weekend   \n",
       "\n",
       "       score_avis  \n",
       "12045           0  \n",
       "16648           1  \n",
       "18310           0  \n",
       "7976            0  \n",
       "4742            1  "
      ]
     },
     "execution_count": 50,
>>>>>>> f728e8e3932a5fa9ce7fc81c8c83776515620870
     "metadata": {},
     "output_type": "execute_result"
    }
   ],
   "source": [
    "data_train.head()"
   ]
  },
  {
   "cell_type": "code",
<<<<<<< HEAD
   "execution_count": 110,
=======
   "execution_count": 51,
>>>>>>> f728e8e3932a5fa9ce7fc81c8c83776515620870
   "metadata": {},
   "outputs": [
    {
     "data": {
      "text/html": [
       "<div>\n",
       "<style scoped>\n",
       "    .dataframe tbody tr th:only-of-type {\n",
       "        vertical-align: middle;\n",
       "    }\n",
       "\n",
       "    .dataframe tbody tr th {\n",
       "        vertical-align: top;\n",
       "    }\n",
       "\n",
       "    .dataframe thead th {\n",
       "        text-align: right;\n",
       "    }\n",
       "</style>\n",
       "<table border=\"1\" class=\"dataframe\">\n",
       "  <thead>\n",
       "    <tr style=\"text-align: right;\">\n",
       "      <th></th>\n",
       "      <th>id</th>\n",
       "      <th>Review Text</th>\n",
       "      <th>score_avis</th>\n",
       "    </tr>\n",
       "  </thead>\n",
       "  <tbody>\n",
       "    <tr>\n",
<<<<<<< HEAD
       "      <th>0</th>\n",
       "      <td>0</td>\n",
       "      <td>absolutely wonderful silky and sexy and comfortable</td>\n",
       "      <td>0</td>\n",
       "    </tr>\n",
       "    <tr>\n",
       "      <th>1</th>\n",
       "      <td>1</td>\n",
       "      <td>love this dress   it 's sooo pretty   i happened to find it in a store and i 'm glad i did bc i never would have ordered it online bc it 's petite   i bought a petite and am 5'8   i love the length on me- hits just a little below the knee   would definitely be a true midi on someone who is truly petite</td>\n",
       "      <td>1</td>\n",
       "    </tr>\n",
       "    <tr>\n",
=======
       "      <th>2</th>\n",
       "      <td>2</td>\n",
       "      <td>i had such high hopes for this dress and really wanted it to work for me i initially ordered the petite small my usual size but i found this to be outrageously small so small in fact that i could not zip it up i reordered it in petite medium which was just ok overall the top half was comfortable and fit nicely but the bottom half had a very tight under layer and several somewhat cheap net over layers imo a major design flaw was the net over layer sewn directly into the zipper it c</td>\n",
       "      <td>0</td>\n",
       "    </tr>\n",
       "    <tr>\n",
>>>>>>> f728e8e3932a5fa9ce7fc81c8c83776515620870
       "      <th>4</th>\n",
       "      <td>4</td>\n",
       "      <td>this shirt is very flattering to all due to the adjustable front tie it is the perfect length to wear with leggings and it is sleeveless so it pairs well with any cardigan love this shirt</td>\n",
       "      <td>1</td>\n",
       "    </tr>\n",
       "    <tr>\n",
<<<<<<< HEAD
       "      <th>5</th>\n",
       "      <td>5</td>\n",
       "      <td>i love tracy reese dresses but this one is not for the very petite i am just under 5 feet tall and usually wear a 0p in this brand this dress was very pretty out of the package but its a lot of dress the skirt is long and very full so it overwhelmed my small frame not a stranger to alterations shortening and narrowing the skirt would take away from the embellishment of the garment i love the color and the idea of the style but it just did not work on me i returned this dress</td>\n",
       "      <td>-1</td>\n",
       "    </tr>\n",
       "    <tr>\n",
       "      <th>7</th>\n",
       "      <td>7</td>\n",
       "      <td>i ordered this in carbon for store pick up and had a ton of stuff as always to try on and used this top to pair skirts and pants everything went with it the color is really nice charcoal with shimmer and went well with pencil skirts flare pants etc my only compaint is it is a bit big sleeves are long and it does n't go in petite also a bit loose for me but no xxs so i kept it and wil ldecide later since the light color is already sold out in hte smallest size</td>\n",
       "      <td>0</td>\n",
       "    </tr>\n",
=======
       "      <th>6</th>\n",
       "      <td>6</td>\n",
       "      <td>i aded this in my basket at hte last mintue to see what it would look like in person store pick up i went with teh darkler color only because i am so pale hte color is really gorgeous and turns out it mathced everythiing i was trying on with it prefectly it is a little baggy on me and hte xs is hte msallet size bummer no petite i decided to jkeep it though because as i said it matvehd everything my ejans pants and the 3 skirts i waas trying on of which i kept all oops</td>\n",
       "      <td>1</td>\n",
       "    </tr>\n",
       "    <tr>\n",
       "      <th>11</th>\n",
       "      <td>11</td>\n",
       "      <td>this dress is perfection so pretty and flattering</td>\n",
       "      <td>1</td>\n",
       "    </tr>\n",
       "    <tr>\n",
       "      <th>12</th>\n",
       "      <td>12</td>\n",
       "      <td>more and more i find myself reliant on the reviews written by savvy shoppers before me and for the most past they are right on in their estimation of the product in the case of this dress if it had not been for the reveiws i doubt i would have even tried this the dress is beautifully made lined and reminiscent of the old retailer quality it is lined in the solid periwinkle colored fabric that matches the outer fabric print tts and very form fitting falls just above the knee and does not rid</td>\n",
       "      <td>1</td>\n",
       "    </tr>\n",
>>>>>>> f728e8e3932a5fa9ce7fc81c8c83776515620870
       "  </tbody>\n",
       "</table>\n",
       "</div>"
      ],
      "text/plain": [
<<<<<<< HEAD
       "   id  \\\n",
       "0   0   \n",
       "1   1   \n",
       "4   4   \n",
       "5   5   \n",
       "7   7   \n",
       "\n",
       "                                                                                                                                                                                                                                                                                                                                                                                                                                                                                       Review Text  \\\n",
       "0                                                                                                                                                                                                                                                                                                                                                                                                                                              absolutely wonderful silky and sexy and comfortable   \n",
       "1                                                                                                                                                                                  love this dress   it 's sooo pretty   i happened to find it in a store and i 'm glad i did bc i never would have ordered it online bc it 's petite   i bought a petite and am 5'8   i love the length on me- hits just a little below the knee   would definitely be a true midi on someone who is truly petite   \n",
       "4                                                                                                                                                                                                                                                                                                      this shirt is very flattering to all due to the adjustable front tie it is the perfect length to wear with leggings and it is sleeveless so it pairs well with any cardigan love this shirt   \n",
       "5  i love tracy reese dresses but this one is not for the very petite i am just under 5 feet tall and usually wear a 0p in this brand this dress was very pretty out of the package but its a lot of dress the skirt is long and very full so it overwhelmed my small frame not a stranger to alterations shortening and narrowing the skirt would take away from the embellishment of the garment i love the color and the idea of the style but it just did not work on me i returned this dress   \n",
       "7                  i ordered this in carbon for store pick up and had a ton of stuff as always to try on and used this top to pair skirts and pants everything went with it the color is really nice charcoal with shimmer and went well with pencil skirts flare pants etc my only compaint is it is a bit big sleeves are long and it does n't go in petite also a bit loose for me but no xxs so i kept it and wil ldecide later since the light color is already sold out in hte smallest size   \n",
       "\n",
       "   score_avis  \n",
       "0           0  \n",
       "1           1  \n",
       "4           1  \n",
       "5          -1  \n",
       "7           0  "
      ]
     },
     "execution_count": 110,
=======
       "    id  \\\n",
       "2    2   \n",
       "4    4   \n",
       "6    6   \n",
       "11  11   \n",
       "12  12   \n",
       "\n",
       "                                                                                                                                                                                                                                                                                                                                                                                                                                                                                                        Review Text  \\\n",
       "2             i had such high hopes for this dress and really wanted it to work for me i initially ordered the petite small my usual size but i found this to be outrageously small so small in fact that i could not zip it up i reordered it in petite medium which was just ok overall the top half was comfortable and fit nicely but the bottom half had a very tight under layer and several somewhat cheap net over layers imo a major design flaw was the net over layer sewn directly into the zipper it c   \n",
       "4                                                                                                                                                                                                                                                                                                                       this shirt is very flattering to all due to the adjustable front tie it is the perfect length to wear with leggings and it is sleeveless so it pairs well with any cardigan love this shirt   \n",
       "6                          i aded this in my basket at hte last mintue to see what it would look like in person store pick up i went with teh darkler color only because i am so pale hte color is really gorgeous and turns out it mathced everythiing i was trying on with it prefectly it is a little baggy on me and hte xs is hte msallet size bummer no petite i decided to jkeep it though because as i said it matvehd everything my ejans pants and the 3 skirts i waas trying on of which i kept all oops   \n",
       "11                                                                                                                                                                                                                                                                                                                                                                                                                                                                this dress is perfection so pretty and flattering   \n",
       "12  more and more i find myself reliant on the reviews written by savvy shoppers before me and for the most past they are right on in their estimation of the product in the case of this dress if it had not been for the reveiws i doubt i would have even tried this the dress is beautifully made lined and reminiscent of the old retailer quality it is lined in the solid periwinkle colored fabric that matches the outer fabric print tts and very form fitting falls just above the knee and does not rid   \n",
       "\n",
       "    score_avis  \n",
       "2            0  \n",
       "4            1  \n",
       "6            1  \n",
       "11           1  \n",
       "12           1  "
      ]
     },
     "execution_count": 51,
>>>>>>> f728e8e3932a5fa9ce7fc81c8c83776515620870
     "metadata": {},
     "output_type": "execute_result"
    }
   ],
   "source": [
    "data_test.head()"
   ]
  },
  {
   "cell_type": "markdown",
   "metadata": {},
   "source": [
    "## Exploration des données"
   ]
  },
  {
   "cell_type": "markdown",
   "metadata": {},
   "source": [
    "#### Distribution des classes"
   ]
  },
  {
   "cell_type": "markdown",
   "metadata": {},
   "source": [
    "Il est important de connaître la répartition des classes dans les données d'entraînement pour pouvoir procéder à notre classification."
   ]
  },
  {
   "cell_type": "code",
<<<<<<< HEAD
   "execution_count": 111,
=======
   "execution_count": 52,
>>>>>>> f728e8e3932a5fa9ce7fc81c8c83776515620870
   "metadata": {},
   "outputs": [
    {
     "data": {
      "text/html": [
       "<div>\n",
       "<style scoped>\n",
       "    .dataframe tbody tr th:only-of-type {\n",
       "        vertical-align: middle;\n",
       "    }\n",
       "\n",
       "    .dataframe tbody tr th {\n",
       "        vertical-align: top;\n",
       "    }\n",
       "\n",
       "    .dataframe thead th {\n",
       "        text-align: right;\n",
       "    }\n",
       "</style>\n",
       "<table border=\"1\" class=\"dataframe\">\n",
       "  <thead>\n",
       "    <tr style=\"text-align: right;\">\n",
       "      <th></th>\n",
       "      <th>num_examples</th>\n",
       "    </tr>\n",
       "    <tr>\n",
       "      <th>class</th>\n",
       "      <th></th>\n",
       "    </tr>\n",
       "  </thead>\n",
       "  <tbody>\n",
       "    <tr>\n",
<<<<<<< HEAD
       "      <th>1</th>\n",
       "      <td>7891</td>\n",
       "    </tr>\n",
       "    <tr>\n",
       "      <th>0</th>\n",
       "      <td>4773</td>\n",
       "    </tr>\n",
       "    <tr>\n",
       "      <th>-1</th>\n",
       "      <td>1428</td>\n",
=======
       "      <th>0</th>\n",
       "      <td>4824</td>\n",
       "    </tr>\n",
       "    <tr>\n",
       "      <th>1</th>\n",
       "      <td>7841</td>\n",
       "    </tr>\n",
       "    <tr>\n",
       "      <th>-1</th>\n",
       "      <td>1427</td>\n",
>>>>>>> f728e8e3932a5fa9ce7fc81c8c83776515620870
       "    </tr>\n",
       "  </tbody>\n",
       "</table>\n",
       "</div>"
      ],
      "text/plain": [
       "       num_examples\n",
       "class              \n",
<<<<<<< HEAD
       " 1             7891\n",
       " 0             4773\n",
       "-1             1428"
      ]
     },
     "execution_count": 111,
=======
       " 0             4824\n",
       " 1             7841\n",
       "-1             1427"
      ]
     },
     "execution_count": 52,
>>>>>>> f728e8e3932a5fa9ce7fc81c8c83776515620870
     "metadata": {},
     "output_type": "execute_result"
    }
   ],
   "source": [
    "from collections import Counter\n",
    "import pandas as pd\n",
    "\n",
    "class_distribution = (pd.DataFrame.from_dict(Counter(data_train.score_avis.values),\n",
    "                                             orient='index')\n",
    "                                  .rename(columns={0: 'num_examples'}))\n",
    "class_distribution.index.name = 'class'\n",
    "class_distribution"
   ]
  },
  {
   "cell_type": "code",
<<<<<<< HEAD
   "execution_count": 112,
=======
   "execution_count": 53,
>>>>>>> f728e8e3932a5fa9ce7fc81c8c83776515620870
   "metadata": {},
   "outputs": [
    {
     "data": {
      "text/html": [
       "<div>\n",
       "<style scoped>\n",
       "    .dataframe tbody tr th:only-of-type {\n",
       "        vertical-align: middle;\n",
       "    }\n",
       "\n",
       "    .dataframe tbody tr th {\n",
       "        vertical-align: top;\n",
       "    }\n",
       "\n",
       "    .dataframe thead th {\n",
       "        text-align: right;\n",
       "    }\n",
       "</style>\n",
       "<table border=\"1\" class=\"dataframe\">\n",
       "  <thead>\n",
       "    <tr style=\"text-align: right;\">\n",
       "      <th></th>\n",
       "      <th>num_examples</th>\n",
       "      <th>perc_examples</th>\n",
       "    </tr>\n",
       "    <tr>\n",
       "      <th>class</th>\n",
       "      <th></th>\n",
       "      <th></th>\n",
       "    </tr>\n",
       "  </thead>\n",
       "  <tbody>\n",
       "    <tr>\n",
<<<<<<< HEAD
       "      <th>1</th>\n",
       "      <td>7891</td>\n",
       "      <td>0.56</td>\n",
       "    </tr>\n",
       "    <tr>\n",
       "      <th>0</th>\n",
       "      <td>4773</td>\n",
       "      <td>0.34</td>\n",
       "    </tr>\n",
       "    <tr>\n",
       "      <th>-1</th>\n",
       "      <td>1428</td>\n",
=======
       "      <th>0</th>\n",
       "      <td>4824</td>\n",
       "      <td>0.34</td>\n",
       "    </tr>\n",
       "    <tr>\n",
       "      <th>1</th>\n",
       "      <td>7841</td>\n",
       "      <td>0.56</td>\n",
       "    </tr>\n",
       "    <tr>\n",
       "      <th>-1</th>\n",
       "      <td>1427</td>\n",
>>>>>>> f728e8e3932a5fa9ce7fc81c8c83776515620870
       "      <td>0.10</td>\n",
       "    </tr>\n",
       "  </tbody>\n",
       "</table>\n",
       "</div>"
      ],
      "text/plain": [
       "       num_examples  perc_examples\n",
       "class                             \n",
<<<<<<< HEAD
       " 1             7891           0.56\n",
       " 0             4773           0.34\n",
       "-1             1428           0.10"
      ]
     },
     "execution_count": 112,
=======
       " 0             4824           0.34\n",
       " 1             7841           0.56\n",
       "-1             1427           0.10"
      ]
     },
     "execution_count": 53,
>>>>>>> f728e8e3932a5fa9ce7fc81c8c83776515620870
     "metadata": {},
     "output_type": "execute_result"
    }
   ],
   "source": [
    "import numpy as np\n",
    "\n",
    "class_distribution['perc_examples'] = np.around(class_distribution.num_examples /\n",
    "                                                np.sum(class_distribution.num_examples),\n",
    "                                                2)\n",
    "class_distribution"
   ]
  },
  {
   "cell_type": "markdown",
   "metadata": {},
   "source": [
    "Nous pouvons observer que les classes de scores sont réparties de manière aléatoire dans notre jeu d'apprentissage. Nous pouvons noter plus de 50% d'avis très favorables, correspondant à la note de 5/5. Les avis négatifs sont en minorité dans notre jeu d'entraînement."
   ]
  },
  {
   "cell_type": "markdown",
   "metadata": {},
   "source": [
    "Ces tableaux nous montre que nous avons une prédominance pour les avis positifs dans notre jeu de données (note de 5) et les notes faibles sont minoritaires, elles ne concernent que 10% de notre jeu de données initial."
   ]
  },
  {
   "cell_type": "markdown",
   "metadata": {},
   "source": [
    "#### Exploration du texte"
   ]
  },
  {
   "cell_type": "markdown",
   "metadata": {},
   "source": [
    "Pour se faire une idée des textes auxquels nous avons affaire, nous allons les afficher pour savoir quels pré-traitements sont nécessaires."
   ]
  },
  {
   "cell_type": "code",
<<<<<<< HEAD
   "execution_count": 113,
=======
   "execution_count": 54,
>>>>>>> f728e8e3932a5fa9ce7fc81c8c83776515620870
   "metadata": {},
   "outputs": [
    {
     "data": {
      "text/plain": [
<<<<<<< HEAD
       "array([\"i ordered an extra small it fits with both a humble tee and a button down with the sleeves rolled up i 've tried it with jeans and also joggers and heels really a cute and versatile sweater i got the olive but can see where the black might be more universally useful this one works perfectly for me however\",\n",
       "       \"as soon as my eyes touched these pants i knew my body had to not only doo they look great they feel great the material is very soft with just enough stretch they 've quickly become my favorites i loved the first pair so much i immediately bought the other color\",\n",
       "       'nan',\n",
       "       \"i love this top it is a perfect summer staple but for me it was too short i sized up to fix this problem because i prefer the boho flowy look it is flowy on it 's own but i felt it lacked length so went up a size waiting for my retailer mail with anticipation\",\n",
       "       'the perfect summer top paired with a small tank underneath and jeans and had many compliments'],\n",
       "      dtype=object)"
      ]
     },
     "execution_count": 113,
=======
       "array(['this top was so pretty online unfortunately it did not work for me- the front was a bit more shapeless in person though the back was gorgeous with a button gather at center the color appeared yellow online but was a bit more green in person also the armholes were very low so it would need a camisole or no bra',\n",
       "       'love love these flannel sleep pants i bought a pair 3 years ago and have been on the look out for the style again these are truly the most comfortable pajama pants i have ever owned',\n",
       "       'gorgeous dress but fits really large ordered a petite large going to send it back and try the petite medium wish it was available at my store to try on and not have to wait for it to be reshipped',\n",
       "       'the colors on my monitor are not true to the product and that was disappointing to me that being said and it is important because this will not go with the pants and skirts that i intended it is a very good quality blouse especially at the sale price all cut edges and seams are bound the detailing is very good i wish it was silk instead of polyester however the buttons appear in the photo to be shell in reality they are covered buttons the print is odd and will be difficult to style',\n",
       "       \"this dress is very forgiving on my post baby body i 'm glad i purchased the petite it hits my ankle perfectly i 'm 5'5 very versatile i can see wearing this at work with a blazer or on a weekend\"],\n",
       "      dtype=object)"
      ]
     },
     "execution_count": 54,
>>>>>>> f728e8e3932a5fa9ce7fc81c8c83776515620870
     "metadata": {},
     "output_type": "execute_result"
    }
   ],
   "source": [
    "# Affichage des 5 premiers avis\n",
    "data_train[\"Review Text\"].values[:5]"
   ]
  },
  {
   "cell_type": "markdown",
   "metadata": {},
   "source": [
    "##  Séparation du jeu de données"
   ]
  },
  {
   "cell_type": "markdown",
   "metadata": {},
   "source": [
    "Pour procéder aux calculs, nous allons séparer notre jeu de données d'entraînement pour avoir un jeu de données de validation. Les données test nous servirons pour l'évaluation finale des modèles. "
   ]
  },
  {
   "cell_type": "code",
<<<<<<< HEAD
   "execution_count": 114,
=======
   "execution_count": 55,
>>>>>>> f728e8e3932a5fa9ce7fc81c8c83776515620870
   "metadata": {},
   "outputs": [],
   "source": [
    "from sklearn.model_selection import train_test_split"
   ]
  },
  {
   "cell_type": "code",
<<<<<<< HEAD
   "execution_count": 115,
=======
   "execution_count": 56,
>>>>>>> f728e8e3932a5fa9ce7fc81c8c83776515620870
   "metadata": {},
   "outputs": [],
   "source": [
    "X_train, X_valid, y_train, y_valid = train_test_split(data_train['Review Text'],\n",
    "                                                      data_train['score_avis'],\n",
    "                                                      train_size=0.75,\n",
    "                                                      random_state=5)"
   ]
  },
  {
   "cell_type": "code",
<<<<<<< HEAD
   "execution_count": 116,
=======
   "execution_count": 57,
>>>>>>> f728e8e3932a5fa9ce7fc81c8c83776515620870
   "metadata": {},
   "outputs": [
    {
     "data": {
      "text/plain": [
       "((10569,), (3523,))"
      ]
     },
<<<<<<< HEAD
     "execution_count": 116,
=======
     "execution_count": 57,
>>>>>>> f728e8e3932a5fa9ce7fc81c8c83776515620870
     "metadata": {},
     "output_type": "execute_result"
    }
   ],
   "source": [
    "X_train.shape, X_valid.shape"
   ]
  },
  {
   "cell_type": "markdown",
   "metadata": {},
   "source": [
    "On a donc 8 847 lignes dans notre jeu d'entrainement et 2 950 dans celui de validation."
   ]
  },
  {
   "cell_type": "code",
<<<<<<< HEAD
   "execution_count": 117,
=======
   "execution_count": 58,
>>>>>>> f728e8e3932a5fa9ce7fc81c8c83776515620870
   "metadata": {},
   "outputs": [
    {
     "data": {
      "text/plain": [
<<<<<<< HEAD
       "1773     0\n",
       "7449     0\n",
       "12699    1\n",
       "14613    0\n",
       "19316    0\n",
       "        ..\n",
       "12119    1\n",
       "1453     1\n",
       "16740    1\n",
       "3184     1\n",
       "21463    0\n",
       "Name: score_avis, Length: 10569, dtype: int64"
      ]
     },
     "execution_count": 117,
=======
       "10771    1\n",
       "531      1\n",
       "2490     0\n",
       "6471     0\n",
       "11877    1\n",
       "        ..\n",
       "17287    1\n",
       "17668   -1\n",
       "11611    1\n",
       "11669    1\n",
       "22426    0\n",
       "Name: score_avis, Length: 10569, dtype: int64"
      ]
     },
     "execution_count": 58,
>>>>>>> f728e8e3932a5fa9ce7fc81c8c83776515620870
     "metadata": {},
     "output_type": "execute_result"
    }
   ],
   "source": [
    "y_train"
   ]
  },
  {
   "cell_type": "markdown",
   "metadata": {},
   "source": [
    "Nous pouvons observer que les sorties à prédire correspondent aux trois étiquettes que nous avons défini plus haut."
   ]
  },
  {
   "cell_type": "markdown",
   "metadata": {},
   "source": [
    "Pour évaluer notre modèle, nous initialisons les ensembles de test."
   ]
  },
  {
   "cell_type": "code",
<<<<<<< HEAD
   "execution_count": 118,
=======
   "execution_count": 59,
>>>>>>> f728e8e3932a5fa9ce7fc81c8c83776515620870
   "metadata": {},
   "outputs": [],
   "source": [
    "# On récupère les avis et les labels du jeu de données de test\n",
    "X_test, y_test = data_test['Review Text'], data_test['score_avis'] "
   ]
  },
  {
   "cell_type": "markdown",
   "metadata": {},
   "source": [
    "## Binaire : présence/absence"
   ]
  },
  {
   "cell_type": "markdown",
   "metadata": {},
   "source": [
    "Dans la classification d'avis, la présence ou l'absence de certains mots-clés peut être plus informative que leur fréquence. En ne tenant compte que de la présence/absence des mots, le modèle peut se concentrer sur les aspects les plus pertinents des données, évitant ainsi une complexité inutile.\n",
    "Cela évite de donner trop d'importance aux mots qui apparaissent fréquemment dans un seul document mais qui ne sont pas nécessairement importants pour la classification globale des avis.\n"
   ]
  },
  {
   "cell_type": "code",
<<<<<<< HEAD
   "execution_count": 119,
=======
   "execution_count": 61,
>>>>>>> f728e8e3932a5fa9ce7fc81c8c83776515620870
   "metadata": {},
   "outputs": [],
   "source": [
    "from sklearn.feature_extraction.text import CountVectorizer\n",
    "\n",
    "bin_count = CountVectorizer(binary=True) # chaque mot dans le document est représenté par 1 (s'il est présent) ou 0 (s'il est absent). \n",
    "# CountVectorizer convertit une collection de documents textuels en vecteurs de caractéristiques numériques. C'est une étape essentielle en NLP car les algorithmes de machine learning nécessitent des entrées numériques."
   ]
  },
  {
   "cell_type": "code",
<<<<<<< HEAD
   "execution_count": 120,
=======
   "execution_count": 62,
>>>>>>> f728e8e3932a5fa9ce7fc81c8c83776515620870
   "metadata": {},
   "outputs": [
    {
     "data": {
      "text/html": [
       "<style>#sk-container-id-1 {color: black;}#sk-container-id-1 pre{padding: 0;}#sk-container-id-1 div.sk-toggleable {background-color: white;}#sk-container-id-1 label.sk-toggleable__label {cursor: pointer;display: block;width: 100%;margin-bottom: 0;padding: 0.3em;box-sizing: border-box;text-align: center;}#sk-container-id-1 label.sk-toggleable__label-arrow:before {content: \"▸\";float: left;margin-right: 0.25em;color: #696969;}#sk-container-id-1 label.sk-toggleable__label-arrow:hover:before {color: black;}#sk-container-id-1 div.sk-estimator:hover label.sk-toggleable__label-arrow:before {color: black;}#sk-container-id-1 div.sk-toggleable__content {max-height: 0;max-width: 0;overflow: hidden;text-align: left;background-color: #f0f8ff;}#sk-container-id-1 div.sk-toggleable__content pre {margin: 0.2em;color: black;border-radius: 0.25em;background-color: #f0f8ff;}#sk-container-id-1 input.sk-toggleable__control:checked~div.sk-toggleable__content {max-height: 200px;max-width: 100%;overflow: auto;}#sk-container-id-1 input.sk-toggleable__control:checked~label.sk-toggleable__label-arrow:before {content: \"▾\";}#sk-container-id-1 div.sk-estimator input.sk-toggleable__control:checked~label.sk-toggleable__label {background-color: #d4ebff;}#sk-container-id-1 div.sk-label input.sk-toggleable__control:checked~label.sk-toggleable__label {background-color: #d4ebff;}#sk-container-id-1 input.sk-hidden--visually {border: 0;clip: rect(1px 1px 1px 1px);clip: rect(1px, 1px, 1px, 1px);height: 1px;margin: -1px;overflow: hidden;padding: 0;position: absolute;width: 1px;}#sk-container-id-1 div.sk-estimator {font-family: monospace;background-color: #f0f8ff;border: 1px dotted black;border-radius: 0.25em;box-sizing: border-box;margin-bottom: 0.5em;}#sk-container-id-1 div.sk-estimator:hover {background-color: #d4ebff;}#sk-container-id-1 div.sk-parallel-item::after {content: \"\";width: 100%;border-bottom: 1px solid gray;flex-grow: 1;}#sk-container-id-1 div.sk-label:hover label.sk-toggleable__label {background-color: #d4ebff;}#sk-container-id-1 div.sk-serial::before {content: \"\";position: absolute;border-left: 1px solid gray;box-sizing: border-box;top: 0;bottom: 0;left: 50%;z-index: 0;}#sk-container-id-1 div.sk-serial {display: flex;flex-direction: column;align-items: center;background-color: white;padding-right: 0.2em;padding-left: 0.2em;position: relative;}#sk-container-id-1 div.sk-item {position: relative;z-index: 1;}#sk-container-id-1 div.sk-parallel {display: flex;align-items: stretch;justify-content: center;background-color: white;position: relative;}#sk-container-id-1 div.sk-item::before, #sk-container-id-1 div.sk-parallel-item::before {content: \"\";position: absolute;border-left: 1px solid gray;box-sizing: border-box;top: 0;bottom: 0;left: 50%;z-index: -1;}#sk-container-id-1 div.sk-parallel-item {display: flex;flex-direction: column;z-index: 1;position: relative;background-color: white;}#sk-container-id-1 div.sk-parallel-item:first-child::after {align-self: flex-end;width: 50%;}#sk-container-id-1 div.sk-parallel-item:last-child::after {align-self: flex-start;width: 50%;}#sk-container-id-1 div.sk-parallel-item:only-child::after {width: 0;}#sk-container-id-1 div.sk-dashed-wrapped {border: 1px dashed gray;margin: 0 0.4em 0.5em 0.4em;box-sizing: border-box;padding-bottom: 0.4em;background-color: white;}#sk-container-id-1 div.sk-label label {font-family: monospace;font-weight: bold;display: inline-block;line-height: 1.2em;}#sk-container-id-1 div.sk-label-container {text-align: center;}#sk-container-id-1 div.sk-container {/* jupyter's `normalize.less` sets `[hidden] { display: none; }` but bootstrap.min.css set `[hidden] { display: none !important; }` so we also need the `!important` here to be able to override the default hidden behavior on the sphinx rendered scikit-learn.org. See: https://github.com/scikit-learn/scikit-learn/issues/21755 */display: inline-block !important;position: relative;}#sk-container-id-1 div.sk-text-repr-fallback {display: none;}</style><div id=\"sk-container-id-1\" class=\"sk-top-container\"><div class=\"sk-text-repr-fallback\"><pre>CountVectorizer(binary=True)</pre><b>In a Jupyter environment, please rerun this cell to show the HTML representation or trust the notebook. <br />On GitHub, the HTML representation is unable to render, please try loading this page with nbviewer.org.</b></div><div class=\"sk-container\" hidden><div class=\"sk-item\"><div class=\"sk-estimator sk-toggleable\"><input class=\"sk-toggleable__control sk-hidden--visually\" id=\"sk-estimator-id-1\" type=\"checkbox\" checked><label for=\"sk-estimator-id-1\" class=\"sk-toggleable__label sk-toggleable__label-arrow\">CountVectorizer</label><div class=\"sk-toggleable__content\"><pre>CountVectorizer(binary=True)</pre></div></div></div></div></div>"
      ],
      "text/plain": [
       "CountVectorizer(binary=True)"
      ]
     },
<<<<<<< HEAD
     "execution_count": 120,
=======
     "execution_count": 62,
>>>>>>> f728e8e3932a5fa9ce7fc81c8c83776515620870
     "metadata": {},
     "output_type": "execute_result"
    }
   ],
   "source": [
    "bin_count.fit(X_train)\n",
    "bin_count"
   ]
  },
  {
   "cell_type": "markdown",
   "metadata": {},
   "source": [
    "Nous appliquons CountVectorizer à la fois sur les ensembles d'entraînement (X_train) et de test (X_valid, X_test) pour garantir que les vecteurs sont créés de la même manière. Cela permet d'éviter des problèmes lors de l'évaluation du modèle sur les données de test."
   ]
  },
  {
   "cell_type": "code",
<<<<<<< HEAD
   "execution_count": 121,
=======
   "execution_count": 75,
>>>>>>> f728e8e3932a5fa9ce7fc81c8c83776515620870
   "metadata": {},
   "outputs": [
    {
     "data": {
      "text/plain": [
<<<<<<< HEAD
       "<10569x10023 sparse matrix of type '<class 'numpy.int64'>'\n",
       "\twith 434359 stored elements in Compressed Sparse Row format>"
      ]
     },
     "execution_count": 121,
=======
       "<10569x9970 sparse matrix of type '<class 'numpy.int64'>'\n",
       "\twith 433750 stored elements in Compressed Sparse Row format>"
      ]
     },
     "execution_count": 75,
>>>>>>> f728e8e3932a5fa9ce7fc81c8c83776515620870
     "metadata": {},
     "output_type": "execute_result"
    }
   ],
   "source": [
    "X_train_vectorized_bin = bin_count.transform(X_train)\n",
    "X_train_vectorized_bin"
   ]
  },
  {
   "cell_type": "code",
<<<<<<< HEAD
   "execution_count": 122,
=======
   "execution_count": 65,
>>>>>>> f728e8e3932a5fa9ce7fc81c8c83776515620870
   "metadata": {},
   "outputs": [],
   "source": [
    "X_valid_vectorized_bin = bin_count.transform(X_valid)\n",
    "X_test_vectorized_bin = bin_count.transform(X_test)"
   ]
  },
  {
   "cell_type": "code",
<<<<<<< HEAD
   "execution_count": 123,
=======
   "execution_count": 66,
>>>>>>> f728e8e3932a5fa9ce7fc81c8c83776515620870
   "metadata": {},
   "outputs": [
    {
     "data": {
      "text/plain": [
<<<<<<< HEAD
       "<3523x10023 sparse matrix of type '<class 'numpy.int64'>'\n",
       "\twith 143751 stored elements in Compressed Sparse Row format>"
      ]
     },
     "execution_count": 123,
=======
       "<3523x9970 sparse matrix of type '<class 'numpy.int64'>'\n",
       "\twith 143879 stored elements in Compressed Sparse Row format>"
      ]
     },
     "execution_count": 66,
>>>>>>> f728e8e3932a5fa9ce7fc81c8c83776515620870
     "metadata": {},
     "output_type": "execute_result"
    }
   ],
   "source": [
    "X_valid_vectorized_bin # MEME NOMBRE DE COLONNES QUE X_train_vectorized_bin"
   ]
  },
  {
   "cell_type": "markdown",
   "metadata": {},
   "source": [
    "##  Numérique discret : décomptes d'occurrence"
   ]
  },
  {
   "cell_type": "markdown",
   "metadata": {},
   "source": [
    "Nous allons calculer les fréquences d'occurence des termes dans nos avis. "
   ]
  },
  {
   "cell_type": "code",
<<<<<<< HEAD
   "execution_count": 124,
=======
   "execution_count": 67,
>>>>>>> f728e8e3932a5fa9ce7fc81c8c83776515620870
   "metadata": {},
   "outputs": [],
   "source": [
    "vect_count = CountVectorizer().fit(X_train) # transformation des avis en necteur numérique pour entraîner nos algorithmes de machine learning"
   ]
  },
  {
   "cell_type": "markdown",
   "metadata": {},
   "source": [
    "Nous pouvons examiner le vocabulaire de nos avis : "
   ]
  },
  {
   "cell_type": "code",
<<<<<<< HEAD
   "execution_count": 125,
=======
   "execution_count": 68,
>>>>>>> f728e8e3932a5fa9ce7fc81c8c83776515620870
   "metadata": {},
   "outputs": [
    {
     "data": {
      "text/plain": [
<<<<<<< HEAD
       "array(['00', '00p', '02', '03', '0dd', '0p', '0petite', '0xs', '10',\n",
       "       '100', '100lbs', '101', '102', '102lbs', '103', '103lbs', '104',\n",
       "       '104lbs', '105', '105lbs', '106', '106lbs', '107', '107lbs',\n",
       "       '107pound', '108', '109', '109lbs', '10mths', '10p', '10s', '10th',\n",
       "       '11', '110', '110lbs', '111', '111lbs', '112', '112lbs', '113',\n",
       "       '113lbs', '114', '115', '115lbs', '116', '116bs', '116ibs',\n",
       "       '116lbs', '117', '117bl'], dtype=object)"
      ]
     },
     "execution_count": 125,
=======
       "array(['00', '000', '00p', '02', '03dd', '04', '06', '0p', '0petite',\n",
       "       '0r', '0verall', '10', '100', '1000', '100lbs', '101', '102',\n",
       "       '102lbs', '103', '103lbs', '104', '104lbs', '105', '105lbs', '106',\n",
       "       '107', '107lbs', '108', '109', '109lbs', '10mths', '10p', '10s',\n",
       "       '10x', '11', '110', '110lbs', '111', '111lbs', '112', '112lbs',\n",
       "       '113', '113lbs', '114', '114lbs', '115', '115ish', '115lbs', '116',\n",
       "       '116lbs'], dtype=object)"
      ]
     },
     "execution_count": 68,
>>>>>>> f728e8e3932a5fa9ce7fc81c8c83776515620870
     "metadata": {},
     "output_type": "execute_result"
    }
   ],
   "source": [
    "vect_count.get_feature_names_out()[:50] # 50 premiers mots (\"types\" du vocabulaire)"
   ]
  },
  {
   "cell_type": "code",
<<<<<<< HEAD
   "execution_count": 126,
=======
   "execution_count": 69,
>>>>>>> f728e8e3932a5fa9ce7fc81c8c83776515620870
   "metadata": {},
   "outputs": [
    {
     "data": {
      "text/plain": [
<<<<<<< HEAD
       "array(['yes', 'yest', 'yesterday', 'yesteryear', 'yet', 'yfit', 'yield',\n",
       "       'yikes', 'yo', 'yoga', 'yogi', 'yoke', 'york', 'you', 'young',\n",
       "       'younger', 'your', 'yourself', 'yourselves', 'youth', 'youthful',\n",
       "       'yrs', 'yuck', 'yucky', 'yuk', 'yumi', 'yummy', 'yup', 'zag',\n",
       "       'zed', 'zermatt', 'zero', 'zeros', 'zig', 'zigzag', 'zillion',\n",
       "       'zip', 'zipepr', 'zipped', 'zipper', 'zippered', 'zippers',\n",
       "       'zippie', 'zipping', 'zips', 'zombie', 'zone', 'zoolander', 'zoom',\n",
       "       'zuma'], dtype=object)"
      ]
     },
     "execution_count": 126,
=======
       "array(['yepeee', 'yes', 'yesterday', 'yesteryear', 'yet', 'yielded',\n",
       "       'yikes', 'yippee', 'yo', 'yoga', 'yogi', 'yogini', 'yogis', 'yoke',\n",
       "       'yolk', 'york', 'you', 'young', 'younger', 'your', 'yourself',\n",
       "       'yourselves', 'youth', 'youthful', 'youthfull', 'yr', 'yrs',\n",
       "       'yucky', 'yuk', 'yumi', 'yummy', 'yup', 'zara', 'zed', 'zermatt',\n",
       "       'zero', 'zigzag', 'zip', 'zipped', 'zipper', 'zippered', 'zippers',\n",
       "       'zippie', 'zipping', 'zips', 'zombie', 'zone', 'zoolander', 'zoom',\n",
       "       'zooming'], dtype=object)"
      ]
     },
     "execution_count": 69,
>>>>>>> f728e8e3932a5fa9ce7fc81c8c83776515620870
     "metadata": {},
     "output_type": "execute_result"
    }
   ],
   "source": [
    "vect_count.get_feature_names_out()[-50:] # 50 derniers mots (\"types\" du vocabulaire)"
   ]
  },
  {
   "cell_type": "markdown",
   "metadata": {},
   "source": [
    "Taille de notre vocabulaire :"
   ]
  },
  {
   "cell_type": "code",
<<<<<<< HEAD
   "execution_count": 127,
=======
   "execution_count": 70,
>>>>>>> f728e8e3932a5fa9ce7fc81c8c83776515620870
   "metadata": {},
   "outputs": [
    {
     "data": {
      "text/plain": [
<<<<<<< HEAD
       "10023"
      ]
     },
     "execution_count": 127,
=======
       "9970"
      ]
     },
     "execution_count": 70,
>>>>>>> f728e8e3932a5fa9ce7fc81c8c83776515620870
     "metadata": {},
     "output_type": "execute_result"
    }
   ],
   "source": [
    "len(vect_count.get_feature_names_out()) "
   ]
  },
  {
   "cell_type": "markdown",
   "metadata": {},
   "source": [
    "### Création matrice document-termes"
   ]
  },
  {
   "cell_type": "markdown",
   "metadata": {},
   "source": [
    "Nous allons créer la matrice document-termes avec le même vectoriseur. Chaque ligne représente un avis et chaque colonne un mot ou un n-gramme. Les valeurs dans la matrice indiquent la fréquence du terme dans le document correspondant."
   ]
  },
  {
   "cell_type": "code",
<<<<<<< HEAD
   "execution_count": 128,
=======
   "execution_count": 71,
>>>>>>> f728e8e3932a5fa9ce7fc81c8c83776515620870
   "metadata": {},
   "outputs": [
    {
     "data": {
      "text/plain": [
<<<<<<< HEAD
       "<10569x10023 sparse matrix of type '<class 'numpy.int64'>'\n",
       "\twith 434359 stored elements in Compressed Sparse Row format>"
      ]
     },
     "execution_count": 128,
=======
       "<10569x9970 sparse matrix of type '<class 'numpy.int64'>'\n",
       "\twith 433750 stored elements in Compressed Sparse Row format>"
      ]
     },
     "execution_count": 71,
>>>>>>> f728e8e3932a5fa9ce7fc81c8c83776515620870
     "metadata": {},
     "output_type": "execute_result"
    }
   ],
   "source": [
    "X_train_vectorized_count = vect_count.transform(X_train)\n",
    "X_train_vectorized_count"
   ]
  },
  {
   "cell_type": "code",
<<<<<<< HEAD
   "execution_count": 129,
=======
   "execution_count": 72,
>>>>>>> f728e8e3932a5fa9ce7fc81c8c83776515620870
   "metadata": {},
   "outputs": [],
   "source": [
    "X_valid_vectorized_count = vect_count.transform(X_valid)\n",
    "X_test_vectorized_count = vect_count.transform(X_test)"
   ]
  },
  {
   "cell_type": "markdown",
   "metadata": {},
   "source": [
    "A présent, nous allons prendre en compte les bi-grammes dans notre vocabulaire. "
   ]
  },
  {
   "cell_type": "code",
<<<<<<< HEAD
   "execution_count": 130,
=======
   "execution_count": 73,
>>>>>>> f728e8e3932a5fa9ce7fc81c8c83776515620870
   "metadata": {},
   "outputs": [],
   "source": [
    "vect_count_bigrams = CountVectorizer(min_df=5, # on ne garde que les mots qui apparaissent au moins 5 fois dans le corpus\n",
    "                                      ngram_range=(1,2)).fit(X_train)\n",
    "X_train_vectorized_count_bigrams = vect_count_bigrams.transform(X_train)\n",
    "X_valid_vectorized_count_bigrams = vect_count_bigrams.transform(X_valid)\n",
    "X_test_vectorized_count_bigrams = vect_count_bigrams.transform(X_test)"
   ]
  },
  {
   "cell_type": "code",
<<<<<<< HEAD
   "execution_count": 131,
=======
   "execution_count": 74,
>>>>>>> f728e8e3932a5fa9ce7fc81c8c83776515620870
   "metadata": {},
   "outputs": [
    {
     "data": {
      "text/plain": [
<<<<<<< HEAD
       "18997"
      ]
     },
     "execution_count": 131,
=======
       "18889"
      ]
     },
     "execution_count": 74,
>>>>>>> f728e8e3932a5fa9ce7fc81c8c83776515620870
     "metadata": {},
     "output_type": "execute_result"
    }
   ],
   "source": [
    "len(vect_count_bigrams.get_feature_names_out())"
   ]
  },
  {
   "cell_type": "markdown",
   "metadata": {},
   "source": [
    "Nous avons presque 2 fois plus de vocabulaire avec inclusion des bigrammes."
   ]
  },
  {
   "cell_type": "markdown",
   "metadata": {},
   "source": [
    "# TRI-GRAMMES \n",
    "# filtres sur des catégories (adj+nom)"
   ]
  },
  {
   "cell_type": "markdown",
   "metadata": {},
   "source": [
    "###  Numérique continu : TF-IDF (ou autres pondérations)"
   ]
  },
  {
   "cell_type": "markdown",
   "metadata": {},
   "source": [
    "Nous allons limiter le vocabulaire à des termes qui apparaissent au moins 5 fois dans le document."
   ]
  },
  {
   "cell_type": "code",
<<<<<<< HEAD
   "execution_count": 132,
=======
   "execution_count": 76,
>>>>>>> f728e8e3932a5fa9ce7fc81c8c83776515620870
   "metadata": {},
   "outputs": [],
   "source": [
    "from sklearn.feature_extraction.text import TfidfVectorizer"
   ]
  },
  {
   "cell_type": "code",
<<<<<<< HEAD
   "execution_count": 133,
=======
   "execution_count": 77,
>>>>>>> f728e8e3932a5fa9ce7fc81c8c83776515620870
   "metadata": {},
   "outputs": [],
   "source": [
    "vect_tfidf = TfidfVectorizer(min_df=5).fit(X_train)"
   ]
  },
  {
   "cell_type": "code",
<<<<<<< HEAD
   "execution_count": 134,
=======
   "execution_count": 78,
>>>>>>> f728e8e3932a5fa9ce7fc81c8c83776515620870
   "metadata": {},
   "outputs": [
    {
     "data": {
      "text/plain": [
<<<<<<< HEAD
       "(10023, 3393)"
      ]
     },
     "execution_count": 134,
=======
       "(9970, 3374)"
      ]
     },
     "execution_count": 78,
>>>>>>> f728e8e3932a5fa9ce7fc81c8c83776515620870
     "metadata": {},
     "output_type": "execute_result"
    }
   ],
   "source": [
    "len(vect_count.get_feature_names_out()), len(vect_tfidf.get_feature_names_out())"
   ]
  },
  {
   "cell_type": "markdown",
   "metadata": {},
   "source": [
    "La réduction de la taille du vocadulaire est importante et est due au paramètre min_df=5 : on a quasiment 3 fois moins de termes !"
   ]
  },
  {
   "cell_type": "markdown",
   "metadata": {},
   "source": [
    "Nous allons vectoriser les jeux de données. "
   ]
  },
  {
   "cell_type": "code",
<<<<<<< HEAD
   "execution_count": 135,
=======
   "execution_count": 79,
>>>>>>> f728e8e3932a5fa9ce7fc81c8c83776515620870
   "metadata": {},
   "outputs": [],
   "source": [
    "# Vectorisation des corpus d'entrainement, de validation et de test\n",
    "X_train_vectorized_tfidf = vect_tfidf.transform(X_train)\n",
    "X_valid_vectorized_tfidf = vect_tfidf.transform(X_valid)\n",
    "X_test_vectorized_tfidf = vect_tfidf.transform(X_test)"
   ]
  },
  {
   "cell_type": "markdown",
   "metadata": {},
   "source": [
    "## Modélisation"
   ]
  },
  {
   "cell_type": "markdown",
   "metadata": {},
   "source": [
    "Nous allons réaliser une classification en utilisant plusieurs modèles afin de comparer les performances. "
   ]
  },
  {
   "cell_type": "code",
<<<<<<< HEAD
   "execution_count": 136,
=======
   "execution_count": 80,
>>>>>>> f728e8e3932a5fa9ce7fc81c8c83776515620870
   "metadata": {},
   "outputs": [],
   "source": [
    "from sklearn.metrics import accuracy_score, precision_score, recall_score, f1_score, classification_report, confusion_matrix"
   ]
  },
  {
   "cell_type": "markdown",
   "metadata": {},
   "source": [
    "### Modèles de référence faibles"
   ]
  },
  {
   "cell_type": "markdown",
   "metadata": {},
   "source": [
    "#### Choix aléatoire"
   ]
  },
  {
   "cell_type": "markdown",
   "metadata": {},
   "source": [
    "#### Prediction stratifiée : "
   ]
  },
  {
   "cell_type": "markdown",
   "metadata": {},
   "source": [
    "Nous allons d'abord choisir un modèle où toutes les classes ont la même probabilité d'être choisies ou bien le prédicteur respecte la disctribution des classes dans les données d'entrainement."
   ]
  },
  {
   "cell_type": "code",
<<<<<<< HEAD
   "execution_count": 137,
=======
   "execution_count": 81,
>>>>>>> f728e8e3932a5fa9ce7fc81c8c83776515620870
   "metadata": {},
   "outputs": [],
   "source": [
    "from sklearn.dummy import DummyClassifier"
   ]
  },
  {
   "cell_type": "markdown",
   "metadata": {},
   "source": [
    "Cette stratégie génère des prédictions en respectant la distribution des classes dans les données d'entraînement. Cela signifie que si, par exemple, 30% des échantillons dans les données d'entraînement appartiennent à une certaine classe, alors 30% des prédictions du modèle seront également de cette classe."
   ]
  },
  {
   "cell_type": "code",
<<<<<<< HEAD
   "execution_count": 138,
=======
   "execution_count": 82,
>>>>>>> f728e8e3932a5fa9ce7fc81c8c83776515620870
   "metadata": {},
   "outputs": [],
   "source": [
    "random_prop_class = DummyClassifier(strategy='stratified').fit(X_train_vectorized_tfidf,\n",
    "                                                               y_train) # crée un modèle simple basé sur la stratégie stratified (tire au hasard en respectant la distribution des classes)\n",
    "predictions_valid = random_prop_class.predict(X_valid_vectorized_tfidf)\n",
    "conf_mat = confusion_matrix(y_valid, predictions_valid)"
   ]
  },
  {
   "cell_type": "code",
<<<<<<< HEAD
   "execution_count": 139,
=======
   "execution_count": 83,
>>>>>>> f728e8e3932a5fa9ce7fc81c8c83776515620870
   "metadata": {},
   "outputs": [
    {
     "name": "stdout",
     "output_type": "stream",
     "text": [
<<<<<<< HEAD
      "[[  34  100  220]\n",
      " [ 107  442  645]\n",
      " [ 207  682 1086]]\n"
=======
      "[[  42  122  183]\n",
      " [ 130  389  660]\n",
      " [ 205  694 1098]]\n"
>>>>>>> f728e8e3932a5fa9ce7fc81c8c83776515620870
     ]
    }
   ],
   "source": [
    "print(conf_mat)"
   ]
  },
  {
   "cell_type": "markdown",
   "metadata": {},
   "source": [
    "C'est une matrice de confusion 3x3, ce qui suggère qu'il y a trois classes dans votre ensemble de données. \n",
    "La première ligne correspond à la première classe, la deuxième ligne à la deuxième classe, et ainsi de suite.\n",
    "La première colonne montre combien de fois les échantillons de chaque classe ont été prédits comme appartenant à la première classe, ect. \n",
    "\n",
    "Il y a 42 échantillons de la première classe correctement classés. Il y a 122 échantillons qui appartiennent réellement à la première classe mais qui ont été incorrectement prédites comme appartenant à la deuxième classe par le modèle. De la même façon, il y a 183 échantillons qui appartiennent réellement à la première classe mais qui ont été incorrectement prédites comme appartenant à la troisième classe par le modèle.\n",
    "\n"
   ]
  },
  {
   "cell_type": "code",
<<<<<<< HEAD
   "execution_count": 140,
=======
   "execution_count": null,
   "metadata": {},
   "outputs": [],
   "source": [
    "accuracy_score(y_valid, predictions_valid)"
   ]
  },
  {
   "cell_type": "markdown",
   "metadata": {},
   "source": [
    "#### Prédiction uniforme : "
   ]
  },
  {
   "cell_type": "markdown",
   "metadata": {},
   "source": [
    "Nous allons ensuite crée un classificateur qui fait des prédictions en suivant une distribution uniforme. Cela signifie que chaque classe a la même probabilité d'être choisie pour chaque prédiction."
   ]
  },
  {
   "cell_type": "code",
   "execution_count": 84,
>>>>>>> f728e8e3932a5fa9ce7fc81c8c83776515620870
   "metadata": {},
   "outputs": [
    {
     "data": {
      "text/plain": [
<<<<<<< HEAD
       "array([ 1, -1,  0, ...,  0,  1, -1], dtype=int64)"
      ]
     },
     "execution_count": 140,
=======
       "array([-1, -1,  0, ...,  0,  0,  0], dtype=int64)"
      ]
     },
     "execution_count": 84,
>>>>>>> f728e8e3932a5fa9ce7fc81c8c83776515620870
     "metadata": {},
     "output_type": "execute_result"
    }
   ],
   "source": [
    "random_uniform = DummyClassifier(strategy='uniform').fit(X_train_vectorized_tfidf,\n",
    "                                                         y_train)\n",
    "predictions_valid = random_uniform.predict(X_valid_vectorized_tfidf)\n",
    "predictions_valid"
   ]
  },
  {
   "cell_type": "code",
<<<<<<< HEAD
   "execution_count": 141,
=======
   "execution_count": 85,
>>>>>>> f728e8e3932a5fa9ce7fc81c8c83776515620870
   "metadata": {},
   "outputs": [],
   "source": [
    "conf_mat = confusion_matrix(y_valid, predictions_valid)"
   ]
  },
  {
   "cell_type": "code",
<<<<<<< HEAD
   "execution_count": 142,
=======
   "execution_count": 86,
>>>>>>> f728e8e3932a5fa9ce7fc81c8c83776515620870
   "metadata": {},
   "outputs": [
    {
     "name": "stdout",
     "output_type": "stream",
     "text": [
<<<<<<< HEAD
      "[[111 118 125]\n",
      " [395 370 429]\n",
      " [638 672 665]]\n"
=======
      "[[115 116 116]\n",
      " [385 385 409]\n",
      " [632 672 693]]\n"
>>>>>>> f728e8e3932a5fa9ce7fc81c8c83776515620870
     ]
    }
   ],
   "source": [
    "print(conf_mat)"
   ]
  },
  {
   "cell_type": "markdown",
   "metadata": {},
   "source": [
    "Cette matrice montre une répartition presque égale des prédictions parmi les trois classes, ce qui est attendu puisque le modèle prédit les classes de manière aléatoire et uniforme."
   ]
  },
  {
   "cell_type": "markdown",
   "metadata": {},
   "source": [
    "En comparaison avec la stratégie stratified du DummyClassifier, où les prédictions respectent la distribution des classes dans les données d'entraînement, la stratégie uniform ne présente pas une tendance claire à prédire une classe plus fréquemment qu'une autre, ce qui peut conduire à des performances globalement plus faibles si la distribution des classes dans les données n'est pas uniforme."
   ]
  },
  {
   "cell_type": "code",
<<<<<<< HEAD
   "execution_count": 143,
=======
   "execution_count": 87,
>>>>>>> f728e8e3932a5fa9ce7fc81c8c83776515620870
   "metadata": {},
   "outputs": [
    {
     "data": {
      "text/plain": [
<<<<<<< HEAD
       "0.32529094521714447"
      ]
     },
     "execution_count": 143,
=======
       "0.3386318478569401"
      ]
     },
     "execution_count": 87,
>>>>>>> f728e8e3932a5fa9ce7fc81c8c83776515620870
     "metadata": {},
     "output_type": "execute_result"
    }
   ],
   "source": [
    "accuracy_score(y_valid, predictions_valid)"
   ]
  },
  {
   "cell_type": "markdown",
   "metadata": {},
   "source": [
    "L'accuracy score de 0.3386 pour le modèle utilisant la stratégie uniform du DummyClassifier indique que, en moyenne, seulement environ 33.86% des prédictions étaient correctes, ce qui reflète la performance attendue d'un modèle qui fait des choix de classe de manière complètement aléatoire sans aucune connaissance ou apprentissage des données."
   ]
  },
  {
   "cell_type": "code",
<<<<<<< HEAD
   "execution_count": 144,
=======
   "execution_count": 88,
>>>>>>> f728e8e3932a5fa9ce7fc81c8c83776515620870
   "metadata": {},
   "outputs": [
    {
     "name": "stdout",
     "output_type": "stream",
     "text": [
      "              precision    recall  f1-score   support\n",
      "\n",
<<<<<<< HEAD
      "          -1       0.10      0.31      0.15       354\n",
      "           0       0.32      0.31      0.31      1194\n",
      "           1       0.55      0.34      0.42      1975\n",
      "\n",
      "    accuracy                           0.33      3523\n",
      "   macro avg       0.32      0.32      0.29      3523\n",
      "weighted avg       0.42      0.33      0.35      3523\n",
=======
      "          -1       0.10      0.33      0.16       347\n",
      "           0       0.33      0.33      0.33      1179\n",
      "           1       0.57      0.35      0.43      1997\n",
      "\n",
      "    accuracy                           0.34      3523\n",
      "   macro avg       0.33      0.33      0.30      3523\n",
      "weighted avg       0.44      0.34      0.37      3523\n",
>>>>>>> f728e8e3932a5fa9ce7fc81c8c83776515620870
      "\n"
     ]
    }
   ],
   "source": [
    "print(classification_report(y_valid, predictions_valid))"
   ]
  },
  {
   "cell_type": "markdown",
   "metadata": {},
   "source": [
    "#### Prédiction constante de la classe majoritaire"
   ]
  },
  {
   "cell_type": "markdown",
   "metadata": {},
   "source": [
    "Nous allons d'abord identifier la répartition des classes dans les données d'entrainement."
   ]
  },
  {
   "cell_type": "code",
<<<<<<< HEAD
   "execution_count": 145,
=======
   "execution_count": 89,
>>>>>>> f728e8e3932a5fa9ce7fc81c8c83776515620870
   "metadata": {},
   "outputs": [
    {
     "data": {
      "text/html": [
       "<div>\n",
       "<style scoped>\n",
       "    .dataframe tbody tr th:only-of-type {\n",
       "        vertical-align: middle;\n",
       "    }\n",
       "\n",
       "    .dataframe tbody tr th {\n",
       "        vertical-align: top;\n",
       "    }\n",
       "\n",
       "    .dataframe thead th {\n",
       "        text-align: right;\n",
       "    }\n",
       "</style>\n",
       "<table border=\"1\" class=\"dataframe\">\n",
       "  <thead>\n",
       "    <tr style=\"text-align: right;\">\n",
       "      <th></th>\n",
       "      <th>num_examples</th>\n",
       "      <th>perc_examples</th>\n",
       "    </tr>\n",
       "    <tr>\n",
       "      <th>class</th>\n",
       "      <th></th>\n",
       "      <th></th>\n",
       "    </tr>\n",
       "  </thead>\n",
       "  <tbody>\n",
       "    <tr>\n",
<<<<<<< HEAD
       "      <th>1</th>\n",
       "      <td>7891</td>\n",
       "      <td>0.56</td>\n",
       "    </tr>\n",
       "    <tr>\n",
       "      <th>0</th>\n",
       "      <td>4773</td>\n",
=======
       "      <th>0</th>\n",
       "      <td>4824</td>\n",
>>>>>>> f728e8e3932a5fa9ce7fc81c8c83776515620870
       "      <td>0.34</td>\n",
       "    </tr>\n",
       "    <tr>\n",
       "      <th>1</th>\n",
       "      <td>7841</td>\n",
       "      <td>0.56</td>\n",
       "    </tr>\n",
       "    <tr>\n",
       "      <th>-1</th>\n",
<<<<<<< HEAD
       "      <td>1428</td>\n",
=======
       "      <td>1427</td>\n",
>>>>>>> f728e8e3932a5fa9ce7fc81c8c83776515620870
       "      <td>0.10</td>\n",
       "    </tr>\n",
       "  </tbody>\n",
       "</table>\n",
       "</div>"
      ],
      "text/plain": [
       "       num_examples  perc_examples\n",
       "class                             \n",
<<<<<<< HEAD
       " 1             7891           0.56\n",
       " 0             4773           0.34\n",
       "-1             1428           0.10"
      ]
     },
     "execution_count": 145,
=======
       " 0             4824           0.34\n",
       " 1             7841           0.56\n",
       "-1             1427           0.10"
      ]
     },
     "execution_count": 89,
>>>>>>> f728e8e3932a5fa9ce7fc81c8c83776515620870
     "metadata": {},
     "output_type": "execute_result"
    }
   ],
   "source": [
    "class_distribution"
   ]
  },
  {
   "cell_type": "code",
<<<<<<< HEAD
   "execution_count": 146,
=======
   "execution_count": 90,
>>>>>>> f728e8e3932a5fa9ce7fc81c8c83776515620870
   "metadata": {},
   "outputs": [
    {
     "data": {
      "text/plain": [
       "array([1, 1, 1, ..., 1, 1, 1], dtype=int64)"
      ]
     },
<<<<<<< HEAD
     "execution_count": 146,
=======
     "execution_count": 90,
>>>>>>> f728e8e3932a5fa9ce7fc81c8c83776515620870
     "metadata": {},
     "output_type": "execute_result"
    }
   ],
   "source": [
    "maj = DummyClassifier(strategy='most_frequent').fit(X_train_vectorized_tfidf, y_train)\n",
    "predictions_valid = maj.predict(X_valid_vectorized_tfidf)\n",
    "predictions_valid"
   ]
  },
  {
   "cell_type": "code",
<<<<<<< HEAD
   "execution_count": 147,
=======
   "execution_count": 91,
>>>>>>> f728e8e3932a5fa9ce7fc81c8c83776515620870
   "metadata": {},
   "outputs": [
    {
     "data": {
      "text/plain": [
       "1"
      ]
     },
<<<<<<< HEAD
     "execution_count": 147,
=======
     "execution_count": 91,
>>>>>>> f728e8e3932a5fa9ce7fc81c8c83776515620870
     "metadata": {},
     "output_type": "execute_result"
    }
   ],
   "source": [
    "import numpy as np \n",
    "\n",
    "maj_class = (class_distribution.index[class_distribution.perc_examples ==\n",
    "                                      np.amax(class_distribution.perc_examples)][0])\n",
    "maj_class"
   ]
  },
  {
   "cell_type": "markdown",
   "metadata": {},
   "source": [
    "Cela signifie que la classe 1 est la classe majoritaire dans nos données d'entraînement."
   ]
  },
  {
   "cell_type": "code",
<<<<<<< HEAD
   "execution_count": 148,
=======
   "execution_count": 92,
>>>>>>> f728e8e3932a5fa9ce7fc81c8c83776515620870
   "metadata": {},
   "outputs": [
    {
     "data": {
      "text/plain": [
       "True"
      ]
     },
<<<<<<< HEAD
     "execution_count": 148,
=======
     "execution_count": 92,
>>>>>>> f728e8e3932a5fa9ce7fc81c8c83776515620870
     "metadata": {},
     "output_type": "execute_result"
    }
   ],
   "source": [
    "np.all(predictions_valid == maj_class)"
   ]
  },
  {
   "cell_type": "markdown",
   "metadata": {},
   "source": [
    "Cala confirme que toutes les prédictions faites par le DummyClassifier avec la stratégie most_frequent sont identiques et correspondent systématiquement à la classe majoritaire (1) des données d'entraînement"
   ]
  },
  {
   "cell_type": "code",
<<<<<<< HEAD
   "execution_count": 149,
=======
   "execution_count": 93,
>>>>>>> f728e8e3932a5fa9ce7fc81c8c83776515620870
   "metadata": {},
   "outputs": [
    {
     "data": {
      "text/plain": [
<<<<<<< HEAD
       "0.5606017598637525"
      ]
     },
     "execution_count": 149,
=======
       "0.5668464376951462"
      ]
     },
     "execution_count": 93,
>>>>>>> f728e8e3932a5fa9ce7fc81c8c83776515620870
     "metadata": {},
     "output_type": "execute_result"
    }
   ],
   "source": [
    "maj.score(X_valid_vectorized_tfidf, y_valid)"
   ]
  },
  {
   "cell_type": "markdown",
   "metadata": {},
   "source": [
    "Ce modèle a correctement prédit environ 56.68% des cas dans l'ensemble de validation. Il est fortement influencée par la distribution déséquilibrée des classes dans les données."
   ]
  },
  {
   "cell_type": "code",
<<<<<<< HEAD
   "execution_count": 150,
=======
   "execution_count": 94,
>>>>>>> f728e8e3932a5fa9ce7fc81c8c83776515620870
   "metadata": {},
   "outputs": [
    {
     "name": "stdout",
     "output_type": "stream",
     "text": [
      "              precision    recall  f1-score   support\n",
      "\n",
<<<<<<< HEAD
      "          -1       0.00      0.00      0.00       354\n",
      "           0       0.00      0.00      0.00      1194\n",
      "           1       0.56      1.00      0.72      1975\n",
      "\n",
      "    accuracy                           0.56      3523\n",
      "   macro avg       0.19      0.33      0.24      3523\n",
      "weighted avg       0.31      0.56      0.40      3523\n",
=======
      "          -1       0.00      0.00      0.00       347\n",
      "           0       0.00      0.00      0.00      1179\n",
      "           1       0.57      1.00      0.72      1997\n",
      "\n",
      "    accuracy                           0.57      3523\n",
      "   macro avg       0.19      0.33      0.24      3523\n",
      "weighted avg       0.32      0.57      0.41      3523\n",
>>>>>>> f728e8e3932a5fa9ce7fc81c8c83776515620870
      "\n"
     ]
    },
    {
     "name": "stderr",
     "output_type": "stream",
     "text": [
      "c:\\Users\\orian\\anaconda3\\Lib\\site-packages\\sklearn\\metrics\\_classification.py:1469: UndefinedMetricWarning: Precision and F-score are ill-defined and being set to 0.0 in labels with no predicted samples. Use `zero_division` parameter to control this behavior.\n",
      "  _warn_prf(average, modifier, msg_start, len(result))\n",
      "c:\\Users\\orian\\anaconda3\\Lib\\site-packages\\sklearn\\metrics\\_classification.py:1469: UndefinedMetricWarning: Precision and F-score are ill-defined and being set to 0.0 in labels with no predicted samples. Use `zero_division` parameter to control this behavior.\n",
      "  _warn_prf(average, modifier, msg_start, len(result))\n",
      "c:\\Users\\orian\\anaconda3\\Lib\\site-packages\\sklearn\\metrics\\_classification.py:1469: UndefinedMetricWarning: Precision and F-score are ill-defined and being set to 0.0 in labels with no predicted samples. Use `zero_division` parameter to control this behavior.\n",
      "  _warn_prf(average, modifier, msg_start, len(result))\n"
     ]
    }
   ],
   "source": [
    "print(classification_report(y_valid, predictions_valid))"
   ]
  },
  {
   "cell_type": "markdown",
   "metadata": {},
   "source": [
    "### Classifieur naïf bayésien"
   ]
  },
  {
   "cell_type": "markdown",
   "metadata": {},
   "source": [
    "Ce modèle est souvent utilisé dans la classification d'avis. Il fonctionne bien avec des caractéristiques discrètes comme les comptages de mots ou les fréquences de termes (TF-IDF) dans les documents."
   ]
  },
  {
   "cell_type": "code",
<<<<<<< HEAD
   "execution_count": 151,
=======
   "execution_count": 95,
>>>>>>> f728e8e3932a5fa9ce7fc81c8c83776515620870
   "metadata": {},
   "outputs": [],
   "source": [
    "from sklearn.naive_bayes import MultinomialNB"
   ]
  },
  {
   "cell_type": "code",
<<<<<<< HEAD
   "execution_count": 152,
=======
   "execution_count": 96,
>>>>>>> f728e8e3932a5fa9ce7fc81c8c83776515620870
   "metadata": {},
   "outputs": [],
   "source": [
    "model_nb = MultinomialNB().fit(X_train_vectorized_tfidf, y_train) # modele de classification naive bayesienne multinomiale\n",
    "predictions_valid = model_nb.predict(X_valid_vectorized_tfidf)"
   ]
  },
  {
   "cell_type": "code",
<<<<<<< HEAD
   "execution_count": 153,
=======
   "execution_count": 97,
>>>>>>> f728e8e3932a5fa9ce7fc81c8c83776515620870
   "metadata": {},
   "outputs": [
    {
     "data": {
      "text/plain": [
<<<<<<< HEAD
       "0.68379222253761"
      ]
     },
     "execution_count": 153,
=======
       "0.6968492761850695"
      ]
     },
     "execution_count": 97,
>>>>>>> f728e8e3932a5fa9ce7fc81c8c83776515620870
     "metadata": {},
     "output_type": "execute_result"
    }
   ],
   "source": [
    "accuracy_score(y_valid, predictions_valid)"
   ]
  },
  {
   "cell_type": "markdown",
   "metadata": {},
   "source": [
    "Un score de précision de 0.6968 signifie que le modèle a correctement prédit environ 69.68% des étiquettes de l'ensemble de validation."
   ]
  },
  {
   "cell_type": "code",
<<<<<<< HEAD
   "execution_count": 154,
=======
   "execution_count": 98,
>>>>>>> f728e8e3932a5fa9ce7fc81c8c83776515620870
   "metadata": {},
   "outputs": [
    {
     "name": "stdout",
     "output_type": "stream",
     "text": [
      "              precision    recall  f1-score   support\n",
      "\n",
<<<<<<< HEAD
      "          -1       0.73      0.02      0.04       354\n",
      "           0       0.58      0.44      0.50      1194\n",
      "           1       0.72      0.95      0.82      1975\n",
      "\n",
      "    accuracy                           0.68      3523\n",
      "   macro avg       0.67      0.47      0.45      3523\n",
      "weighted avg       0.67      0.68      0.63      3523\n",
=======
      "          -1       0.50      0.01      0.03       347\n",
      "           0       0.60      0.48      0.53      1179\n",
      "           1       0.73      0.95      0.83      1997\n",
      "\n",
      "    accuracy                           0.70      3523\n",
      "   macro avg       0.61      0.48      0.46      3523\n",
      "weighted avg       0.67      0.70      0.65      3523\n",
>>>>>>> f728e8e3932a5fa9ce7fc81c8c83776515620870
      "\n"
     ]
    }
   ],
   "source": [
    "print(classification_report(y_valid, predictions_valid))"
   ]
  },
  {
   "cell_type": "markdown",
   "metadata": {},
   "source": [
    "### Régression logistique"
   ]
  },
  {
   "cell_type": "markdown",
   "metadata": {},
   "source": [
    "Ce modèle est adapté aux problèmes de classification multi-classes. "
   ]
  },
  {
   "cell_type": "code",
<<<<<<< HEAD
   "execution_count": 155,
=======
   "execution_count": 99,
>>>>>>> f728e8e3932a5fa9ce7fc81c8c83776515620870
   "metadata": {},
   "outputs": [],
   "source": [
    "from sklearn.linear_model import LogisticRegression"
   ]
  },
  {
   "cell_type": "code",
<<<<<<< HEAD
   "execution_count": 156,
=======
   "execution_count": 100,
>>>>>>> f728e8e3932a5fa9ce7fc81c8c83776515620870
   "metadata": {},
   "outputs": [
    {
     "name": "stderr",
     "output_type": "stream",
     "text": [
      "c:\\Users\\orian\\anaconda3\\Lib\\site-packages\\sklearn\\linear_model\\_logistic.py:460: ConvergenceWarning: lbfgs failed to converge (status=1):\n",
      "STOP: TOTAL NO. of ITERATIONS REACHED LIMIT.\n",
      "\n",
      "Increase the number of iterations (max_iter) or scale the data as shown in:\n",
      "    https://scikit-learn.org/stable/modules/preprocessing.html\n",
      "Please also refer to the documentation for alternative solver options:\n",
      "    https://scikit-learn.org/stable/modules/linear_model.html#logistic-regression\n",
      "  n_iter_i = _check_optimize_result(\n"
     ]
    }
   ],
   "source": [
    "model_lr = LogisticRegression(multi_class='multinomial', # problèmes de classification avec plus de deux classes\n",
    "                               solver='lbfgs', # algorithme d'optimisation\n",
    "                              max_iter=200).fit(X_train_vectorized_count, y_train) "
   ]
  },
  {
   "cell_type": "code",
<<<<<<< HEAD
   "execution_count": 157,
=======
   "execution_count": 101,
>>>>>>> f728e8e3932a5fa9ce7fc81c8c83776515620870
   "metadata": {},
   "outputs": [],
   "source": [
    "predictions_valid = model_lr.predict(X_valid_vectorized_count)"
   ]
  },
  {
   "cell_type": "code",
<<<<<<< HEAD
   "execution_count": 158,
=======
   "execution_count": 102,
>>>>>>> f728e8e3932a5fa9ce7fc81c8c83776515620870
   "metadata": {},
   "outputs": [
    {
     "data": {
      "text/plain": [
<<<<<<< HEAD
       "0.6854953164916264"
      ]
     },
     "execution_count": 158,
=======
       "0.7013908600624468"
      ]
     },
     "execution_count": 102,
>>>>>>> f728e8e3932a5fa9ce7fc81c8c83776515620870
     "metadata": {},
     "output_type": "execute_result"
    }
   ],
   "source": [
    "accuracy_score(y_valid, predictions_valid)"
   ]
  },
  {
   "cell_type": "markdown",
   "metadata": {},
   "source": [
    "Un score d'environ 70.14% est assez bon, indiquant que le modèle de régression logistique est capable de capturer efficacement les relations entre les caractéristiques des données et les classes d'avis."
   ]
  },
  {
   "cell_type": "code",
<<<<<<< HEAD
   "execution_count": 159,
=======
   "execution_count": 103,
>>>>>>> f728e8e3932a5fa9ce7fc81c8c83776515620870
   "metadata": {},
   "outputs": [
    {
     "name": "stdout",
     "output_type": "stream",
     "text": [
      "              precision    recall  f1-score   support\n",
      "\n",
<<<<<<< HEAD
      "          -1       0.51      0.43      0.47       354\n",
      "           0       0.56      0.53      0.54      1194\n",
      "           1       0.78      0.83      0.80      1975\n",
      "\n",
      "    accuracy                           0.69      3523\n",
      "   macro avg       0.62      0.59      0.60      3523\n",
      "weighted avg       0.68      0.69      0.68      3523\n",
=======
      "          -1       0.58      0.48      0.52       347\n",
      "           0       0.58      0.54      0.56      1179\n",
      "           1       0.78      0.83      0.81      1997\n",
      "\n",
      "    accuracy                           0.70      3523\n",
      "   macro avg       0.65      0.62      0.63      3523\n",
      "weighted avg       0.69      0.70      0.70      3523\n",
>>>>>>> f728e8e3932a5fa9ce7fc81c8c83776515620870
      "\n"
     ]
    }
   ],
   "source": [
    "print(classification_report(y_valid, predictions_valid))"
   ]
  },
  {
   "cell_type": "markdown",
   "metadata": {},
   "source": [
    "Le score de précision de la régression logistique est légèrement supérieur à celui obtenu avec le classifieur Naïf Bayésien Multinomial, suggérant que la régression logistique peut être légèrement plus adaptée à nos données."
   ]
  },
  {
   "cell_type": "markdown",
   "metadata": {},
   "source": [
    "### SVM (Support Vector Machine)"
   ]
  },
  {
   "cell_type": "code",
   "execution_count": 160,
   "metadata": {},
   "outputs": [],
   "source": [
    "from sklearn.svm import SVC\n",
    "model_svm = SVC(kernel='linear').fit(X_train_vectorized_count, y_train)\n",
    "predictions_valid_svm = model_svm.predict(X_valid_vectorized_count)\n",
    "\n"
   ]
  },
  {
   "cell_type": "code",
   "execution_count": 108,
   "metadata": {},
   "outputs": [
    {
     "data": {
      "text/plain": [
       "0.6815214305989213"
      ]
     },
     "execution_count": 108,
     "metadata": {},
     "output_type": "execute_result"
    }
   ],
   "source": [
    "accuracy_score(y_valid, predictions_valid_svm)"
   ]
  },
  {
   "cell_type": "markdown",
   "metadata": {},
   "source": [
    "### Random Forest"
   ]
  },
  {
   "cell_type": "code",
   "execution_count": 109,
   "metadata": {},
   "outputs": [],
   "source": [
    "from sklearn.ensemble import RandomForestClassifier\n",
    "model_rf = RandomForestClassifier(n_estimators=100, random_state=0).fit(X_train_vectorized_count, y_train)\n",
    "predictions_valid_rf = model_rf.predict(X_valid_vectorized_count)"
   ]
  },
  {
   "cell_type": "code",
   "execution_count": 110,
   "metadata": {},
   "outputs": [
    {
     "data": {
      "text/plain": [
       "0.6781152426908884"
      ]
     },
     "execution_count": 110,
     "metadata": {},
     "output_type": "execute_result"
    }
   ],
   "source": [
    "accuracy_score(y_valid, predictions_valid_rf)"
   ]
  },
  {
   "cell_type": "markdown",
   "metadata": {},
   "source": [
    "### XGBoost"
   ]
  },
  {
   "cell_type": "code",
   "execution_count": 112,
   "metadata": {},
   "outputs": [
    {
     "ename": "ValueError",
     "evalue": "Invalid classes inferred from unique values of `y`.  Expected: [0 1 2], got [-1  0  1]",
     "output_type": "error",
     "traceback": [
      "\u001b[1;31m---------------------------------------------------------------------------\u001b[0m",
      "\u001b[1;31mValueError\u001b[0m                                Traceback (most recent call last)",
      "Cell \u001b[1;32mIn[112], line 3\u001b[0m\n\u001b[0;32m      1\u001b[0m \u001b[38;5;28;01mfrom\u001b[39;00m \u001b[38;5;21;01mxgboost\u001b[39;00m \u001b[38;5;28;01mimport\u001b[39;00m XGBClassifier\n\u001b[1;32m----> 3\u001b[0m model_xgb \u001b[38;5;241m=\u001b[39m XGBClassifier()\u001b[38;5;241m.\u001b[39mfit(X_train_vectorized_count, y_train)\n\u001b[0;32m      4\u001b[0m predictions_valid_xgb \u001b[38;5;241m=\u001b[39m model_xgb\u001b[38;5;241m.\u001b[39mpredict(X_valid_vectorized_count)\n",
      "File \u001b[1;32mc:\\Users\\orian\\anaconda3\\Lib\\site-packages\\xgboost\\core.py:729\u001b[0m, in \u001b[0;36mrequire_keyword_args.<locals>.throw_if.<locals>.inner_f\u001b[1;34m(*args, **kwargs)\u001b[0m\n\u001b[0;32m    727\u001b[0m \u001b[38;5;28;01mfor\u001b[39;00m k, arg \u001b[38;5;129;01min\u001b[39;00m \u001b[38;5;28mzip\u001b[39m(sig\u001b[38;5;241m.\u001b[39mparameters, args):\n\u001b[0;32m    728\u001b[0m     kwargs[k] \u001b[38;5;241m=\u001b[39m arg\n\u001b[1;32m--> 729\u001b[0m \u001b[38;5;28;01mreturn\u001b[39;00m func(\u001b[38;5;241m*\u001b[39m\u001b[38;5;241m*\u001b[39mkwargs)\n",
      "File \u001b[1;32mc:\\Users\\orian\\anaconda3\\Lib\\site-packages\\xgboost\\sklearn.py:1467\u001b[0m, in \u001b[0;36mXGBClassifier.fit\u001b[1;34m(self, X, y, sample_weight, base_margin, eval_set, eval_metric, early_stopping_rounds, verbose, xgb_model, sample_weight_eval_set, base_margin_eval_set, feature_weights, callbacks)\u001b[0m\n\u001b[0;32m   1462\u001b[0m     expected_classes \u001b[38;5;241m=\u001b[39m \u001b[38;5;28mself\u001b[39m\u001b[38;5;241m.\u001b[39mclasses_\n\u001b[0;32m   1463\u001b[0m \u001b[38;5;28;01mif\u001b[39;00m (\n\u001b[0;32m   1464\u001b[0m     classes\u001b[38;5;241m.\u001b[39mshape \u001b[38;5;241m!=\u001b[39m expected_classes\u001b[38;5;241m.\u001b[39mshape\n\u001b[0;32m   1465\u001b[0m     \u001b[38;5;129;01mor\u001b[39;00m \u001b[38;5;129;01mnot\u001b[39;00m (classes \u001b[38;5;241m==\u001b[39m expected_classes)\u001b[38;5;241m.\u001b[39mall()\n\u001b[0;32m   1466\u001b[0m ):\n\u001b[1;32m-> 1467\u001b[0m     \u001b[38;5;28;01mraise\u001b[39;00m \u001b[38;5;167;01mValueError\u001b[39;00m(\n\u001b[0;32m   1468\u001b[0m         \u001b[38;5;124mf\u001b[39m\u001b[38;5;124m\"\u001b[39m\u001b[38;5;124mInvalid classes inferred from unique values of `y`.  \u001b[39m\u001b[38;5;124m\"\u001b[39m\n\u001b[0;32m   1469\u001b[0m         \u001b[38;5;124mf\u001b[39m\u001b[38;5;124m\"\u001b[39m\u001b[38;5;124mExpected: \u001b[39m\u001b[38;5;132;01m{\u001b[39;00mexpected_classes\u001b[38;5;132;01m}\u001b[39;00m\u001b[38;5;124m, got \u001b[39m\u001b[38;5;132;01m{\u001b[39;00mclasses\u001b[38;5;132;01m}\u001b[39;00m\u001b[38;5;124m\"\u001b[39m\n\u001b[0;32m   1470\u001b[0m     )\n\u001b[0;32m   1472\u001b[0m params \u001b[38;5;241m=\u001b[39m \u001b[38;5;28mself\u001b[39m\u001b[38;5;241m.\u001b[39mget_xgb_params()\n\u001b[0;32m   1474\u001b[0m \u001b[38;5;28;01mif\u001b[39;00m \u001b[38;5;28mcallable\u001b[39m(\u001b[38;5;28mself\u001b[39m\u001b[38;5;241m.\u001b[39mobjective):\n",
      "\u001b[1;31mValueError\u001b[0m: Invalid classes inferred from unique values of `y`.  Expected: [0 1 2], got [-1  0  1]"
     ]
    }
   ],
   "source": [
    "from xgboost import XGBClassifier\n",
    "\n",
    "model_xgb = XGBClassifier().fit(X_train_vectorized_count, y_train)\n",
    "predictions_valid_xgb = model_xgb.predict(X_valid_vectorized_count)\n",
    "\n"
   ]
  },
  {
   "cell_type": "code",
   "execution_count": null,
   "metadata": {},
   "outputs": [],
   "source": [
    "accuracy_score(y_valid, predictions_valid_xgb)"
   ]
  },
  {
   "cell_type": "markdown",
   "metadata": {},
   "source": [
    "## Analyse des Caractéristiques Fortement Associées par Classe"
   ]
  },
  {
   "cell_type": "markdown",
   "metadata": {},
   "source": [
    "La fonction ci-dessous analyse et affiche les n caractéristiques les plus fortement associées, à la fois positivement et négativement, avec chaque classe dans un modèle de classification, en utilisant les coefficients du modèle et les noms de caractéristiques fournis par le vectoriseur."
   ]
  },
  {
   "cell_type": "code",
   "execution_count": 104,
   "metadata": {},
   "outputs": [],
   "source": [
    "def print_n_strongly_associated_features(vectoriser, model, n):\n",
    "    feature_names = np.array(vectoriser.get_feature_names_out())\n",
    "\n",
    "    for i in range(3):\n",
    "        class_name = model.classes_[i]\n",
    "        print(\"CLASSE {}\".format(class_name))\n",
    "        idx_coefs_sorted = model.coef_[i].argsort() # ordre croissant\n",
    "        print(\"Les dix variables ayant l'association négative la plus forte \" + \n",
    "              \"avec la classe {} :\\n{}\\n\".format(class_name,\n",
    "                                                 feature_names[idx_coefs_sorted[:n]]))\n",
    "        idx_coefs_sorted = idx_coefs_sorted[::-1] # ordre décroissant\n",
    "        print(\"Les dix variables ayant l'association positive la plus forte \" +\n",
    "              \"avec la classe {} :\\n{}\\n\"\n",
    "              .format(class_name,\n",
    "                      feature_names[idx_coefs_sorted[:n]]))\n",
    "        print()"
   ]
  },
  {
   "cell_type": "markdown",
   "metadata": {},
   "source": [
    "Examinons les variables (termes) ayant l'association la plus forte avec chaque classe."
   ]
  },
  {
   "cell_type": "code",
<<<<<<< HEAD
   "execution_count": 161,
=======
   "execution_count": 105,
>>>>>>> f728e8e3932a5fa9ce7fc81c8c83776515620870
   "metadata": {},
   "outputs": [
    {
     "name": "stdout",
     "output_type": "stream",
     "text": [
      "CLASSE -1\n",
      "Les dix variables ayant l'association négative la plus forte avec la classe -1 :\n",
<<<<<<< HEAD
      "['sold' 'stunning' 'compliments' 'comfortable' 'gorgeous' 'girls' 'wait'\n",
      " 'liner' 'perfectly' 'lovely']\n",
      "\n",
      "Les dix variables ayant l'association positive la plus forte avec la classe -1 :\n",
      "['horrible' 'generally' 'nothing' 'awful' 'taste' 'killer' 'returning'\n",
      " 'poorly' 'disappointing' 'boring']\n",
=======
      "['amazing' 'clingy' 'stunning' 'nan' 'women' 'available' 'highly'\n",
      " 'awesome' 'shot' 'romper']\n",
      "\n",
      "Les dix variables ayant l'association positive la plus forte avec la classe -1 :\n",
      "['bummed' 'weirdly' 'hole' 'disappointed' 'poor' 'thru' 'worse'\n",
      " 'disappointing' 'sooo' 'cheap']\n",
>>>>>>> f728e8e3932a5fa9ce7fc81c8c83776515620870
      "\n",
      "\n",
      "CLASSE 0\n",
      "Les dix variables ayant l'association négative la plus forte avec la classe 0 :\n",
<<<<<<< HEAD
      "['sat' 'sequins' 'holding' 'massive' 'hesitant' 'pic' 'lays' 'thanks' 'hi'\n",
      " '37']\n",
      "\n",
      "Les dix variables ayant l'association positive la plus forte avec la classe 0 :\n",
      "['scrunch' 'ribs' 'settled' 'alterations' 'crotch' 'provided' 'secondly'\n",
      " 'unsure' 'yarn' 'reg']\n",
=======
      "['enormous' 'thus' 'attire' 'spotted' 'regret' 'walk' 'reveal' 'excessive'\n",
      " 'anyone' 'specifically']\n",
      "\n",
      "Les dix variables ayant l'association positive la plus forte avec la classe 0 :\n",
      "['experienced' 'stretches' 'name' 'shift' 'shiny' 'unraveling' 'shrink'\n",
      " 'needless' 'fence' 'altered']\n",
>>>>>>> f728e8e3932a5fa9ce7fc81c8c83776515620870
      "\n",
      "\n",
      "CLASSE 1\n",
      "Les dix variables ayant l'association négative la plus forte avec la classe 1 :\n",
<<<<<<< HEAD
      "['disappointing' 'returning' 'disappointed' 'shame' 'strange' 'scrunch'\n",
      " 'taste' 'shrunk' 'crotch' 'suited']\n",
      "\n",
      "Les dix variables ayant l'association positive la plus forte avec la classe 1 :\n",
      "['amazing' 'hesitant' 'word' 'stunning' 'stop' 'clings' 'highly' 'chic'\n",
      " 'flatters' 'perfectly']\n",
=======
      "['endowed' 'defective' 'shrunk' 'experienced' 'bummed' 'disappointed'\n",
      " 'blah' 'cheap' 'huge' 'width']\n",
      "\n",
      "Les dix variables ayant l'association positive la plus forte avec la classe 1 :\n",
      "['accurate' 'heat' 'shot' 'amazing' 'highly' 'spotted' 'perfection'\n",
      " 'anyway' 'imho' 'perfectly']\n",
>>>>>>> f728e8e3932a5fa9ce7fc81c8c83776515620870
      "\n",
      "\n"
     ]
    }
   ],
   "source": [
    "print_n_strongly_associated_features(vect_count, model_lr, 10)"
   ]
  },
  {
   "cell_type": "markdown",
   "metadata": {},
   "source": [
    "COMMENTAIRE A METTRE"
   ]
  },
  {
   "cell_type": "code",
<<<<<<< HEAD
   "execution_count": 162,
=======
   "execution_count": 106,
>>>>>>> f728e8e3932a5fa9ce7fc81c8c83776515620870
   "metadata": {},
   "outputs": [
    {
     "name": "stderr",
     "output_type": "stream",
     "text": [
      "c:\\Users\\orian\\anaconda3\\Lib\\site-packages\\sklearn\\linear_model\\_logistic.py:460: ConvergenceWarning: lbfgs failed to converge (status=1):\n",
      "STOP: TOTAL NO. of ITERATIONS REACHED LIMIT.\n",
      "\n",
      "Increase the number of iterations (max_iter) or scale the data as shown in:\n",
      "    https://scikit-learn.org/stable/modules/preprocessing.html\n",
      "Please also refer to the documentation for alternative solver options:\n",
      "    https://scikit-learn.org/stable/modules/linear_model.html#logistic-regression\n",
      "  n_iter_i = _check_optimize_result(\n"
     ]
    }
   ],
   "source": [
    "model_lr = LogisticRegression(multi_class='multinomial',\n",
    "                              solver='lbfgs').fit(X_train_vectorized_tfidf, y_train)\n",
    "predictions_valid = model_lr.predict(X_valid_vectorized_tfidf)"
   ]
  },
  {
   "cell_type": "code",
   "execution_count": 163,
   "metadata": {},
   "outputs": [
    {
     "data": {
      "text/plain": [
       "0.7189894975872836"
      ]
     },
     "execution_count": 163,
     "metadata": {},
     "output_type": "execute_result"
    }
   ],
   "source": [
    "accuracy_score(y_valid, predictions_valid)"
   ]
  },
  {
   "cell_type": "code",
   "execution_count": 164,
   "metadata": {},
   "outputs": [
    {
     "name": "stdout",
     "output_type": "stream",
     "text": [
      "              precision    recall  f1-score   support\n",
      "\n",
      "          -1       0.62      0.34      0.44       354\n",
      "           0       0.61      0.57      0.59      1194\n",
      "           1       0.79      0.87      0.83      1975\n",
      "\n",
      "    accuracy                           0.72      3523\n",
      "   macro avg       0.67      0.60      0.62      3523\n",
      "weighted avg       0.71      0.72      0.71      3523\n",
      "\n"
     ]
    }
   ],
   "source": [
    "print(classification_report(y_valid, predictions_valid))"
   ]
  },
  {
   "cell_type": "code",
   "execution_count": 165,
   "metadata": {},
   "outputs": [
    {
     "name": "stdout",
     "output_type": "stream",
     "text": [
      "TF-IDF le moins élevé : ['pros' 'secondly' 'cons' 'thi' 'xspetite' 'rigid' 'wi' 'lastly'\n",
      " 'naturally' 'speaking']\n",
      "TF-IDF le plus élevé : ['nan' 'amp' 'structure' 'ribbed' 'dolman' 'comfort' 'simple' 'lacey'\n",
      " 'awesome' 'cute']\n"
     ]
    }
   ],
   "source": [
    "feature_names = np.array(vect_tfidf.get_feature_names_out())\n",
    "idx_tfidf_sorted = X_train_vectorized_tfidf.max(0).toarray()[0].argsort()\n",
    "print(\"TF-IDF le moins élevé : {}\".format(feature_names[idx_tfidf_sorted[:10]]))\n",
    "print(\"TF-IDF le plus élevé : {}\".format(feature_names[idx_tfidf_sorted[:-11:-1]]))"
   ]
  },
  {
   "cell_type": "markdown",
   "metadata": {},
   "source": [
    "Nous faisons avec les mêmes paramètres mais avec le vectoriseur à unigrammes et bigrammes."
   ]
  },
  {
   "cell_type": "code",
   "execution_count": 166,
   "metadata": {},
   "outputs": [],
   "source": [
    "model_lr = LogisticRegression(multi_class='multinomial', solver='lbfgs',max_iter=500).fit(X_train_vectorized_count_bigrams, y_train)\n",
    "predictions_valid = model_lr.predict(X_valid_vectorized_count_bigrams)"
   ]
  },
  {
   "cell_type": "code",
   "execution_count": 167,
   "metadata": {},
   "outputs": [
    {
     "data": {
      "text/plain": [
       "0.6979846721544138"
      ]
     },
     "execution_count": 167,
     "metadata": {},
     "output_type": "execute_result"
    }
   ],
   "source": [
    "accuracy_score(y_valid, predictions_valid)"
   ]
  },
  {
   "cell_type": "code",
   "execution_count": 168,
   "metadata": {},
   "outputs": [
    {
     "name": "stdout",
     "output_type": "stream",
     "text": [
      "              precision    recall  f1-score   support\n",
      "\n",
      "          -1       0.54      0.40      0.46       354\n",
      "           0       0.57      0.56      0.57      1194\n",
      "           1       0.79      0.84      0.81      1975\n",
      "\n",
      "    accuracy                           0.70      3523\n",
      "   macro avg       0.63      0.60      0.61      3523\n",
      "weighted avg       0.69      0.70      0.69      3523\n",
      "\n"
     ]
    }
   ],
   "source": [
    "print(classification_report(y_valid, predictions_valid))"
   ]
  },
  {
   "cell_type": "code",
   "execution_count": 169,
   "metadata": {},
   "outputs": [
    {
     "name": "stdout",
     "output_type": "stream",
     "text": [
      "CLASSE -1\n",
      "Les dix variables ayant l'association négative la plus forte avec la classe -1 :\n",
      "['comfortable' 'super cute' 'beautiful' 'nan' 'comfy' 'lovely' 'soft'\n",
      " 'great' 'love this' 'tee']\n",
      "\n",
      "Les dix variables ayant l'association positive la plus forte avec la classe -1 :\n",
      "['to love' 'unflattering' 'shapeless' 'returning' 'cheap' 'generally'\n",
      " 'disappointed' 'nothing' 'weird' 'ordered an']\n",
      "\n",
      "\n",
      "CLASSE 0\n",
      "Les dix variables ayant l'association négative la plus forte avec la classe 0 :\n",
      "['tad big' 'amazing' 'do think' 'ordered an' 'big so' 'so comfy'\n",
      " 'too snug' 'shapeless' 'such' 'into the']\n",
      "\n",
      "Les dix variables ayant l'association positive la plus forte avec la classe 0 :\n",
      "['extra small' 'top very' 'piece is' 'keeping' 'as other' 'gray and'\n",
      " 'much bought' 'cool summer' 'great but' 'can work']\n",
      "\n",
      "\n",
      "CLASSE 1\n",
      "Les dix variables ayant l'association négative la plus forte avec la classe 1 :\n",
      "['to love' 'not flattering' 'returning' 'disappointed' 'cute but'\n",
      " 'going back' 'top very' 'frumpy' 'returned' 'thin and']\n",
      "\n",
      "Les dix variables ayant l'association positive la plus forte avec la classe 1 :\n",
      "['amazing' 'stunning' 'perfectly' 'comfortable' 'beautiful' 'large but'\n",
      " 'awesome' 'tad big' 'perfect' 'gorgeous']\n",
      "\n",
      "\n"
     ]
    }
   ],
   "source": [
    "print_n_strongly_associated_features(vect_count_bigrams, model_lr, 10)"
   ]
  },
  {
   "cell_type": "markdown",
   "metadata": {},
   "source": [
    "### SVM"
   ]
  },
  {
   "cell_type": "code",
   "execution_count": 170,
   "metadata": {},
   "outputs": [],
   "source": [
    "from sklearn.svm import SVC"
   ]
  },
  {
   "cell_type": "code",
   "execution_count": 171,
   "metadata": {},
   "outputs": [],
   "source": [
    "model_svm = SVC(kernel='linear', C=0.1).fit(X_train_vectorized_count_bigrams, y_train)\n",
    "predictions_valid = model_svm.predict(X_valid_vectorized_count_bigrams)"
   ]
  },
  {
   "cell_type": "code",
   "execution_count": 172,
   "metadata": {},
   "outputs": [
    {
     "data": {
      "text/plain": [
       "0.698552370139086"
      ]
     },
     "execution_count": 172,
     "metadata": {},
     "output_type": "execute_result"
    }
   ],
   "source": [
    "accuracy_score(y_valid, predictions_valid)"
   ]
  },
  {
   "cell_type": "code",
   "execution_count": 173,
   "metadata": {},
   "outputs": [
    {
     "name": "stdout",
     "output_type": "stream",
     "text": [
      "              precision    recall  f1-score   support\n",
      "\n",
      "          -1       0.47      0.44      0.46       354\n",
      "           0       0.59      0.53      0.56      1194\n",
      "           1       0.79      0.85      0.82      1975\n",
      "\n",
      "    accuracy                           0.70      3523\n",
      "   macro avg       0.62      0.61      0.61      3523\n",
      "weighted avg       0.69      0.70      0.69      3523\n",
      "\n"
     ]
    }
   ],
   "source": [
    "print(classification_report(y_valid, predictions_valid))"
   ]
  }
 ],
 "metadata": {
  "kernelspec": {
   "display_name": "base",
   "language": "python",
   "name": "python3"
  },
  "language_info": {
   "codemirror_mode": {
    "name": "ipython",
    "version": 3
   },
   "file_extension": ".py",
   "mimetype": "text/x-python",
   "name": "python",
   "nbconvert_exporter": "python",
   "pygments_lexer": "ipython3",
   "version": "3.11.4"
  }
 },
 "nbformat": 4,
 "nbformat_minor": 2
}
